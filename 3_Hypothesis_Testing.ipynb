{
 "metadata": {
  "language_info": {
   "codemirror_mode": {
    "name": "ipython",
    "version": 3
   },
   "file_extension": ".py",
   "mimetype": "text/x-python",
   "name": "python",
   "nbconvert_exporter": "python",
   "pygments_lexer": "ipython3",
   "version": "3.8.5"
  },
  "orig_nbformat": 2,
  "kernelspec": {
   "name": "python385jvsc74a57bd037543a14e6adaac14a612db79de403d88c243d9d23015f6fba6e8434414d9b9c",
   "display_name": "Python 3.8.5 64-bit ('base': conda)"
  }
 },
 "nbformat": 4,
 "nbformat_minor": 2,
 "cells": [
  {
   "source": [
    "%%html\n",
    "<style>\n",
    "table {float:left}\n",
    "</style>"
   ],
   "cell_type": "markdown",
   "metadata": {}
  },
  {
   "source": [
    "# Statistics Hypothesis Testing.\n",
    "\n",
    "## Overview\n",
    "\n",
    "1. [Hypothesis testing](#1)<br>\n",
    "1.1. [Test for the mean. Population variance known.](#11)<br>\n",
    "1.2. [Test for the mean. Population variance unknown.](#12)<br>\n",
    "1.3. [Test the mean. Dependent Samples.](#13)<br>\n",
    "1.4. [Test for two means. Independent samples, variance known.](#14)<br>\n",
    "1.5. [Testing of two means. Independent samples, variances unknown but assumed to be equal.](#15)<br>\n",
    "2. [Practical Example. Hypothesis Testing.](#2)<br>\n",
    "2.1. [Global gender pay gap hypothesis testing.](#21)<br>\n",
    "2.2. [Global gender pay gap excl. outliers hypothesis testing.](#22)<br>\n",
    "2.3. [Gender pay gap in IT department excl. outliers hypothesis testing.](#23)<br>"
   ],
   "cell_type": "markdown",
   "metadata": {}
  },
  {
   "cell_type": "code",
   "execution_count": 2,
   "metadata": {},
   "outputs": [],
   "source": [
    "# importing packages\n",
    "import matplotlib.pyplot as plt\n",
    "from matplotlib.ticker import PercentFormatter\n",
    "import pandas as pd \n",
    "import seaborn as sns\n",
    "import numpy as np\n",
    "import math\n",
    "import warnings\n",
    "from scipy import stats\n",
    "warnings.filterwarnings(\"ignore\")\n",
    "sns.set(style = 'whitegrid')\n",
    "%matplotlib inline"
   ]
  },
  {
   "source": [
    "***\n",
    "## <a class=\"anchor\" id=\"1\">Part 1: Hypothesis testing</a>"
   ],
   "cell_type": "markdown",
   "metadata": {}
  },
  {
   "source": [
    "| Word |  | Definition |\n",
    "| :- | :-: | :- |\n",
    "| hypothesis | - | Loosely, a hypothesis is 'an idea that can be tested' |\n",
    "| hypothesis test | - | A test that is conducted in order to verify if a hypothesis is true or false. |\n",
    "| null hypothesis | - | The null hypothesis is the one to be tested. Whenever we are conducting a test, we are trying to reject the null hypothesis. |\n",
    "| alternative hypothesis | - | The alternative hypothesis is the opposite of the null. It is usually the opinion of the researcher, as he is trying to reject the null hypothesis and thus accept the alternative one. |\n",
    "| to accept a hypothesis | - | The statistical evidence shows that the hypothesis is likely to be true. |\n",
    "| to reject a hypothesis | - | The statistical evidence shows that the hypothesis is likely to be false. |\n",
    "| one-tailed (one-sided) test | - | Tests which determine if a value is lower (or equal) or higher (or equal) to a certain value are one-sided. This is because they can only be rejected on one side. |\n",
    "| two-tailed (two-sided) test | - | Tests which determine if a value is equal (or different) to a certain value are two-sided. This is because they can be rejected on two sides - if the parameter is too big or too small. |\n",
    "| significance level | - | The probability of rejecting the null hypothesis, if it is true. Denoted α. You choose the significance level. All else equal, the lower the level, the better the test. |\n",
    "| rejection region | - | The part of the distribution, for which we would reject the null hypothesis. |\n",
    "| type I error (false positive) | - | This error consists of rejecting a null hypothesis that is true. The probability of committing it is α, the significance level. |\n",
    "| type II error (false negative) | - | This error consists of accepting a null hypothesis that is false. The probability of committing it is β. |\n",
    "| power of the test | - | Probability of rejecting a null hypothesis that is false (the researcher's goal). Denoted by 1- β. |\n",
    "| z-score | - | The standardized variable associated with the dataset we are testing. It is observed in the table with an α equal to the level of significance of the test. |\n",
    "| μ0 | - | The hypothesized population mean. |\n",
    "| p-value | - | The smallest level of significance at which we can still reject the null hypothesis given the observed sample statistic. |\n",
    "| email open rate | - | A measure of how many people on an email list actually open the emails they have received. |\n"
   ],
   "cell_type": "markdown",
   "metadata": {}
  },
  {
   "source": [
    "### Equations\n",
    "| Name | Equation | Explanation |\n",
    "| :- | :- | :- |\n",
    "| Z-score | Z = x̄ - H0 / σ/ sqrt(n)  | sample mean minus the value from null hypothesis divided by the standard error |\n",
    "| p-value one sided | p = 1-number from the table  | 1 - zv value from z score table |\n",
    "| p-value two sided | p = (1-number from the table)*2  | 1 - zv value from z score table multiplied by two |"
   ],
   "cell_type": "markdown",
   "metadata": {}
  },
  {
   "source": [
    "### <a class=\"anchor\" id=\"11\">Part 1.1: Test for the mean. Population variance known.</a>\n"
   ],
   "cell_type": "markdown",
   "metadata": {}
  },
  {
   "source": [
    "'''\n",
    "Test for the mean. Population variance known\n",
    "Title: Data scientist salary\n",
    "Background: Is there statistical evidence that mean  Data Scientist salary is $113,000\n",
    "TODO: \n",
    "1. State the hypotheses.\n",
    "Null hypothesis is to assume that mean ds salary = 113k\n",
    "- H0: u0 = 113000\n",
    "- H1: u0 != 113000\n",
    "Two sided hypothesis test\n",
    "2. Determine a significance level to use for the hypothesis.\n",
    "Significance level = .05\n",
    "3. Find the test statistic.\n",
    "4. Reject or fail to reject the null hypothesis.\n",
    "5. Interpret the results. \n",
    "'''\n",
    "# stating null hypothesis\n",
    "H0 = 113000\n",
    "print('Null hypothesis:',H0)\n",
    "# determining a significance level\n",
    "alpha = .05\n",
    "print('Significance level:',alpha)"
   ],
   "cell_type": "code",
   "metadata": {},
   "execution_count": 3,
   "outputs": [
    {
     "output_type": "stream",
     "name": "stdout",
     "text": [
      "Null hypothesis: 113000\nSignificance level: 0.05\n"
     ]
    }
   ]
  },
  {
   "cell_type": "code",
   "execution_count": 4,
   "metadata": {},
   "outputs": [
    {
     "output_type": "execute_result",
     "data": {
      "text/plain": [
       "   Salaries\n",
       "0    117313\n",
       "1    104002\n",
       "2    113038\n",
       "3    101936\n",
       "4     84560"
      ],
      "text/html": "<div>\n<style scoped>\n    .dataframe tbody tr th:only-of-type {\n        vertical-align: middle;\n    }\n\n    .dataframe tbody tr th {\n        vertical-align: top;\n    }\n\n    .dataframe thead th {\n        text-align: right;\n    }\n</style>\n<table border=\"1\" class=\"dataframe\">\n  <thead>\n    <tr style=\"text-align: right;\">\n      <th></th>\n      <th>Salaries</th>\n    </tr>\n  </thead>\n  <tbody>\n    <tr>\n      <th>0</th>\n      <td>117313</td>\n    </tr>\n    <tr>\n      <th>1</th>\n      <td>104002</td>\n    </tr>\n    <tr>\n      <th>2</th>\n      <td>113038</td>\n    </tr>\n    <tr>\n      <th>3</th>\n      <td>101936</td>\n    </tr>\n    <tr>\n      <th>4</th>\n      <td>84560</td>\n    </tr>\n  </tbody>\n</table>\n</div>"
     },
     "metadata": {},
     "execution_count": 4
    }
   ],
   "source": [
    "# creating example dataframe with ds salaries\n",
    "df = pd.DataFrame({'Salaries': [117313,104002,113038,101936,84560,113136,80740,100536,105052,87201,91986,94868,90745,102848,85927,112276,108637,96818,92307,114564,109714,108833,115295,89279,81720,89344,114426,90410,95118,113382]})\n",
    "df.head()"
   ]
  },
  {
   "cell_type": "code",
   "execution_count": 5,
   "metadata": {},
   "outputs": [
    {
     "output_type": "stream",
     "name": "stdout",
     "text": [
      "Sample mean: 100200.36666666667\nPopulation standard deviation: 15000\nSample size: 30\nSample standard error: 2738.6127875258308\n"
     ]
    }
   ],
   "source": [
    "# calculating sample mean\n",
    "df_mean = df['Salaries'].mean()\n",
    "print('Sample mean:',df_mean)\n",
    "# Population standard deviation\n",
    "df_std = 15000 # population std has been given\n",
    "print('Population standard deviation:',df_std)\n",
    "# calculating sample size\n",
    "n = len(df['Salaries'])\n",
    "print('Sample size:',n)\n",
    "# calculating standard error\n",
    "df_se = df_std/math.sqrt(n)\n",
    "print('Sample standard error:',df_se)"
   ]
  },
  {
   "cell_type": "code",
   "execution_count": 6,
   "metadata": {},
   "outputs": [
    {
     "output_type": "stream",
     "name": "stdout",
     "text": [
      "Z-score:  4.673765269641137\n"
     ]
    }
   ],
   "source": [
    "# finding the test score\n",
    "Z_score = abs((df_mean - H0)/df_se)\n",
    "print('Z-score: ', Z_score)"
   ]
  },
  {
   "cell_type": "code",
   "execution_count": 7,
   "metadata": {},
   "outputs": [
    {
     "output_type": "stream",
     "name": "stdout",
     "text": [
      "Z-critical value: 1.64\n"
     ]
    }
   ],
   "source": [
    "# calculating critical value\n",
    "z_critical = abs(round(stats.norm.ppf(alpha),2))\n",
    "print('Z-critical value:',z_critical)"
   ]
  },
  {
   "cell_type": "code",
   "execution_count": 9,
   "metadata": {},
   "outputs": [
    {
     "output_type": "stream",
     "name": "stdout",
     "text": [
      "Logic: If the absolute value of Z-score is HIGHER than critical value z then we recejct the null hypothesis!\nComparison: Absolute value of Z-score: 4.673765269641137 is higher than critical value of z: 1.64\nInterpretation: At the 5% significance level we can say that the average Data Scientist salary != 113k.\nFinal Decision: Reject null hypothesis!\n"
     ]
    }
   ],
   "source": [
    "# rejecting or failing to reject null hypothesis and iterpreting the results\n",
    "if Z_score < z_critical:\n",
    "    print('Logic: If the absolute value of Z-score is LOWER than critical value z then we cannot reject the Null Hypothesis.')\n",
    "    print('Comparison: Absolute value of Z-score: {} is lower than critical value of t: {}'.format(Z_score,z_critical))\n",
    "    print('Interpretation: At the 5% significance level we can say that the average Data Scientist salary = 113k.')\n",
    "    print('Final Decision: Do not reject null hypothesis!')\n",
    "else:\n",
    "    print('Logic: If the absolute value of Z-score is HIGHER than critical value z then we recejct the null hypothesis!')\n",
    "    print('Comparison: Absolute value of Z-score: {} is higher than critical value of z: {}'.format(Z_score,z_critical))\n",
    "    print('Interpretation: At the 5% significance level we can say that the average Data Scientist salary != 113k.')\n",
    "    print('Final Decision: Reject null hypothesis!')"
   ]
  },
  {
   "cell_type": "code",
   "execution_count": 10,
   "metadata": {},
   "outputs": [
    {
     "output_type": "stream",
     "name": "stdout",
     "text": [
      "p-value: 0.0\n"
     ]
    }
   ],
   "source": [
    "# calculating p-value from Z-score for two tailed test\n",
    "p_value = round(stats.norm.sf(abs(Z_score)),3)*2\n",
    "print('p-value:',p_value)"
   ]
  },
  {
   "cell_type": "code",
   "execution_count": 11,
   "metadata": {},
   "outputs": [
    {
     "output_type": "stream",
     "name": "stdout",
     "text": [
      "Logic: If the absolute value of p-value is LOWER than significance level, we reject the Null Hypothesis.\nComparison: Absolute value of p-value: 0.0 is LOWER than significance level: 0.05\nInterpretation: At the 5% significance level we can say that the average Data Scientist salary different than 113k.\nFinal Decision: Reject null hypothesis!\n"
     ]
    }
   ],
   "source": [
    "# rejecting or failing to reject null hypothesis and iterpreting the results\n",
    "if p_value > alpha:\n",
    "    print('Logic: If the absolute value of p-value is HIGHER than significance level, we cannot reject the Null Hypothesis.')\n",
    "    print('Comparison: Absolute value of p-value: {} is HIGHER than significance level: {}'.format(p_value,alpha))\n",
    "    print('Interpretation: At the 5% significance level we can say that the average Data Scientist salary equals to 113k.')\n",
    "    print('Final Decision: Do not reject null hypothesis!')\n",
    "else:\n",
    "    print('Logic: If the absolute value of p-value is LOWER than significance level, we reject the Null Hypothesis.')\n",
    "    print('Comparison: Absolute value of p-value: {} is LOWER than significance level: {}'.format(p_value,alpha))\n",
    "    print('Interpretation: At the 5% significance level we can say that the average Data Scientist salary different than 113k.')\n",
    "    print('Final Decision: Reject null hypothesis!')"
   ]
  },
  {
   "source": [
    "### <a class=\"anchor\" id=\"12\">Part 1.2: Test for the mean. Population variance unknown. </a>"
   ],
   "cell_type": "markdown",
   "metadata": {}
  },
  {
   "source": [
    "### Equations\n",
    "| Name | Equation | Explanation |\n",
    "| :- | :- | :- |\n",
    "| T-score | T = x̄ - u0 / σ/ sqrt(n)  | sample mean minus the value from null hypothesis divided by the standard error |"
   ],
   "cell_type": "markdown",
   "metadata": {}
  },
  {
   "source": [
    "'''\n",
    "Test for the mean. Population variance unknown\n",
    "Title: Email spying\n",
    "Background: Try to find out if competitors mean open rate of email campaigns is smaller or significantly larger than 40%. \n",
    "TODO: \n",
    "1. State the hypotheses.\n",
    "Null hypothesis is to assume that mean open rate = .4\n",
    "- H0: u0 <= .4\n",
    "- H1: u0 > .4\n",
    "One sided hypothesis test\n",
    "2. Determine a significance level to use for the hypothesis.\n",
    "Significance level = .05\n",
    "3. Find the test statistic.\n",
    "4. Reject or fail to reject the null hypothesis.\n",
    "5. Interpret the results. \n",
    "'''\n",
    "# stating null hypothesis\n",
    "H0 = .4\n",
    "print('Null hypothesis:',H0)\n",
    "# determining a significance level\n",
    "alpha = .05\n",
    "print('Significance level:',alpha)"
   ],
   "cell_type": "code",
   "metadata": {},
   "execution_count": 12,
   "outputs": [
    {
     "output_type": "stream",
     "name": "stdout",
     "text": [
      "Null hypothesis: 0.4\nSignificance level: 0.05\n"
     ]
    }
   ]
  },
  {
   "cell_type": "code",
   "execution_count": 13,
   "metadata": {},
   "outputs": [
    {
     "output_type": "execute_result",
     "data": {
      "text/plain": [
       "   Open_Rate\n",
       "0       0.26\n",
       "1       0.23\n",
       "2       0.42\n",
       "3       0.49\n",
       "4       0.23"
      ],
      "text/html": "<div>\n<style scoped>\n    .dataframe tbody tr th:only-of-type {\n        vertical-align: middle;\n    }\n\n    .dataframe tbody tr th {\n        vertical-align: top;\n    }\n\n    .dataframe thead th {\n        text-align: right;\n    }\n</style>\n<table border=\"1\" class=\"dataframe\">\n  <thead>\n    <tr style=\"text-align: right;\">\n      <th></th>\n      <th>Open_Rate</th>\n    </tr>\n  </thead>\n  <tbody>\n    <tr>\n      <th>0</th>\n      <td>0.26</td>\n    </tr>\n    <tr>\n      <th>1</th>\n      <td>0.23</td>\n    </tr>\n    <tr>\n      <th>2</th>\n      <td>0.42</td>\n    </tr>\n    <tr>\n      <th>3</th>\n      <td>0.49</td>\n    </tr>\n    <tr>\n      <th>4</th>\n      <td>0.23</td>\n    </tr>\n  </tbody>\n</table>\n</div>"
     },
     "metadata": {},
     "execution_count": 13
    }
   ],
   "source": [
    "# creating dataframe with open rate of the email campaign\n",
    "df = pd.DataFrame({'Open_Rate': [0.26,0.23,0.42,0.49,0.23,0.59,0.29,0.29,0.57,0.4]})\n",
    "df.head()"
   ]
  },
  {
   "cell_type": "code",
   "execution_count": 14,
   "metadata": {},
   "outputs": [
    {
     "output_type": "stream",
     "name": "stdout",
     "text": [
      "Sample size: 10\nDegrees of freedom: 9\n"
     ]
    }
   ],
   "source": [
    "# sample size\n",
    "n = len(df['Open_Rate'])\n",
    "print('Sample size:',n)\n",
    "# degrees of freedom\n",
    "dof = n-1\n",
    "print('Degrees of freedom:',dof)"
   ]
  },
  {
   "cell_type": "code",
   "execution_count": 15,
   "metadata": {},
   "outputs": [
    {
     "output_type": "stream",
     "name": "stdout",
     "text": [
      "Sample Mean: 0.37699999999999995\n",
      "Sample Std: 0.13736002976767941\n",
      "Standard Error: 0.04343705535343962\n"
     ]
    }
   ],
   "source": [
    "# sample mean\n",
    "df_mean = df['Open_Rate'].mean()\n",
    "print('Sample Mean:',df_mean)\n",
    "# calculating sample standard deviation\n",
    "df_std = df['Open_Rate'].std()\n",
    "print('Sample Std:', df_std)\n",
    "# calculating standard error\n",
    "df_sem = df['Open_Rate'].sem()\n",
    "print('Standard Error:', df_sem)"
   ]
  },
  {
   "cell_type": "code",
   "execution_count": 16,
   "metadata": {},
   "outputs": [
    {
     "output_type": "stream",
     "name": "stdout",
     "text": [
      "T-score: 0.5295018231059438\n"
     ]
    }
   ],
   "source": [
    "# calculating t-score\n",
    "T_score = abs((df_mean-H0)/df_sem)\n",
    "print('T-score:',T_score)"
   ]
  },
  {
   "cell_type": "code",
   "execution_count": 17,
   "metadata": {},
   "outputs": [
    {
     "output_type": "stream",
     "name": "stdout",
     "text": [
      "t critical 1.8331129326536337\n"
     ]
    }
   ],
   "source": [
    "# calculating critical value\n",
    "t_critical = abs(stats.t.ppf(alpha, dof))\n",
    "print('t critical', t_critical)"
   ]
  },
  {
   "cell_type": "code",
   "execution_count": 18,
   "metadata": {},
   "outputs": [
    {
     "output_type": "stream",
     "name": "stdout",
     "text": [
      "p-value: 0.305\n"
     ]
    }
   ],
   "source": [
    "# calculating p-value from T-score for one sided test\n",
    "p_value = round(stats.t.sf(abs(T_score), dof),3)\n",
    "print('p-value:',p_value)"
   ]
  },
  {
   "cell_type": "code",
   "execution_count": 19,
   "metadata": {},
   "outputs": [
    {
     "output_type": "stream",
     "name": "stdout",
     "text": [
      "Logic: If the absolute value of p-value is HIGHER than significance level, we cannot reject the Null Hypothesis.\nComparison: Absolute value of p-value: 0.305 is HIGHER than significance level: 0.05\nInterpretation: At the 5% significance level we can say that, our competitor's open rate is not significantly different from 40%.\nFinal Decision: Do not reject null hypothesis!\n"
     ]
    }
   ],
   "source": [
    "# rejecting or failing to reject null hypothesis and iterpreting the results\n",
    "if p_value > alpha:\n",
    "    print('Logic: If the absolute value of p-value is HIGHER than significance level, we cannot reject the Null Hypothesis.')\n",
    "    print('Comparison: Absolute value of p-value: {} is HIGHER than significance level: {}'.format(p_value,alpha))\n",
    "    print('Interpretation: At the 5% significance level we can say that, our competitor\\'s open rate is not significantly different from 40%.')\n",
    "    print('Final Decision: Do not reject null hypothesis!')\n",
    "else:\n",
    "    print('Logic: If the absolute value of p-value is LOWER than significance level, we reject the Null Hypothesis.')\n",
    "    print('Comparison: Absolute value of p-value: {} is LOWER than significance level: {}'.format(p_value,alpha))\n",
    "    print('Interpretation: At the 5% significance level we can say that, our competitor\\'s open rate is significantly different from 40%.')\n",
    "    print('Final Decision: Reject null hypothesis!')"
   ]
  },
  {
   "source": [
    "### <a class=\"anchor\" id=\"13\">Part 1.3: Test the mean. Dependent Samples. </a>"
   ],
   "cell_type": "markdown",
   "metadata": {}
  },
  {
   "cell_type": "code",
   "execution_count": 20,
   "metadata": {},
   "outputs": [
    {
     "output_type": "stream",
     "name": "stdout",
     "text": [
      "Null hypothesis: 0\nSignificance level: 0.05\n"
     ]
    }
   ],
   "source": [
    "'''\n",
    "Test the mean. Dependent Samples\n",
    "Title: Magnesium levels example\n",
    "Background: Some guy on the internet designed a weight-loss program. You are wondering if it is working. You are given a sample of some people who did the program.\n",
    "TODO: \n",
    "1. State the hypotheses.\n",
    "Null hypothesis is to assume that before drug mean is larger or equals to mean after taking the drug.\n",
    "- H0: ub >= ua\n",
    "- H1: ub < ua\n",
    "Therefore:\n",
    "-H0: ub-ua >= 0\n",
    "-H1: ub-ua < 0 \n",
    "One sided hypothesis test\n",
    "2. Determine a significance level to use for the hypothesis.\n",
    "Significance level = .05\n",
    "3. Find the test statistic.\n",
    "4. Reject or fail to reject the null hypothesis.\n",
    "5. Interpret the results. \n",
    "'''\n",
    "# stating null hypothesis\n",
    "H0 = 0\n",
    "print('Null hypothesis:',H0)\n",
    "# determining a significance level\n",
    "alpha = .05\n",
    "print('Significance level:',alpha)\n",
    "               "
   ]
  },
  {
   "cell_type": "code",
   "execution_count": 21,
   "metadata": {},
   "outputs": [
    {
     "output_type": "execute_result",
     "data": {
      "text/plain": [
       "   Before  After\n",
       "0     2.0    1.7\n",
       "1     1.4    1.7\n",
       "2     1.3    1.8\n",
       "3     1.1    1.3\n",
       "4     1.8    1.7"
      ],
      "text/html": "<div>\n<style scoped>\n    .dataframe tbody tr th:only-of-type {\n        vertical-align: middle;\n    }\n\n    .dataframe tbody tr th {\n        vertical-align: top;\n    }\n\n    .dataframe thead th {\n        text-align: right;\n    }\n</style>\n<table border=\"1\" class=\"dataframe\">\n  <thead>\n    <tr style=\"text-align: right;\">\n      <th></th>\n      <th>Before</th>\n      <th>After</th>\n    </tr>\n  </thead>\n  <tbody>\n    <tr>\n      <th>0</th>\n      <td>2.0</td>\n      <td>1.7</td>\n    </tr>\n    <tr>\n      <th>1</th>\n      <td>1.4</td>\n      <td>1.7</td>\n    </tr>\n    <tr>\n      <th>2</th>\n      <td>1.3</td>\n      <td>1.8</td>\n    </tr>\n    <tr>\n      <th>3</th>\n      <td>1.1</td>\n      <td>1.3</td>\n    </tr>\n    <tr>\n      <th>4</th>\n      <td>1.8</td>\n      <td>1.7</td>\n    </tr>\n  </tbody>\n</table>\n</div>"
     },
     "metadata": {},
     "execution_count": 21
    }
   ],
   "source": [
    "# Task 3\n",
    "df = pd.DataFrame({'Before': [2,1.4,1.3,1.1,1.8,1.6,1.5,0.7,0.9,1.5]\n",
    "                  ,'After': [1.7,1.7,1.8,1.3,1.7,1.5,1.6,1.7,1.7,2.4]})\n",
    "df.head()   "
   ]
  },
  {
   "cell_type": "code",
   "execution_count": 22,
   "metadata": {},
   "outputs": [
    {
     "output_type": "execute_result",
     "data": {
      "text/plain": [
       "   Before  After  Diff_B_A\n",
       "0     2.0    1.7       0.3\n",
       "1     1.4    1.7      -0.3\n",
       "2     1.3    1.8      -0.5\n",
       "3     1.1    1.3      -0.2\n",
       "4     1.8    1.7       0.1"
      ],
      "text/html": "<div>\n<style scoped>\n    .dataframe tbody tr th:only-of-type {\n        vertical-align: middle;\n    }\n\n    .dataframe tbody tr th {\n        vertical-align: top;\n    }\n\n    .dataframe thead th {\n        text-align: right;\n    }\n</style>\n<table border=\"1\" class=\"dataframe\">\n  <thead>\n    <tr style=\"text-align: right;\">\n      <th></th>\n      <th>Before</th>\n      <th>After</th>\n      <th>Diff_B_A</th>\n    </tr>\n  </thead>\n  <tbody>\n    <tr>\n      <th>0</th>\n      <td>2.0</td>\n      <td>1.7</td>\n      <td>0.3</td>\n    </tr>\n    <tr>\n      <th>1</th>\n      <td>1.4</td>\n      <td>1.7</td>\n      <td>-0.3</td>\n    </tr>\n    <tr>\n      <th>2</th>\n      <td>1.3</td>\n      <td>1.8</td>\n      <td>-0.5</td>\n    </tr>\n    <tr>\n      <th>3</th>\n      <td>1.1</td>\n      <td>1.3</td>\n      <td>-0.2</td>\n    </tr>\n    <tr>\n      <th>4</th>\n      <td>1.8</td>\n      <td>1.7</td>\n      <td>0.1</td>\n    </tr>\n  </tbody>\n</table>\n</div>"
     },
     "metadata": {},
     "execution_count": 22
    }
   ],
   "source": [
    "# calulcating difference between before and after the drug\n",
    "df['Diff_B_A'] = df['Before'] - df['After']\n",
    "df.head()"
   ]
  },
  {
   "cell_type": "code",
   "execution_count": 23,
   "metadata": {},
   "outputs": [
    {
     "output_type": "stream",
     "name": "stdout",
     "text": [
      "Sample size:  10\nDegrees of freedom:  9\n"
     ]
    }
   ],
   "source": [
    "# sample size\n",
    "n = len(df['Diff_B_A'])\n",
    "print('Sample size: ', n)\n",
    "# degrees of freedom\n",
    "dof = n-1\n",
    "print('Degrees of freedom: ', dof)"
   ]
  },
  {
   "cell_type": "code",
   "execution_count": 24,
   "metadata": {},
   "outputs": [
    {
     "output_type": "stream",
     "name": "stdout",
     "text": [
      "Sample Mean:  -0.33\n",
      "Sample Std:  0.455\n",
      "Standard Error:  0.144\n"
     ]
    }
   ],
   "source": [
    "# sample mean of differences\n",
    "df_mean = round(df['Diff_B_A'].mean(),3)\n",
    "print('Sample Mean: ',df_mean)\n",
    "# calculating sample standard deviation of the differences\n",
    "df_std = round(df['Diff_B_A'].std(),3)\n",
    "print('Sample Std: ', df_std)\n",
    "# calculating standard error\n",
    "df_sem = round(df['Diff_B_A'].sem(),3)\n",
    "print('Standard Error: ', df_sem)"
   ]
  },
  {
   "cell_type": "code",
   "execution_count": 25,
   "metadata": {},
   "outputs": [
    {
     "output_type": "stream",
     "name": "stdout",
     "text": [
      "T-score: 2.291666666666667\n"
     ]
    }
   ],
   "source": [
    "# T-score sample mean - null hypothesis divided by the standard error\n",
    "T_score = abs((df_mean - H0)/df_sem)\n",
    "print('T-score:',T_score)"
   ]
  },
  {
   "cell_type": "code",
   "execution_count": 26,
   "metadata": {},
   "outputs": [
    {
     "output_type": "stream",
     "name": "stdout",
     "text": [
      "t critical =  1.8331129326536337\n"
     ]
    }
   ],
   "source": [
    "# checking critical value from t students table for dof = 9 and alpha .05\n",
    "t_critical = abs(stats.t.ppf(alpha, dof))# 1.833\n",
    "print('t critical = ', t_critical)"
   ]
  },
  {
   "cell_type": "code",
   "execution_count": 27,
   "metadata": {},
   "outputs": [
    {
     "output_type": "stream",
     "name": "stdout",
     "text": [
      "P-value: 0.024\n"
     ]
    }
   ],
   "source": [
    "# calculating p-value from t-score for one sided test\n",
    "p_value = round(stats.t.sf(abs(T_score), dof),3)\n",
    "print('P-value:',p_value)"
   ]
  },
  {
   "cell_type": "code",
   "execution_count": 28,
   "metadata": {},
   "outputs": [
    {
     "output_type": "stream",
     "name": "stdout",
     "text": [
      "Logic: If the absolute value of p-value is LOWER than significance level, we reject the Null Hypothesis.\nComparison: Absolute value of p-value: 0.024 is LOWER than significance level: 0.05\nInterpretation: At the 5% significance level we can say that the drug works successfully.\nFinal Decision: Reject null hypothesis!\n"
     ]
    }
   ],
   "source": [
    "# rejecting or failing to reject null hypothesis and iterpreting the results\n",
    "if p_value > alpha:\n",
    "    print('Logic: If the absolute value of p-value is HIGHER than significance level, we cannot reject the Null Hypothesis.')\n",
    "    print('Comparison: Absolute value of p-value: {} is HIGHER than significance level: {}'.format(p_value,alpha))\n",
    "    print('Interpretation: At the 5% significance level we cannot say that the drug works successfully.')\n",
    "    print('Final Decision: Do not reject null hypothesis!')\n",
    "else:\n",
    "    print('Logic: If the absolute value of p-value is LOWER than significance level, we reject the Null Hypothesis.')\n",
    "    print('Comparison: Absolute value of p-value: {} is LOWER than significance level: {}'.format(p_value,alpha))\n",
    "    print('Interpretation: At the 5% significance level we can say that the drug works successfully.')\n",
    "    print('Final Decision: Reject null hypothesis!')"
   ]
  },
  {
   "source": [
    "### <a class=\"anchor\" id=\"14\">Part 1.4: Test for two means. Independent samples, variance known. </a>"
   ],
   "cell_type": "markdown",
   "metadata": {}
  },
  {
   "cell_type": "code",
   "execution_count": 29,
   "metadata": {},
   "outputs": [
    {
     "output_type": "stream",
     "name": "stdout",
     "text": [
      "Null hypothesis: 0\nSignificance level: 0.05\n"
     ]
    }
   ],
   "source": [
    "'''\n",
    "Test for two means. Independent samples, population variance known\n",
    "Title: New Cleaning Detergent\n",
    "Background: Ajax releases a new dish detergent, called Extreme Ajax+, which they advertise to be able to clean many more dishes with a single bottle.\n",
    "You want to see if that is true and have bought 25 bottles of Extreme Ajax+ and 25 bottles of Ajax and collected data on how many dirty dishes you can wash with a single bottle.\n",
    "(Population variance is assumed to be known.)\n",
    "TODO: \n",
    "1. State the hypotheses.\n",
    "Null hypothesis is to assume that there is no significant difference between Ajax Extreme and Ajax.\n",
    "- H0: ub >= ua\n",
    "- H1: ub < ua\n",
    "Therefore:\n",
    "-H0: ub-ua >= 0\n",
    "-H1: ub-ua < 0 \n",
    "One sided hypothesis test\n",
    "2. Determine a significance level to use for the hypothesis.\n",
    "Significance level = .05\n",
    "3. Find the test statistic.\n",
    "4. Reject or fail to reject the null hypothesis.\n",
    "5. Interpret the results. \n",
    "'''\n",
    "# defying null hypothesis\n",
    "H0 = 0\n",
    "print('Null hypothesis:',H0)\n",
    "# significance level\n",
    "alpha = .05\n",
    "print('Significance level:',alpha)"
   ]
  },
  {
   "cell_type": "code",
   "execution_count": 30,
   "metadata": {},
   "outputs": [
    {
     "output_type": "execute_result",
     "data": {
      "text/plain": [
       "       Name  Extreme_Ajax+  Ajax\n",
       "0      Size             25    25\n",
       "1      Mean            115   100\n",
       "2  Variance            625   400"
      ],
      "text/html": "<div>\n<style scoped>\n    .dataframe tbody tr th:only-of-type {\n        vertical-align: middle;\n    }\n\n    .dataframe tbody tr th {\n        vertical-align: top;\n    }\n\n    .dataframe thead th {\n        text-align: right;\n    }\n</style>\n<table border=\"1\" class=\"dataframe\">\n  <thead>\n    <tr style=\"text-align: right;\">\n      <th></th>\n      <th>Name</th>\n      <th>Extreme_Ajax+</th>\n      <th>Ajax</th>\n    </tr>\n  </thead>\n  <tbody>\n    <tr>\n      <th>0</th>\n      <td>Size</td>\n      <td>25</td>\n      <td>25</td>\n    </tr>\n    <tr>\n      <th>1</th>\n      <td>Mean</td>\n      <td>115</td>\n      <td>100</td>\n    </tr>\n    <tr>\n      <th>2</th>\n      <td>Variance</td>\n      <td>625</td>\n      <td>400</td>\n    </tr>\n  </tbody>\n</table>\n</div>"
     },
     "metadata": {},
     "execution_count": 30
    }
   ],
   "source": [
    "# creating dataframe\n",
    "df = pd.DataFrame({'Name': ['Size','Mean','Variance']\n",
    "                  ,'Extreme_Ajax+': [25,115,625]\n",
    "                  ,'Ajax': [25,100,400]})\n",
    "df.head()"
   ]
  },
  {
   "cell_type": "code",
   "execution_count": 31,
   "metadata": {},
   "outputs": [
    {
     "output_type": "stream",
     "name": "stdout",
     "text": [
      "Sample size Ajax+: 25\nSample size Ajax: 25\n"
     ]
    }
   ],
   "source": [
    "# sample sizes\n",
    "n_ajax_extreme = df.iloc[0,1]\n",
    "print('Sample size Ajax+:',n_ajax_extreme)\n",
    "n_ajax = df.iloc[0,2]\n",
    "print('Sample size Ajax:',n_ajax)"
   ]
  },
  {
   "cell_type": "code",
   "execution_count": 32,
   "metadata": {},
   "outputs": [
    {
     "output_type": "stream",
     "name": "stdout",
     "text": [
      "Mean Ajax Extreme: 115\nMean Ajax: 100\nMean difference: 15\nVariance Ajax Extreme: 625\nVariance Ajax: 400\nStandard error: 6.4031242374328485\n"
     ]
    }
   ],
   "source": [
    "# calculating mean difference \n",
    "mean_ajax_extreme = df.iloc[1,1]\n",
    "print('Mean Ajax Extreme:',mean_ajax_extreme)\n",
    "mean_ajax = df.iloc[1,2]\n",
    "print('Mean Ajax:',mean_ajax)\n",
    "mean_diff = mean_ajax_extreme - mean_ajax\n",
    "print('Mean difference:',mean_diff)\n",
    "# calculating standard error\n",
    "var_ajax_extreme = df.iloc[2,1]\n",
    "print('Variance Ajax Extreme:',var_ajax_extreme)\n",
    "var_ajax = df.iloc[2,2]\n",
    "print('Variance Ajax:',var_ajax)\n",
    "sem_diff = math.sqrt((var_ajax_extreme/n_ajax_extreme) + (var_ajax/n_ajax))\n",
    "print('Standard error:',sem_diff)"
   ]
  },
  {
   "cell_type": "code",
   "execution_count": 35,
   "metadata": {},
   "outputs": [
    {
     "output_type": "stream",
     "name": "stdout",
     "text": [
      "Z-score: 2.343\n"
     ]
    }
   ],
   "source": [
    "# calculating z-score\n",
    "Z_score = round((mean_diff- H0)/sem_diff,3)\n",
    "print('Z-score:',Z_score)"
   ]
  },
  {
   "cell_type": "code",
   "execution_count": 36,
   "metadata": {},
   "outputs": [
    {
     "output_type": "stream",
     "name": "stdout",
     "text": [
      "P-value: 0.01\n"
     ]
    }
   ],
   "source": [
    "# calculating p-value from z-score for one sided test\n",
    "p_value = round(stats.norm.sf(abs(Z_score)),3)\n",
    "print('P-value:',p_value)"
   ]
  },
  {
   "cell_type": "code",
   "execution_count": 37,
   "metadata": {},
   "outputs": [
    {
     "output_type": "stream",
     "name": "stdout",
     "text": [
      "Logic: If the absolute value of p-value is LOWER than significance level, we reject the Null Hypothesis.\nComparison: Absolute value of p-value: 0.01 is LOWER than significance level: 0.05\nInterpretation: At the 5% significance level we can say that the Ajax Extreme + is a significantly better product.\nFinal Decision: Reject null hypothesis!\n"
     ]
    }
   ],
   "source": [
    "# rejecting or failing to reject null hypothesis and iterpreting the results\n",
    "if p_value > alpha:\n",
    "    print('Logic: If the absolute value of p-value is HIGHER than significance level, we cannot reject the Null Hypothesis.')\n",
    "    print('Comparison: Absolute value of p-value: {} is HIGHER than significance level: {}'.format(p_value,alpha))\n",
    "    print('Interpretation: At the 5% significance level we can say that the Ajax Extreme + is not a significantly better product.')\n",
    "    print('Final Decision: Do not reject null hypothesis!')\n",
    "else:\n",
    "    print('Logic: If the absolute value of p-value is LOWER than significance level, we reject the Null Hypothesis.')\n",
    "    print('Comparison: Absolute value of p-value: {} is LOWER than significance level: {}'.format(p_value,alpha))\n",
    "    print('Interpretation: At the 5% significance level we can say that the Ajax Extreme + is a significantly better product.')\n",
    "    print('Final Decision: Reject null hypothesis!')"
   ]
  },
  {
   "source": [
    "### <a class=\"anchor\" id=\"15\">Part 1.5: Testing of two means. Independent samples, variances unknown but assumed to be equal. </a>"
   ],
   "cell_type": "markdown",
   "metadata": {}
  },
  {
   "cell_type": "code",
   "execution_count": 38,
   "metadata": {},
   "outputs": [
    {
     "output_type": "stream",
     "name": "stdout",
     "text": [
      "Null hypothesis: 0\nSignificance level: 0.05\n"
     ]
    }
   ],
   "source": [
    "'''\n",
    "Testing of two means. Independent samples, variances unknown but assumed to be equal\n",
    "Title: Shopping\n",
    "Background: You have data on the amount of times people click on a pop-up add on 24 Mondays and 21 Saturdays on an e-learning platform for several years. The samples are drawn independently. Statistically speaking, is there strong evidence that the number of clicks the add records on Mondays is higher than the number of clicks on Saturdays?\t\n",
    "TODO: \n",
    "1. State the hypotheses.\n",
    "Null hypothesis is to assume that there is a higher number of clicks on Monday than on Saturday.\n",
    "- H0: um <= us\n",
    "- H1: um > us\n",
    "Therefore:\n",
    "-H0: um-us <= 0\n",
    "-H1: um-us > 0 \n",
    "One sided hypothesis test\n",
    "2. Determine a significance level to use for the hypothesis.\n",
    "Significance level = .05\n",
    "3. Find the test statistic.\n",
    "4. Reject or fail to reject the null hypothesis.\n",
    "5. Interpret the results. \n",
    "'''\n",
    "# defying null hypothesis\n",
    "H0 = 0\n",
    "print('Null hypothesis:',H0)\n",
    "# significance level\n",
    "alpha = .05\n",
    "print('Significance level:',alpha)      "
   ]
  },
  {
   "cell_type": "code",
   "execution_count": 39,
   "metadata": {},
   "outputs": [
    {
     "output_type": "execute_result",
     "data": {
      "text/plain": [
       "             Name  Monday  Saturday\n",
       "0            Size      24      21.0\n",
       "1            Mean    1078     908.0\n",
       "2  Std. deviation     633     469.8"
      ],
      "text/html": "<div>\n<style scoped>\n    .dataframe tbody tr th:only-of-type {\n        vertical-align: middle;\n    }\n\n    .dataframe tbody tr th {\n        vertical-align: top;\n    }\n\n    .dataframe thead th {\n        text-align: right;\n    }\n</style>\n<table border=\"1\" class=\"dataframe\">\n  <thead>\n    <tr style=\"text-align: right;\">\n      <th></th>\n      <th>Name</th>\n      <th>Monday</th>\n      <th>Saturday</th>\n    </tr>\n  </thead>\n  <tbody>\n    <tr>\n      <th>0</th>\n      <td>Size</td>\n      <td>24</td>\n      <td>21.0</td>\n    </tr>\n    <tr>\n      <th>1</th>\n      <td>Mean</td>\n      <td>1078</td>\n      <td>908.0</td>\n    </tr>\n    <tr>\n      <th>2</th>\n      <td>Std. deviation</td>\n      <td>633</td>\n      <td>469.8</td>\n    </tr>\n  </tbody>\n</table>\n</div>"
     },
     "metadata": {},
     "execution_count": 39
    }
   ],
   "source": [
    "# creating dataframe\n",
    "df = pd.DataFrame({'Name': ['Size','Mean','Std. deviation']\n",
    "                  ,'Monday': [24,1078,633]\n",
    "                  ,'Saturday': [21,908,469.8]})\n",
    "df.head()  "
   ]
  },
  {
   "cell_type": "code",
   "execution_count": 40,
   "metadata": {},
   "outputs": [
    {
     "output_type": "stream",
     "name": "stdout",
     "text": [
      "Sample size Monday: 24\nSample size Saturday: 21.0\nDegrees of freedom Monday: 23\nDegrees of freedom Saturday: 20.0\nDegrees of freedom: 43.0\n"
     ]
    }
   ],
   "source": [
    "# sample sizes\n",
    "n_mon = df.iloc[0,1]\n",
    "print('Sample size Monday:',n_mon)\n",
    "n_sat = df.iloc[0,2]\n",
    "print('Sample size Saturday:',n_sat)\n",
    "# degrees of freedom\n",
    "dof_mon = n_mon-1\n",
    "print('Degrees of freedom Monday:',dof_mon)\n",
    "dof_sat = n_sat-1\n",
    "print('Degrees of freedom Saturday:',dof_sat)\n",
    "dof = dof_mon+dof_sat\n",
    "print('Degrees of freedom:',dof)"
   ]
  },
  {
   "cell_type": "code",
   "execution_count": 41,
   "metadata": {},
   "outputs": [
    {
     "output_type": "stream",
     "name": "stdout",
     "text": [
      "Mean Monday: 1078\nMean Saturday: 908.0\nMean difference: 170.0\nStd. Monday: 633\nStd. Saturday: 469.8\nVar. Saturday: 400689\nVar. Saturday: 220712.04\nPooled Variance: 316978.78604651167\nPooled standard error: 168.23102367156125\n"
     ]
    }
   ],
   "source": [
    "# mean difference\n",
    "mean_mon = df.iloc[1,1]\n",
    "print('Mean Monday:',mean_mon)\n",
    "mean_sat = df.iloc[1,2]\n",
    "print('Mean Saturday:',mean_sat)\n",
    "mean_diff = mean_mon-mean_sat\n",
    "print('Mean difference:',mean_diff)\n",
    "# standard deviations\n",
    "std_mon = df.iloc[2,1]\n",
    "print('Std. Monday:',std_mon)\n",
    "std_sat = df.iloc[2,2]\n",
    "print('Std. Saturday:',std_sat)\n",
    "# variances\n",
    "var_mon = std_mon**2\n",
    "print('Var. Saturday:',var_mon)\n",
    "var_sat = std_sat**2\n",
    "print('Var. Saturday:',var_sat)\n",
    "# pooled variance\n",
    "pooled_variance = ((var_mon*dof_mon)+(var_sat*dof_sat))/dof\n",
    "print('Pooled Variance:',pooled_variance)\n",
    "# standard error\n",
    "pooled_sem = math.sqrt((pooled_variance/n_mon)+(pooled_variance/n_sat))\n",
    "print('Pooled standard error:',pooled_sem)\n"
   ]
  },
  {
   "cell_type": "code",
   "execution_count": 44,
   "metadata": {},
   "outputs": [
    {
     "output_type": "stream",
     "name": "stdout",
     "text": [
      "T-score: 1.011\n"
     ]
    }
   ],
   "source": [
    "# calculating T-score\n",
    "T_score = round((mean_diff-H0)/pooled_sem,3)\n",
    "print('T-score:',T_score)"
   ]
  },
  {
   "cell_type": "code",
   "execution_count": 45,
   "metadata": {},
   "outputs": [
    {
     "output_type": "stream",
     "name": "stdout",
     "text": [
      "P-value: 0.159\n"
     ]
    }
   ],
   "source": [
    "# calculating p-value from t-score for one sided test\n",
    "p_value = round(stats.t.sf(abs(T_score), dof),3)\n",
    "print('P-value:',p_value)"
   ]
  },
  {
   "cell_type": "code",
   "execution_count": 46,
   "metadata": {},
   "outputs": [
    {
     "output_type": "stream",
     "name": "stdout",
     "text": [
      "Logic: If the absolute value of p-value is HIGHER than significance level, we cannot reject the Null Hypothesis.\nComparison: Absolute value of p-value: 0.159 is HIGHER than significance level: 0.05\nInterpretation: At the 5% significance level we can say there is no reason to assume more people click on Mondays than on Saturdays.\nFinal Decision: Do not reject null hypothesis!\n"
     ]
    }
   ],
   "source": [
    "# rejecting or failing to reject null hypothesis and iterpreting the results\n",
    "if p_value > alpha:\n",
    "    print('Logic: If the absolute value of p-value is HIGHER than significance level, we cannot reject the Null Hypothesis.')\n",
    "    print('Comparison: Absolute value of p-value: {} is HIGHER than significance level: {}'.format(p_value,alpha))\n",
    "    print('Interpretation: At the 5% significance level we can say there is no reason to assume more people click on Mondays than on Saturdays.')\n",
    "    print('Final Decision: Do not reject null hypothesis!')\n",
    "else:\n",
    "    print('Logic: If the absolute value of p-value is LOWER than significance level, we reject the Null Hypothesis.')\n",
    "    print('Comparison: Absolute value of p-value: {} is LOWER than significance level: {}'.format(p_value,alpha))\n",
    "    print('Interpretation: At the 5% significance level we can say that there is significantly more clicks on Mondays than on Saturdays.')\n",
    "    print('Final Decision: Reject null hypothesis!')"
   ]
  },
  {
   "source": [
    "***\n",
    "## <a class=\"anchor\" id=\"2\">Part 2: Practical Example. Hypothesis Testing </a>"
   ],
   "cell_type": "markdown",
   "metadata": {}
  },
  {
   "cell_type": "code",
   "execution_count": 47,
   "metadata": {},
   "outputs": [
    {
     "output_type": "execute_result",
     "data": {
      "text/plain": [
       "      Surname      Name  Age  Gender        Country  \\\n",
       "0        Bold  Caroline   63  Female  United States   \n",
       "1      Zamora  Jennifer   38  Female  United States   \n",
       "2    Houlihan     Debra   51  Female  United States   \n",
       "3    Bramante     Elisa   34  Female  United States   \n",
       "4  Del Bosque     Keyla   38  Female  United States   \n",
       "\n",
       "                   Ethnicity Start_date            Department  \\\n",
       "0                      White   7/2/2012      Executive Office   \n",
       "1                      White  4/10/2010                 IT/IS   \n",
       "2                      White   5/5/2014                 Sales   \n",
       "3  Black or African American   1/5/2009     Production          \n",
       "4  Black or African American   1/9/2012  Software Engineering   \n",
       "\n",
       "                 Position       Salary  \n",
       "0         President & CEO  $166,400.00  \n",
       "1                     CIO  $135,200.00  \n",
       "2       Director of Sales  $124,800.00  \n",
       "3  Director of Operations  $124,800.00  \n",
       "4       Software Engineer  $118,809.60  "
      ],
      "text/html": "<div>\n<style scoped>\n    .dataframe tbody tr th:only-of-type {\n        vertical-align: middle;\n    }\n\n    .dataframe tbody tr th {\n        vertical-align: top;\n    }\n\n    .dataframe thead th {\n        text-align: right;\n    }\n</style>\n<table border=\"1\" class=\"dataframe\">\n  <thead>\n    <tr style=\"text-align: right;\">\n      <th></th>\n      <th>Surname</th>\n      <th>Name</th>\n      <th>Age</th>\n      <th>Gender</th>\n      <th>Country</th>\n      <th>Ethnicity</th>\n      <th>Start_date</th>\n      <th>Department</th>\n      <th>Position</th>\n      <th>Salary</th>\n    </tr>\n  </thead>\n  <tbody>\n    <tr>\n      <th>0</th>\n      <td>Bold</td>\n      <td>Caroline</td>\n      <td>63</td>\n      <td>Female</td>\n      <td>United States</td>\n      <td>White</td>\n      <td>7/2/2012</td>\n      <td>Executive Office</td>\n      <td>President &amp; CEO</td>\n      <td>$166,400.00</td>\n    </tr>\n    <tr>\n      <th>1</th>\n      <td>Zamora</td>\n      <td>Jennifer</td>\n      <td>38</td>\n      <td>Female</td>\n      <td>United States</td>\n      <td>White</td>\n      <td>4/10/2010</td>\n      <td>IT/IS</td>\n      <td>CIO</td>\n      <td>$135,200.00</td>\n    </tr>\n    <tr>\n      <th>2</th>\n      <td>Houlihan</td>\n      <td>Debra</td>\n      <td>51</td>\n      <td>Female</td>\n      <td>United States</td>\n      <td>White</td>\n      <td>5/5/2014</td>\n      <td>Sales</td>\n      <td>Director of Sales</td>\n      <td>$124,800.00</td>\n    </tr>\n    <tr>\n      <th>3</th>\n      <td>Bramante</td>\n      <td>Elisa</td>\n      <td>34</td>\n      <td>Female</td>\n      <td>United States</td>\n      <td>Black or African American</td>\n      <td>1/5/2009</td>\n      <td>Production</td>\n      <td>Director of Operations</td>\n      <td>$124,800.00</td>\n    </tr>\n    <tr>\n      <th>4</th>\n      <td>Del Bosque</td>\n      <td>Keyla</td>\n      <td>38</td>\n      <td>Female</td>\n      <td>United States</td>\n      <td>Black or African American</td>\n      <td>1/9/2012</td>\n      <td>Software Engineering</td>\n      <td>Software Engineer</td>\n      <td>$118,809.60</td>\n    </tr>\n  </tbody>\n</table>\n</div>"
     },
     "metadata": {},
     "execution_count": 47
    }
   ],
   "source": [
    "# reading in the data\n",
    "df = pd.read_csv('Data/Hypothesis_Testing_Paygap.csv')\n",
    "df.head()"
   ]
  },
  {
   "source": [
    "### <a class=\"anchor\" id=\"21\">Part 2.1: Global gender pay gap hypothesis testing</a>"
   ],
   "cell_type": "markdown",
   "metadata": {}
  },
  {
   "cell_type": "code",
   "execution_count": 48,
   "metadata": {},
   "outputs": [
    {
     "output_type": "stream",
     "name": "stdout",
     "text": [
      "Null hypothesis: 0\nSignificance level: 0.05\n"
     ]
    }
   ],
   "source": [
    "'''\n",
    "Hypothesis testing for Spark Fortress\n",
    "Title: Pay Gap Hypothesis testing (T test for independent variables)\n",
    "Background: You are given the dataset with Spark's Fortress salaries. Try to find out if there is a Gender pay gap.\n",
    "TODO:\n",
    "1. State the hypotheses.\n",
    "Null hypothesis is to assume that men and women salaries are equal\n",
    "- H0: um = uf\n",
    "- H1: um != uf\n",
    "Therefore:\n",
    "-H0: um-uf = 0\n",
    "-H1: um-uf != 0 \n",
    "Two sided hypothesis test\n",
    "2. Determine a significance level to use for the hypothesis.\n",
    "Significance level = .05\n",
    "3. Find the test statistic.\n",
    "4. Reject or fail to reject the null hypothesis.\n",
    "5. Interpret the results. \n",
    "'''\n",
    "# stating null hypothesis\n",
    "H0 = 0\n",
    "print('Null hypothesis:',H0)\n",
    "# determining a significance level\n",
    "alpha = .05\n",
    "print('Significance level:',alpha)"
   ]
  },
  {
   "cell_type": "code",
   "execution_count": 49,
   "metadata": {},
   "outputs": [
    {
     "output_type": "execute_result",
     "data": {
      "text/plain": [
       "0    166400.0\n",
       "1    135200.0\n",
       "2    124800.0\n",
       "3    124800.0\n",
       "4    118809.6\n",
       "Name: Salary, dtype: float64"
      ]
     },
     "metadata": {},
     "execution_count": 49
    }
   ],
   "source": [
    "# data preparation on salary column\n",
    "df['Salary'] = df['Salary'].str.replace('$','').str.replace(',','').astype(float)\n",
    "df['Salary'].head()"
   ]
  },
  {
   "cell_type": "code",
   "execution_count": 50,
   "metadata": {},
   "outputs": [
    {
     "output_type": "execute_result",
     "data": {
      "text/plain": [
       "count       174.000000\n",
       "mean      68603.779310\n",
       "std       34121.543021\n",
       "min       29120.000000\n",
       "25%       41600.000000\n",
       "50%       52000.000000\n",
       "75%      110240.000000\n",
       "max      166400.000000\n",
       "Name: Salary, dtype: float64"
      ]
     },
     "metadata": {},
     "execution_count": 50
    }
   ],
   "source": [
    "df['Salary'].describe()"
   ]
  },
  {
   "cell_type": "code",
   "execution_count": 51,
   "metadata": {},
   "outputs": [
    {
     "output_type": "display_data",
     "data": {
      "text/plain": "<Figure size 720x360 with 1 Axes>",
      "image/svg+xml": "<?xml version=\"1.0\" encoding=\"utf-8\" standalone=\"no\"?>\r\n<!DOCTYPE svg PUBLIC \"-//W3C//DTD SVG 1.1//EN\"\r\n  \"http://www.w3.org/Graphics/SVG/1.1/DTD/svg11.dtd\">\r\n<!-- Created with matplotlib (https://matplotlib.org/) -->\r\n<svg height=\"335.469844pt\" version=\"1.1\" viewBox=\"0 0 633.863438 335.469844\" width=\"633.863438pt\" xmlns=\"http://www.w3.org/2000/svg\" xmlns:xlink=\"http://www.w3.org/1999/xlink\">\r\n <metadata>\r\n  <rdf:RDF xmlns:cc=\"http://creativecommons.org/ns#\" xmlns:dc=\"http://purl.org/dc/elements/1.1/\" xmlns:rdf=\"http://www.w3.org/1999/02/22-rdf-syntax-ns#\">\r\n   <cc:Work>\r\n    <dc:type rdf:resource=\"http://purl.org/dc/dcmitype/StillImage\"/>\r\n    <dc:date>2021-04-19T09:37:18.295707</dc:date>\r\n    <dc:format>image/svg+xml</dc:format>\r\n    <dc:creator>\r\n     <cc:Agent>\r\n      <dc:title>Matplotlib v3.3.2, https://matplotlib.org/</dc:title>\r\n     </cc:Agent>\r\n    </dc:creator>\r\n   </cc:Work>\r\n  </rdf:RDF>\r\n </metadata>\r\n <defs>\r\n  <style type=\"text/css\">*{stroke-linecap:butt;stroke-linejoin:round;}</style>\r\n </defs>\r\n <g id=\"figure_1\">\r\n  <g id=\"patch_1\">\r\n   <path d=\"M 0 335.469844 \r\nL 633.863438 335.469844 \r\nL 633.863438 0 \r\nL 0 0 \r\nz\r\n\" style=\"fill:none;\"/>\r\n  </g>\r\n  <g id=\"axes_1\">\r\n   <g id=\"patch_2\">\r\n    <path d=\"M 68.663438 293.735625 \r\nL 626.663437 293.735625 \r\nL 626.663437 21.935625 \r\nL 68.663438 21.935625 \r\nz\r\n\" style=\"fill:#ffffff;\"/>\r\n   </g>\r\n   <g id=\"matplotlib.axis_1\">\r\n    <g id=\"xtick_1\">\r\n     <g id=\"text_1\">\r\n      <!-- Female -->\r\n      <g style=\"fill:#262626;\" transform=\"translate(189.825234 311.109219)scale(0.11 -0.11)\">\r\n       <defs>\r\n        <path d=\"M 8.203125 0 \r\nL 8.203125 71.578125 \r\nL 56.5 71.578125 \r\nL 56.5 63.140625 \r\nL 17.671875 63.140625 \r\nL 17.671875 40.96875 \r\nL 51.265625 40.96875 \r\nL 51.265625 32.515625 \r\nL 17.671875 32.515625 \r\nL 17.671875 0 \r\nz\r\n\" id=\"ArialMT-70\"/>\r\n        <path d=\"M 42.09375 16.703125 \r\nL 51.171875 15.578125 \r\nQ 49.03125 7.625 43.21875 3.21875 \r\nQ 37.40625 -1.171875 28.375 -1.171875 \r\nQ 17 -1.171875 10.328125 5.828125 \r\nQ 3.65625 12.84375 3.65625 25.484375 \r\nQ 3.65625 38.578125 10.390625 45.796875 \r\nQ 17.140625 53.03125 27.875 53.03125 \r\nQ 38.28125 53.03125 44.875 45.953125 \r\nQ 51.46875 38.875 51.46875 26.03125 \r\nQ 51.46875 25.25 51.421875 23.6875 \r\nL 12.75 23.6875 \r\nQ 13.234375 15.140625 17.578125 10.59375 \r\nQ 21.921875 6.0625 28.421875 6.0625 \r\nQ 33.25 6.0625 36.671875 8.59375 \r\nQ 40.09375 11.140625 42.09375 16.703125 \r\nz\r\nM 13.234375 30.90625 \r\nL 42.1875 30.90625 \r\nQ 41.609375 37.453125 38.875 40.71875 \r\nQ 34.671875 45.796875 27.984375 45.796875 \r\nQ 21.921875 45.796875 17.796875 41.75 \r\nQ 13.671875 37.703125 13.234375 30.90625 \r\nz\r\n\" id=\"ArialMT-101\"/>\r\n        <path d=\"M 6.59375 0 \r\nL 6.59375 51.859375 \r\nL 14.453125 51.859375 \r\nL 14.453125 44.578125 \r\nQ 16.890625 48.390625 20.9375 50.703125 \r\nQ 25 53.03125 30.171875 53.03125 \r\nQ 35.9375 53.03125 39.625 50.640625 \r\nQ 43.3125 48.25 44.828125 43.953125 \r\nQ 50.984375 53.03125 60.84375 53.03125 \r\nQ 68.5625 53.03125 72.703125 48.75 \r\nQ 76.859375 44.484375 76.859375 35.59375 \r\nL 76.859375 0 \r\nL 68.109375 0 \r\nL 68.109375 32.671875 \r\nQ 68.109375 37.9375 67.25 40.25 \r\nQ 66.40625 42.578125 64.15625 43.984375 \r\nQ 61.921875 45.40625 58.890625 45.40625 \r\nQ 53.421875 45.40625 49.796875 41.765625 \r\nQ 46.1875 38.140625 46.1875 30.125 \r\nL 46.1875 0 \r\nL 37.40625 0 \r\nL 37.40625 33.6875 \r\nQ 37.40625 39.546875 35.25 42.46875 \r\nQ 33.109375 45.40625 28.21875 45.40625 \r\nQ 24.515625 45.40625 21.359375 43.453125 \r\nQ 18.21875 41.5 16.796875 37.734375 \r\nQ 15.375 33.984375 15.375 26.90625 \r\nL 15.375 0 \r\nz\r\n\" id=\"ArialMT-109\"/>\r\n        <path d=\"M 40.4375 6.390625 \r\nQ 35.546875 2.25 31.03125 0.53125 \r\nQ 26.515625 -1.171875 21.34375 -1.171875 \r\nQ 12.796875 -1.171875 8.203125 3 \r\nQ 3.609375 7.171875 3.609375 13.671875 \r\nQ 3.609375 17.484375 5.34375 20.625 \r\nQ 7.078125 23.78125 9.890625 25.6875 \r\nQ 12.703125 27.59375 16.21875 28.5625 \r\nQ 18.796875 29.25 24.03125 29.890625 \r\nQ 34.671875 31.15625 39.703125 32.90625 \r\nQ 39.75 34.71875 39.75 35.203125 \r\nQ 39.75 40.578125 37.25 42.78125 \r\nQ 33.890625 45.75 27.25 45.75 \r\nQ 21.046875 45.75 18.09375 43.578125 \r\nQ 15.140625 41.40625 13.71875 35.890625 \r\nL 5.125 37.0625 \r\nQ 6.296875 42.578125 8.984375 45.96875 \r\nQ 11.671875 49.359375 16.75 51.1875 \r\nQ 21.828125 53.03125 28.515625 53.03125 \r\nQ 35.15625 53.03125 39.296875 51.46875 \r\nQ 43.453125 49.90625 45.40625 47.53125 \r\nQ 47.359375 45.171875 48.140625 41.546875 \r\nQ 48.578125 39.3125 48.578125 33.453125 \r\nL 48.578125 21.734375 \r\nQ 48.578125 9.46875 49.140625 6.21875 \r\nQ 49.703125 2.984375 51.375 0 \r\nL 42.1875 0 \r\nQ 40.828125 2.734375 40.4375 6.390625 \r\nz\r\nM 39.703125 26.03125 \r\nQ 34.90625 24.078125 25.34375 22.703125 \r\nQ 19.921875 21.921875 17.671875 20.9375 \r\nQ 15.4375 19.96875 14.203125 18.09375 \r\nQ 12.984375 16.21875 12.984375 13.921875 \r\nQ 12.984375 10.40625 15.640625 8.0625 \r\nQ 18.3125 5.71875 23.4375 5.71875 \r\nQ 28.515625 5.71875 32.46875 7.9375 \r\nQ 36.421875 10.15625 38.28125 14.015625 \r\nQ 39.703125 17 39.703125 22.796875 \r\nz\r\n\" id=\"ArialMT-97\"/>\r\n        <path d=\"M 6.390625 0 \r\nL 6.390625 71.578125 \r\nL 15.1875 71.578125 \r\nL 15.1875 0 \r\nz\r\n\" id=\"ArialMT-108\"/>\r\n       </defs>\r\n       <use xlink:href=\"#ArialMT-70\"/>\r\n       <use x=\"61.083984\" xlink:href=\"#ArialMT-101\"/>\r\n       <use x=\"116.699219\" xlink:href=\"#ArialMT-109\"/>\r\n       <use x=\"200\" xlink:href=\"#ArialMT-97\"/>\r\n       <use x=\"255.615234\" xlink:href=\"#ArialMT-108\"/>\r\n       <use x=\"277.832031\" xlink:href=\"#ArialMT-101\"/>\r\n      </g>\r\n     </g>\r\n    </g>\r\n    <g id=\"xtick_2\">\r\n     <g id=\"text_2\">\r\n      <!-- Male -->\r\n      <g style=\"fill:#262626;\" transform=\"translate(475.243047 311.109219)scale(0.11 -0.11)\">\r\n       <defs>\r\n        <path d=\"M 7.421875 0 \r\nL 7.421875 71.578125 \r\nL 21.6875 71.578125 \r\nL 38.625 20.90625 \r\nQ 40.96875 13.8125 42.046875 10.296875 \r\nQ 43.265625 14.203125 45.84375 21.78125 \r\nL 62.984375 71.578125 \r\nL 75.734375 71.578125 \r\nL 75.734375 0 \r\nL 66.609375 0 \r\nL 66.609375 59.90625 \r\nL 45.796875 0 \r\nL 37.25 0 \r\nL 16.546875 60.9375 \r\nL 16.546875 0 \r\nz\r\n\" id=\"ArialMT-77\"/>\r\n       </defs>\r\n       <use xlink:href=\"#ArialMT-77\"/>\r\n       <use x=\"83.300781\" xlink:href=\"#ArialMT-97\"/>\r\n       <use x=\"138.916016\" xlink:href=\"#ArialMT-108\"/>\r\n       <use x=\"161.132812\" xlink:href=\"#ArialMT-101\"/>\r\n      </g>\r\n     </g>\r\n    </g>\r\n    <g id=\"text_3\">\r\n     <!-- Gender -->\r\n     <g style=\"fill:#262626;\" transform=\"translate(327.6525 325.884844)scale(0.12 -0.12)\">\r\n      <defs>\r\n       <path d=\"M 41.21875 28.078125 \r\nL 41.21875 36.46875 \r\nL 71.53125 36.53125 \r\nL 71.53125 9.96875 \r\nQ 64.546875 4.390625 57.125 1.578125 \r\nQ 49.703125 -1.21875 41.890625 -1.21875 \r\nQ 31.34375 -1.21875 22.71875 3.296875 \r\nQ 14.109375 7.8125 9.71875 16.359375 \r\nQ 5.328125 24.90625 5.328125 35.453125 \r\nQ 5.328125 45.90625 9.6875 54.953125 \r\nQ 14.0625 64.015625 22.265625 68.40625 \r\nQ 30.46875 72.796875 41.15625 72.796875 \r\nQ 48.921875 72.796875 55.1875 70.28125 \r\nQ 61.46875 67.78125 65.03125 63.28125 \r\nQ 68.609375 58.796875 70.453125 51.5625 \r\nL 61.921875 49.21875 \r\nQ 60.296875 54.6875 57.90625 57.8125 \r\nQ 55.515625 60.9375 51.0625 62.8125 \r\nQ 46.625 64.703125 41.21875 64.703125 \r\nQ 34.71875 64.703125 29.984375 62.71875 \r\nQ 25.25 60.75 22.34375 57.515625 \r\nQ 19.4375 54.296875 17.828125 50.4375 \r\nQ 15.09375 43.796875 15.09375 36.03125 \r\nQ 15.09375 26.46875 18.390625 20.015625 \r\nQ 21.6875 13.578125 27.984375 10.453125 \r\nQ 34.28125 7.328125 41.359375 7.328125 \r\nQ 47.515625 7.328125 53.375 9.6875 \r\nQ 59.234375 12.0625 62.25 14.75 \r\nL 62.25 28.078125 \r\nz\r\n\" id=\"ArialMT-71\"/>\r\n       <path d=\"M 6.59375 0 \r\nL 6.59375 51.859375 \r\nL 14.5 51.859375 \r\nL 14.5 44.484375 \r\nQ 20.21875 53.03125 31 53.03125 \r\nQ 35.6875 53.03125 39.625 51.34375 \r\nQ 43.5625 49.65625 45.515625 46.921875 \r\nQ 47.46875 44.1875 48.25 40.4375 \r\nQ 48.734375 37.984375 48.734375 31.890625 \r\nL 48.734375 0 \r\nL 39.9375 0 \r\nL 39.9375 31.546875 \r\nQ 39.9375 36.921875 38.90625 39.578125 \r\nQ 37.890625 42.234375 35.28125 43.8125 \r\nQ 32.671875 45.40625 29.15625 45.40625 \r\nQ 23.53125 45.40625 19.453125 41.84375 \r\nQ 15.375 38.28125 15.375 28.328125 \r\nL 15.375 0 \r\nz\r\n\" id=\"ArialMT-110\"/>\r\n       <path d=\"M 40.234375 0 \r\nL 40.234375 6.546875 \r\nQ 35.296875 -1.171875 25.734375 -1.171875 \r\nQ 19.53125 -1.171875 14.328125 2.25 \r\nQ 9.125 5.671875 6.265625 11.796875 \r\nQ 3.421875 17.921875 3.421875 25.875 \r\nQ 3.421875 33.640625 6 39.96875 \r\nQ 8.59375 46.296875 13.765625 49.65625 \r\nQ 18.953125 53.03125 25.34375 53.03125 \r\nQ 30.03125 53.03125 33.6875 51.046875 \r\nQ 37.359375 49.078125 39.65625 45.90625 \r\nL 39.65625 71.578125 \r\nL 48.390625 71.578125 \r\nL 48.390625 0 \r\nz\r\nM 12.453125 25.875 \r\nQ 12.453125 15.921875 16.640625 10.984375 \r\nQ 20.84375 6.0625 26.5625 6.0625 \r\nQ 32.328125 6.0625 36.34375 10.765625 \r\nQ 40.375 15.484375 40.375 25.140625 \r\nQ 40.375 35.796875 36.265625 40.765625 \r\nQ 32.171875 45.75 26.171875 45.75 \r\nQ 20.3125 45.75 16.375 40.96875 \r\nQ 12.453125 36.1875 12.453125 25.875 \r\nz\r\n\" id=\"ArialMT-100\"/>\r\n       <path d=\"M 6.5 0 \r\nL 6.5 51.859375 \r\nL 14.40625 51.859375 \r\nL 14.40625 44 \r\nQ 17.4375 49.515625 20 51.265625 \r\nQ 22.5625 53.03125 25.640625 53.03125 \r\nQ 30.078125 53.03125 34.671875 50.203125 \r\nL 31.640625 42.046875 \r\nQ 28.421875 43.953125 25.203125 43.953125 \r\nQ 22.3125 43.953125 20.015625 42.21875 \r\nQ 17.71875 40.484375 16.75 37.40625 \r\nQ 15.28125 32.71875 15.28125 27.15625 \r\nL 15.28125 0 \r\nz\r\n\" id=\"ArialMT-114\"/>\r\n      </defs>\r\n      <use xlink:href=\"#ArialMT-71\"/>\r\n      <use x=\"77.783203\" xlink:href=\"#ArialMT-101\"/>\r\n      <use x=\"133.398438\" xlink:href=\"#ArialMT-110\"/>\r\n      <use x=\"189.013672\" xlink:href=\"#ArialMT-100\"/>\r\n      <use x=\"244.628906\" xlink:href=\"#ArialMT-101\"/>\r\n      <use x=\"300.244141\" xlink:href=\"#ArialMT-114\"/>\r\n     </g>\r\n    </g>\r\n   </g>\r\n   <g id=\"matplotlib.axis_2\">\r\n    <g id=\"ytick_1\">\r\n     <g id=\"line2d_1\">\r\n      <path clip-path=\"url(#p969f2e2c32)\" d=\"M 68.663438 261.798117 \r\nL 626.663437 261.798117 \r\n\" style=\"fill:none;stroke:#cccccc;stroke-linecap:round;\"/>\r\n     </g>\r\n     <g id=\"text_4\">\r\n      <!-- 40000 -->\r\n      <g style=\"fill:#262626;\" transform=\"translate(28.578281 265.734914)scale(0.11 -0.11)\">\r\n       <defs>\r\n        <path d=\"M 32.328125 0 \r\nL 32.328125 17.140625 \r\nL 1.265625 17.140625 \r\nL 1.265625 25.203125 \r\nL 33.9375 71.578125 \r\nL 41.109375 71.578125 \r\nL 41.109375 25.203125 \r\nL 50.78125 25.203125 \r\nL 50.78125 17.140625 \r\nL 41.109375 17.140625 \r\nL 41.109375 0 \r\nz\r\nM 32.328125 25.203125 \r\nL 32.328125 57.46875 \r\nL 9.90625 25.203125 \r\nz\r\n\" id=\"ArialMT-52\"/>\r\n        <path d=\"M 4.15625 35.296875 \r\nQ 4.15625 48 6.765625 55.734375 \r\nQ 9.375 63.484375 14.515625 67.671875 \r\nQ 19.671875 71.875 27.484375 71.875 \r\nQ 33.25 71.875 37.59375 69.546875 \r\nQ 41.9375 67.234375 44.765625 62.859375 \r\nQ 47.609375 58.5 49.21875 52.21875 \r\nQ 50.828125 45.953125 50.828125 35.296875 \r\nQ 50.828125 22.703125 48.234375 14.96875 \r\nQ 45.65625 7.234375 40.5 3 \r\nQ 35.359375 -1.21875 27.484375 -1.21875 \r\nQ 17.140625 -1.21875 11.234375 6.203125 \r\nQ 4.15625 15.140625 4.15625 35.296875 \r\nz\r\nM 13.1875 35.296875 \r\nQ 13.1875 17.671875 17.3125 11.828125 \r\nQ 21.4375 6 27.484375 6 \r\nQ 33.546875 6 37.671875 11.859375 \r\nQ 41.796875 17.71875 41.796875 35.296875 \r\nQ 41.796875 52.984375 37.671875 58.78125 \r\nQ 33.546875 64.59375 27.390625 64.59375 \r\nQ 21.34375 64.59375 17.71875 59.46875 \r\nQ 13.1875 52.9375 13.1875 35.296875 \r\nz\r\n\" id=\"ArialMT-48\"/>\r\n       </defs>\r\n       <use xlink:href=\"#ArialMT-52\"/>\r\n       <use x=\"55.615234\" xlink:href=\"#ArialMT-48\"/>\r\n       <use x=\"111.230469\" xlink:href=\"#ArialMT-48\"/>\r\n       <use x=\"166.845703\" xlink:href=\"#ArialMT-48\"/>\r\n       <use x=\"222.460938\" xlink:href=\"#ArialMT-48\"/>\r\n      </g>\r\n     </g>\r\n    </g>\r\n    <g id=\"ytick_2\">\r\n     <g id=\"line2d_2\">\r\n      <path clip-path=\"url(#p969f2e2c32)\" d=\"M 68.663438 225.800024 \r\nL 626.663437 225.800024 \r\n\" style=\"fill:none;stroke:#cccccc;stroke-linecap:round;\"/>\r\n     </g>\r\n     <g id=\"text_5\">\r\n      <!-- 60000 -->\r\n      <g style=\"fill:#262626;\" transform=\"translate(28.578281 229.736821)scale(0.11 -0.11)\">\r\n       <defs>\r\n        <path d=\"M 49.75 54.046875 \r\nL 41.015625 53.375 \r\nQ 39.84375 58.546875 37.703125 60.890625 \r\nQ 34.125 64.65625 28.90625 64.65625 \r\nQ 24.703125 64.65625 21.53125 62.3125 \r\nQ 17.390625 59.28125 14.984375 53.46875 \r\nQ 12.59375 47.65625 12.5 36.921875 \r\nQ 15.671875 41.75 20.265625 44.09375 \r\nQ 24.859375 46.4375 29.890625 46.4375 \r\nQ 38.671875 46.4375 44.84375 39.96875 \r\nQ 51.03125 33.5 51.03125 23.25 \r\nQ 51.03125 16.5 48.125 10.71875 \r\nQ 45.21875 4.9375 40.140625 1.859375 \r\nQ 35.0625 -1.21875 28.609375 -1.21875 \r\nQ 17.625 -1.21875 10.6875 6.859375 \r\nQ 3.765625 14.9375 3.765625 33.5 \r\nQ 3.765625 54.25 11.421875 63.671875 \r\nQ 18.109375 71.875 29.4375 71.875 \r\nQ 37.890625 71.875 43.28125 67.140625 \r\nQ 48.6875 62.40625 49.75 54.046875 \r\nz\r\nM 13.875 23.1875 \r\nQ 13.875 18.65625 15.796875 14.5 \r\nQ 17.71875 10.359375 21.1875 8.171875 \r\nQ 24.65625 6 28.46875 6 \r\nQ 34.03125 6 38.03125 10.484375 \r\nQ 42.046875 14.984375 42.046875 22.703125 \r\nQ 42.046875 30.125 38.078125 34.390625 \r\nQ 34.125 38.671875 28.125 38.671875 \r\nQ 22.171875 38.671875 18.015625 34.390625 \r\nQ 13.875 30.125 13.875 23.1875 \r\nz\r\n\" id=\"ArialMT-54\"/>\r\n       </defs>\r\n       <use xlink:href=\"#ArialMT-54\"/>\r\n       <use x=\"55.615234\" xlink:href=\"#ArialMT-48\"/>\r\n       <use x=\"111.230469\" xlink:href=\"#ArialMT-48\"/>\r\n       <use x=\"166.845703\" xlink:href=\"#ArialMT-48\"/>\r\n       <use x=\"222.460938\" xlink:href=\"#ArialMT-48\"/>\r\n      </g>\r\n     </g>\r\n    </g>\r\n    <g id=\"ytick_3\">\r\n     <g id=\"line2d_3\">\r\n      <path clip-path=\"url(#p969f2e2c32)\" d=\"M 68.663438 189.801931 \r\nL 626.663437 189.801931 \r\n\" style=\"fill:none;stroke:#cccccc;stroke-linecap:round;\"/>\r\n     </g>\r\n     <g id=\"text_6\">\r\n      <!-- 80000 -->\r\n      <g style=\"fill:#262626;\" transform=\"translate(28.578281 193.738728)scale(0.11 -0.11)\">\r\n       <defs>\r\n        <path d=\"M 17.671875 38.8125 \r\nQ 12.203125 40.828125 9.5625 44.53125 \r\nQ 6.9375 48.25 6.9375 53.421875 \r\nQ 6.9375 61.234375 12.546875 66.546875 \r\nQ 18.171875 71.875 27.484375 71.875 \r\nQ 36.859375 71.875 42.578125 66.421875 \r\nQ 48.296875 60.984375 48.296875 53.171875 \r\nQ 48.296875 48.1875 45.671875 44.5 \r\nQ 43.0625 40.828125 37.75 38.8125 \r\nQ 44.34375 36.671875 47.78125 31.875 \r\nQ 51.21875 27.09375 51.21875 20.453125 \r\nQ 51.21875 11.28125 44.71875 5.03125 \r\nQ 38.234375 -1.21875 27.640625 -1.21875 \r\nQ 17.046875 -1.21875 10.546875 5.046875 \r\nQ 4.046875 11.328125 4.046875 20.703125 \r\nQ 4.046875 27.6875 7.59375 32.390625 \r\nQ 11.140625 37.109375 17.671875 38.8125 \r\nz\r\nM 15.921875 53.71875 \r\nQ 15.921875 48.640625 19.1875 45.40625 \r\nQ 22.46875 42.1875 27.6875 42.1875 \r\nQ 32.765625 42.1875 36.015625 45.375 \r\nQ 39.265625 48.578125 39.265625 53.21875 \r\nQ 39.265625 58.0625 35.90625 61.359375 \r\nQ 32.5625 64.65625 27.59375 64.65625 \r\nQ 22.5625 64.65625 19.234375 61.421875 \r\nQ 15.921875 58.203125 15.921875 53.71875 \r\nz\r\nM 13.09375 20.65625 \r\nQ 13.09375 16.890625 14.875 13.375 \r\nQ 16.65625 9.859375 20.171875 7.921875 \r\nQ 23.6875 6 27.734375 6 \r\nQ 34.03125 6 38.125 10.046875 \r\nQ 42.234375 14.109375 42.234375 20.359375 \r\nQ 42.234375 26.703125 38.015625 30.859375 \r\nQ 33.796875 35.015625 27.4375 35.015625 \r\nQ 21.234375 35.015625 17.15625 30.90625 \r\nQ 13.09375 26.8125 13.09375 20.65625 \r\nz\r\n\" id=\"ArialMT-56\"/>\r\n       </defs>\r\n       <use xlink:href=\"#ArialMT-56\"/>\r\n       <use x=\"55.615234\" xlink:href=\"#ArialMT-48\"/>\r\n       <use x=\"111.230469\" xlink:href=\"#ArialMT-48\"/>\r\n       <use x=\"166.845703\" xlink:href=\"#ArialMT-48\"/>\r\n       <use x=\"222.460938\" xlink:href=\"#ArialMT-48\"/>\r\n      </g>\r\n     </g>\r\n    </g>\r\n    <g id=\"ytick_4\">\r\n     <g id=\"line2d_4\">\r\n      <path clip-path=\"url(#p969f2e2c32)\" d=\"M 68.663438 153.803839 \r\nL 626.663437 153.803839 \r\n\" style=\"fill:none;stroke:#cccccc;stroke-linecap:round;\"/>\r\n     </g>\r\n     <g id=\"text_7\">\r\n      <!-- 100000 -->\r\n      <g style=\"fill:#262626;\" transform=\"translate(22.46125 157.740635)scale(0.11 -0.11)\">\r\n       <defs>\r\n        <path d=\"M 37.25 0 \r\nL 28.46875 0 \r\nL 28.46875 56 \r\nQ 25.296875 52.984375 20.140625 49.953125 \r\nQ 14.984375 46.921875 10.890625 45.40625 \r\nL 10.890625 53.90625 \r\nQ 18.265625 57.375 23.78125 62.296875 \r\nQ 29.296875 67.234375 31.59375 71.875 \r\nL 37.25 71.875 \r\nz\r\n\" id=\"ArialMT-49\"/>\r\n       </defs>\r\n       <use xlink:href=\"#ArialMT-49\"/>\r\n       <use x=\"55.615234\" xlink:href=\"#ArialMT-48\"/>\r\n       <use x=\"111.230469\" xlink:href=\"#ArialMT-48\"/>\r\n       <use x=\"166.845703\" xlink:href=\"#ArialMT-48\"/>\r\n       <use x=\"222.460938\" xlink:href=\"#ArialMT-48\"/>\r\n       <use x=\"278.076172\" xlink:href=\"#ArialMT-48\"/>\r\n      </g>\r\n     </g>\r\n    </g>\r\n    <g id=\"ytick_5\">\r\n     <g id=\"line2d_5\">\r\n      <path clip-path=\"url(#p969f2e2c32)\" d=\"M 68.663438 117.805746 \r\nL 626.663437 117.805746 \r\n\" style=\"fill:none;stroke:#cccccc;stroke-linecap:round;\"/>\r\n     </g>\r\n     <g id=\"text_8\">\r\n      <!-- 120000 -->\r\n      <g style=\"fill:#262626;\" transform=\"translate(22.46125 121.742543)scale(0.11 -0.11)\">\r\n       <defs>\r\n        <path d=\"M 50.34375 8.453125 \r\nL 50.34375 0 \r\nL 3.03125 0 \r\nQ 2.9375 3.171875 4.046875 6.109375 \r\nQ 5.859375 10.9375 9.828125 15.625 \r\nQ 13.8125 20.3125 21.34375 26.46875 \r\nQ 33.015625 36.03125 37.109375 41.625 \r\nQ 41.21875 47.21875 41.21875 52.203125 \r\nQ 41.21875 57.421875 37.46875 61 \r\nQ 33.734375 64.59375 27.734375 64.59375 \r\nQ 21.390625 64.59375 17.578125 60.78125 \r\nQ 13.765625 56.984375 13.71875 50.25 \r\nL 4.6875 51.171875 \r\nQ 5.609375 61.28125 11.65625 66.578125 \r\nQ 17.71875 71.875 27.9375 71.875 \r\nQ 38.234375 71.875 44.234375 66.15625 \r\nQ 50.25 60.453125 50.25 52 \r\nQ 50.25 47.703125 48.484375 43.546875 \r\nQ 46.734375 39.40625 42.65625 34.8125 \r\nQ 38.578125 30.21875 29.109375 22.21875 \r\nQ 21.1875 15.578125 18.9375 13.203125 \r\nQ 16.703125 10.84375 15.234375 8.453125 \r\nz\r\n\" id=\"ArialMT-50\"/>\r\n       </defs>\r\n       <use xlink:href=\"#ArialMT-49\"/>\r\n       <use x=\"55.615234\" xlink:href=\"#ArialMT-50\"/>\r\n       <use x=\"111.230469\" xlink:href=\"#ArialMT-48\"/>\r\n       <use x=\"166.845703\" xlink:href=\"#ArialMT-48\"/>\r\n       <use x=\"222.460938\" xlink:href=\"#ArialMT-48\"/>\r\n       <use x=\"278.076172\" xlink:href=\"#ArialMT-48\"/>\r\n      </g>\r\n     </g>\r\n    </g>\r\n    <g id=\"ytick_6\">\r\n     <g id=\"line2d_6\">\r\n      <path clip-path=\"url(#p969f2e2c32)\" d=\"M 68.663438 81.807653 \r\nL 626.663437 81.807653 \r\n\" style=\"fill:none;stroke:#cccccc;stroke-linecap:round;\"/>\r\n     </g>\r\n     <g id=\"text_9\">\r\n      <!-- 140000 -->\r\n      <g style=\"fill:#262626;\" transform=\"translate(22.46125 85.74445)scale(0.11 -0.11)\">\r\n       <use xlink:href=\"#ArialMT-49\"/>\r\n       <use x=\"55.615234\" xlink:href=\"#ArialMT-52\"/>\r\n       <use x=\"111.230469\" xlink:href=\"#ArialMT-48\"/>\r\n       <use x=\"166.845703\" xlink:href=\"#ArialMT-48\"/>\r\n       <use x=\"222.460938\" xlink:href=\"#ArialMT-48\"/>\r\n       <use x=\"278.076172\" xlink:href=\"#ArialMT-48\"/>\r\n      </g>\r\n     </g>\r\n    </g>\r\n    <g id=\"ytick_7\">\r\n     <g id=\"line2d_7\">\r\n      <path clip-path=\"url(#p969f2e2c32)\" d=\"M 68.663438 45.80956 \r\nL 626.663437 45.80956 \r\n\" style=\"fill:none;stroke:#cccccc;stroke-linecap:round;\"/>\r\n     </g>\r\n     <g id=\"text_10\">\r\n      <!-- 160000 -->\r\n      <g style=\"fill:#262626;\" transform=\"translate(22.46125 49.746357)scale(0.11 -0.11)\">\r\n       <use xlink:href=\"#ArialMT-49\"/>\r\n       <use x=\"55.615234\" xlink:href=\"#ArialMT-54\"/>\r\n       <use x=\"111.230469\" xlink:href=\"#ArialMT-48\"/>\r\n       <use x=\"166.845703\" xlink:href=\"#ArialMT-48\"/>\r\n       <use x=\"222.460938\" xlink:href=\"#ArialMT-48\"/>\r\n       <use x=\"278.076172\" xlink:href=\"#ArialMT-48\"/>\r\n      </g>\r\n     </g>\r\n    </g>\r\n    <g id=\"text_11\">\r\n     <!-- Salary -->\r\n     <g style=\"fill:#262626;\" transform=\"translate(15.935625 174.841875)rotate(-90)scale(0.12 -0.12)\">\r\n      <defs>\r\n       <path d=\"M 4.5 23 \r\nL 13.421875 23.78125 \r\nQ 14.0625 18.40625 16.375 14.96875 \r\nQ 18.703125 11.53125 23.578125 9.40625 \r\nQ 28.46875 7.28125 34.578125 7.28125 \r\nQ 39.984375 7.28125 44.140625 8.890625 \r\nQ 48.296875 10.5 50.3125 13.296875 \r\nQ 52.34375 16.109375 52.34375 19.4375 \r\nQ 52.34375 22.796875 50.390625 25.3125 \r\nQ 48.4375 27.828125 43.953125 29.546875 \r\nQ 41.0625 30.671875 31.203125 33.03125 \r\nQ 21.34375 35.40625 17.390625 37.5 \r\nQ 12.25 40.1875 9.734375 44.15625 \r\nQ 7.234375 48.140625 7.234375 53.078125 \r\nQ 7.234375 58.5 10.296875 63.203125 \r\nQ 13.375 67.921875 19.28125 70.359375 \r\nQ 25.203125 72.796875 32.421875 72.796875 \r\nQ 40.375 72.796875 46.453125 70.234375 \r\nQ 52.546875 67.671875 55.8125 62.6875 \r\nQ 59.078125 57.71875 59.328125 51.421875 \r\nL 50.25 50.734375 \r\nQ 49.515625 57.515625 45.28125 60.984375 \r\nQ 41.0625 64.453125 32.8125 64.453125 \r\nQ 24.21875 64.453125 20.28125 61.296875 \r\nQ 16.359375 58.15625 16.359375 53.71875 \r\nQ 16.359375 49.859375 19.140625 47.359375 \r\nQ 21.875 44.875 33.421875 42.265625 \r\nQ 44.96875 39.65625 49.265625 37.703125 \r\nQ 55.515625 34.8125 58.484375 30.390625 \r\nQ 61.46875 25.984375 61.46875 20.21875 \r\nQ 61.46875 14.5 58.203125 9.4375 \r\nQ 54.9375 4.390625 48.796875 1.578125 \r\nQ 42.671875 -1.21875 35.015625 -1.21875 \r\nQ 25.296875 -1.21875 18.71875 1.609375 \r\nQ 12.15625 4.4375 8.421875 10.125 \r\nQ 4.6875 15.828125 4.5 23 \r\nz\r\n\" id=\"ArialMT-83\"/>\r\n       <path d=\"M 6.203125 -19.96875 \r\nL 5.21875 -11.71875 \r\nQ 8.109375 -12.5 10.25 -12.5 \r\nQ 13.1875 -12.5 14.9375 -11.515625 \r\nQ 16.703125 -10.546875 17.828125 -8.796875 \r\nQ 18.65625 -7.46875 20.515625 -2.25 \r\nQ 20.75 -1.515625 21.296875 -0.09375 \r\nL 1.609375 51.859375 \r\nL 11.078125 51.859375 \r\nL 21.875 21.828125 \r\nQ 23.96875 16.109375 25.640625 9.8125 \r\nQ 27.15625 15.875 29.25 21.625 \r\nL 40.328125 51.859375 \r\nL 49.125 51.859375 \r\nL 29.390625 -0.875 \r\nQ 26.21875 -9.421875 24.46875 -12.640625 \r\nQ 22.125 -17 19.09375 -19.015625 \r\nQ 16.0625 -21.046875 11.859375 -21.046875 \r\nQ 9.328125 -21.046875 6.203125 -19.96875 \r\nz\r\n\" id=\"ArialMT-121\"/>\r\n      </defs>\r\n      <use xlink:href=\"#ArialMT-83\"/>\r\n      <use x=\"66.699219\" xlink:href=\"#ArialMT-97\"/>\r\n      <use x=\"122.314453\" xlink:href=\"#ArialMT-108\"/>\r\n      <use x=\"144.53125\" xlink:href=\"#ArialMT-97\"/>\r\n      <use x=\"200.146484\" xlink:href=\"#ArialMT-114\"/>\r\n      <use x=\"233.447266\" xlink:href=\"#ArialMT-121\"/>\r\n     </g>\r\n    </g>\r\n   </g>\r\n   <g id=\"patch_3\">\r\n    <path clip-path=\"url(#p969f2e2c32)\" d=\"M 96.563437 258.91827 \r\nL 319.763438 258.91827 \r\nL 319.763438 156.150914 \r\nL 96.563437 156.150914 \r\nL 96.563437 258.91827 \r\nz\r\n\" style=\"fill:#5875a4;stroke:#4c4c4c;stroke-linejoin:miter;stroke-width:1.5;\"/>\r\n   </g>\r\n   <g id=\"patch_4\">\r\n    <path clip-path=\"url(#p969f2e2c32)\" d=\"M 375.563437 258.91827 \r\nL 598.763438 258.91827 \r\nL 598.763438 127.885212 \r\nL 375.563437 127.885212 \r\nL 375.563437 258.91827 \r\nz\r\n\" style=\"fill:#cc8963;stroke:#4c4c4c;stroke-linejoin:miter;stroke-width:1.5;\"/>\r\n   </g>\r\n   <g id=\"line2d_8\">\r\n    <path clip-path=\"url(#p969f2e2c32)\" d=\"M 208.163437 258.91827 \r\nL 208.163437 281.38108 \r\n\" style=\"fill:none;stroke:#4c4c4c;stroke-linecap:round;stroke-width:1.5;\"/>\r\n   </g>\r\n   <g id=\"line2d_9\">\r\n    <path clip-path=\"url(#p969f2e2c32)\" d=\"M 208.163437 156.150914 \r\nL 208.163437 34.29017 \r\n\" style=\"fill:none;stroke:#4c4c4c;stroke-linecap:round;stroke-width:1.5;\"/>\r\n   </g>\r\n   <g id=\"line2d_10\">\r\n    <path clip-path=\"url(#p969f2e2c32)\" d=\"M 152.363437 281.38108 \r\nL 263.963437 281.38108 \r\n\" style=\"fill:none;stroke:#4c4c4c;stroke-linecap:round;stroke-width:1.5;\"/>\r\n   </g>\r\n   <g id=\"line2d_11\">\r\n    <path clip-path=\"url(#p969f2e2c32)\" d=\"M 152.363437 34.29017 \r\nL 263.963437 34.29017 \r\n\" style=\"fill:none;stroke:#4c4c4c;stroke-linecap:round;stroke-width:1.5;\"/>\r\n   </g>\r\n   <g id=\"line2d_12\"/>\r\n   <g id=\"line2d_13\">\r\n    <path clip-path=\"url(#p969f2e2c32)\" d=\"M 487.163437 258.91827 \r\nL 487.163437 281.38108 \r\n\" style=\"fill:none;stroke:#4c4c4c;stroke-linecap:round;stroke-width:1.5;\"/>\r\n   </g>\r\n   <g id=\"line2d_14\">\r\n    <path clip-path=\"url(#p969f2e2c32)\" d=\"M 487.163437 127.885212 \r\nL 487.163437 90.447195 \r\n\" style=\"fill:none;stroke:#4c4c4c;stroke-linecap:round;stroke-width:1.5;\"/>\r\n   </g>\r\n   <g id=\"line2d_15\">\r\n    <path clip-path=\"url(#p969f2e2c32)\" d=\"M 431.363438 281.38108 \r\nL 542.963438 281.38108 \r\n\" style=\"fill:none;stroke:#4c4c4c;stroke-linecap:round;stroke-width:1.5;\"/>\r\n   </g>\r\n   <g id=\"line2d_16\">\r\n    <path clip-path=\"url(#p969f2e2c32)\" d=\"M 431.363438 90.447195 \r\nL 542.963438 90.447195 \r\n\" style=\"fill:none;stroke:#4c4c4c;stroke-linecap:round;stroke-width:1.5;\"/>\r\n   </g>\r\n   <g id=\"line2d_17\"/>\r\n   <g id=\"line2d_18\">\r\n    <path clip-path=\"url(#p969f2e2c32)\" d=\"M 96.563437 243.007113 \r\nL 319.763438 243.007113 \r\n\" style=\"fill:none;stroke:#4c4c4c;stroke-linecap:round;stroke-width:1.5;\"/>\r\n   </g>\r\n   <g id=\"line2d_19\">\r\n    <path clip-path=\"url(#p969f2e2c32)\" d=\"M 375.563437 232.711658 \r\nL 598.763438 232.711658 \r\n\" style=\"fill:none;stroke:#4c4c4c;stroke-linecap:round;stroke-width:1.5;\"/>\r\n   </g>\r\n   <g id=\"patch_5\">\r\n    <path d=\"M 68.663438 293.735625 \r\nL 68.663438 21.935625 \r\n\" style=\"fill:none;stroke:#cccccc;stroke-linecap:square;stroke-linejoin:miter;stroke-width:1.25;\"/>\r\n   </g>\r\n   <g id=\"patch_6\">\r\n    <path d=\"M 626.663437 293.735625 \r\nL 626.663437 21.935625 \r\n\" style=\"fill:none;stroke:#cccccc;stroke-linecap:square;stroke-linejoin:miter;stroke-width:1.25;\"/>\r\n   </g>\r\n   <g id=\"patch_7\">\r\n    <path d=\"M 68.663437 293.735625 \r\nL 626.663437 293.735625 \r\n\" style=\"fill:none;stroke:#cccccc;stroke-linecap:square;stroke-linejoin:miter;stroke-width:1.25;\"/>\r\n   </g>\r\n   <g id=\"patch_8\">\r\n    <path d=\"M 68.663437 21.935625 \r\nL 626.663437 21.935625 \r\n\" style=\"fill:none;stroke:#cccccc;stroke-linecap:square;stroke-linejoin:miter;stroke-width:1.25;\"/>\r\n   </g>\r\n   <g id=\"text_12\">\r\n    <!-- Salaries by gender -->\r\n    <g style=\"fill:#262626;\" transform=\"translate(297.636562 15.935625)scale(0.12 -0.12)\">\r\n     <defs>\r\n      <path d=\"M 6.640625 61.46875 \r\nL 6.640625 71.578125 \r\nL 15.4375 71.578125 \r\nL 15.4375 61.46875 \r\nz\r\nM 6.640625 0 \r\nL 6.640625 51.859375 \r\nL 15.4375 51.859375 \r\nL 15.4375 0 \r\nz\r\n\" id=\"ArialMT-105\"/>\r\n      <path d=\"M 3.078125 15.484375 \r\nL 11.765625 16.84375 \r\nQ 12.5 11.625 15.84375 8.84375 \r\nQ 19.1875 6.0625 25.203125 6.0625 \r\nQ 31.25 6.0625 34.171875 8.515625 \r\nQ 37.109375 10.984375 37.109375 14.3125 \r\nQ 37.109375 17.28125 34.515625 19 \r\nQ 32.71875 20.171875 25.53125 21.96875 \r\nQ 15.875 24.421875 12.140625 26.203125 \r\nQ 8.40625 27.984375 6.46875 31.125 \r\nQ 4.546875 34.28125 4.546875 38.09375 \r\nQ 4.546875 41.546875 6.125 44.5 \r\nQ 7.71875 47.46875 10.453125 49.421875 \r\nQ 12.5 50.921875 16.03125 51.96875 \r\nQ 19.578125 53.03125 23.640625 53.03125 \r\nQ 29.734375 53.03125 34.34375 51.265625 \r\nQ 38.96875 49.515625 41.15625 46.5 \r\nQ 43.359375 43.5 44.1875 38.484375 \r\nL 35.59375 37.3125 \r\nQ 35.015625 41.3125 32.203125 43.546875 \r\nQ 29.390625 45.796875 24.265625 45.796875 \r\nQ 18.21875 45.796875 15.625 43.796875 \r\nQ 13.03125 41.796875 13.03125 39.109375 \r\nQ 13.03125 37.40625 14.109375 36.03125 \r\nQ 15.1875 34.625 17.484375 33.6875 \r\nQ 18.796875 33.203125 25.25 31.453125 \r\nQ 34.578125 28.953125 38.25 27.359375 \r\nQ 41.9375 25.78125 44.03125 22.75 \r\nQ 46.140625 19.734375 46.140625 15.234375 \r\nQ 46.140625 10.84375 43.578125 6.953125 \r\nQ 41.015625 3.078125 36.171875 0.953125 \r\nQ 31.34375 -1.171875 25.25 -1.171875 \r\nQ 15.140625 -1.171875 9.84375 3.03125 \r\nQ 4.546875 7.234375 3.078125 15.484375 \r\nz\r\n\" id=\"ArialMT-115\"/>\r\n      <path id=\"ArialMT-32\"/>\r\n      <path d=\"M 14.703125 0 \r\nL 6.546875 0 \r\nL 6.546875 71.578125 \r\nL 15.328125 71.578125 \r\nL 15.328125 46.046875 \r\nQ 20.90625 53.03125 29.546875 53.03125 \r\nQ 34.328125 53.03125 38.59375 51.09375 \r\nQ 42.875 49.171875 45.625 45.671875 \r\nQ 48.390625 42.1875 49.953125 37.25 \r\nQ 51.515625 32.328125 51.515625 26.703125 \r\nQ 51.515625 13.375 44.921875 6.09375 \r\nQ 38.328125 -1.171875 29.109375 -1.171875 \r\nQ 19.921875 -1.171875 14.703125 6.5 \r\nz\r\nM 14.59375 26.3125 \r\nQ 14.59375 17 17.140625 12.84375 \r\nQ 21.296875 6.0625 28.375 6.0625 \r\nQ 34.125 6.0625 38.328125 11.0625 \r\nQ 42.53125 16.0625 42.53125 25.984375 \r\nQ 42.53125 36.140625 38.5 40.96875 \r\nQ 34.46875 45.796875 28.765625 45.796875 \r\nQ 23 45.796875 18.796875 40.796875 \r\nQ 14.59375 35.796875 14.59375 26.3125 \r\nz\r\n\" id=\"ArialMT-98\"/>\r\n      <path d=\"M 4.984375 -4.296875 \r\nL 13.53125 -5.5625 \r\nQ 14.0625 -9.515625 16.5 -11.328125 \r\nQ 19.78125 -13.765625 25.4375 -13.765625 \r\nQ 31.546875 -13.765625 34.859375 -11.328125 \r\nQ 38.1875 -8.890625 39.359375 -4.5 \r\nQ 40.046875 -1.8125 39.984375 6.78125 \r\nQ 34.234375 0 25.640625 0 \r\nQ 14.9375 0 9.078125 7.71875 \r\nQ 3.21875 15.4375 3.21875 26.21875 \r\nQ 3.21875 33.640625 5.90625 39.90625 \r\nQ 8.59375 46.1875 13.6875 49.609375 \r\nQ 18.796875 53.03125 25.6875 53.03125 \r\nQ 34.859375 53.03125 40.828125 45.609375 \r\nL 40.828125 51.859375 \r\nL 48.921875 51.859375 \r\nL 48.921875 7.03125 \r\nQ 48.921875 -5.078125 46.453125 -10.125 \r\nQ 44 -15.1875 38.640625 -18.109375 \r\nQ 33.296875 -21.046875 25.484375 -21.046875 \r\nQ 16.21875 -21.046875 10.5 -16.875 \r\nQ 4.78125 -12.703125 4.984375 -4.296875 \r\nz\r\nM 12.25 26.859375 \r\nQ 12.25 16.65625 16.296875 11.96875 \r\nQ 20.359375 7.28125 26.46875 7.28125 \r\nQ 32.515625 7.28125 36.609375 11.9375 \r\nQ 40.71875 16.609375 40.71875 26.5625 \r\nQ 40.71875 36.078125 36.5 40.90625 \r\nQ 32.28125 45.75 26.3125 45.75 \r\nQ 20.453125 45.75 16.34375 40.984375 \r\nQ 12.25 36.234375 12.25 26.859375 \r\nz\r\n\" id=\"ArialMT-103\"/>\r\n     </defs>\r\n     <use xlink:href=\"#ArialMT-83\"/>\r\n     <use x=\"66.699219\" xlink:href=\"#ArialMT-97\"/>\r\n     <use x=\"122.314453\" xlink:href=\"#ArialMT-108\"/>\r\n     <use x=\"144.53125\" xlink:href=\"#ArialMT-97\"/>\r\n     <use x=\"200.146484\" xlink:href=\"#ArialMT-114\"/>\r\n     <use x=\"233.447266\" xlink:href=\"#ArialMT-105\"/>\r\n     <use x=\"255.664062\" xlink:href=\"#ArialMT-101\"/>\r\n     <use x=\"311.279297\" xlink:href=\"#ArialMT-115\"/>\r\n     <use x=\"361.279297\" xlink:href=\"#ArialMT-32\"/>\r\n     <use x=\"389.0625\" xlink:href=\"#ArialMT-98\"/>\r\n     <use x=\"444.677734\" xlink:href=\"#ArialMT-121\"/>\r\n     <use x=\"494.677734\" xlink:href=\"#ArialMT-32\"/>\r\n     <use x=\"522.460938\" xlink:href=\"#ArialMT-103\"/>\r\n     <use x=\"578.076172\" xlink:href=\"#ArialMT-101\"/>\r\n     <use x=\"633.691406\" xlink:href=\"#ArialMT-110\"/>\r\n     <use x=\"689.306641\" xlink:href=\"#ArialMT-100\"/>\r\n     <use x=\"744.921875\" xlink:href=\"#ArialMT-101\"/>\r\n     <use x=\"800.537109\" xlink:href=\"#ArialMT-114\"/>\r\n    </g>\r\n   </g>\r\n  </g>\r\n </g>\r\n <defs>\r\n  <clipPath id=\"p969f2e2c32\">\r\n   <rect height=\"271.8\" width=\"558\" x=\"68.663438\" y=\"21.935625\"/>\r\n  </clipPath>\r\n </defs>\r\n</svg>\r\n",
      "image/png": "[encoded data removed]"
     },
     "metadata": {
      "needs_background": "light"
     }
    }
   ],
   "source": [
    "# checking for outliers\n",
    "plt.figure(figsize = (10,5))\n",
    "p = sns.boxplot(data = df\n",
    "               ,y = 'Salary'\n",
    "               ,x = 'Gender')\n",
    "p.set_title('Salaries by gender')\n",
    "plt.show()"
   ]
  },
  {
   "cell_type": "code",
   "execution_count": 52,
   "metadata": {},
   "outputs": [
    {
     "output_type": "display_data",
     "data": {
      "text/plain": "<Figure size 1080x360 with 1 Axes>",
      "image/svg+xml": "<?xml version=\"1.0\" encoding=\"utf-8\" standalone=\"no\"?>\r\n<!DOCTYPE svg PUBLIC \"-//W3C//DTD SVG 1.1//EN\"\r\n  \"http://www.w3.org/Graphics/SVG/1.1/DTD/svg11.dtd\">\r\n<!-- Created with matplotlib (https://matplotlib.org/) -->\r\n<svg height=\"335.610469pt\" version=\"1.1\" viewBox=\"0 0 912.863438 335.610469\" width=\"912.863438pt\" xmlns=\"http://www.w3.org/2000/svg\" xmlns:xlink=\"http://www.w3.org/1999/xlink\">\r\n <metadata>\r\n  <rdf:RDF xmlns:cc=\"http://creativecommons.org/ns#\" xmlns:dc=\"http://purl.org/dc/elements/1.1/\" xmlns:rdf=\"http://www.w3.org/1999/02/22-rdf-syntax-ns#\">\r\n   <cc:Work>\r\n    <dc:type rdf:resource=\"http://purl.org/dc/dcmitype/StillImage\"/>\r\n    <dc:date>2021-04-19T09:37:28.039811</dc:date>\r\n    <dc:format>image/svg+xml</dc:format>\r\n    <dc:creator>\r\n     <cc:Agent>\r\n      <dc:title>Matplotlib v3.3.2, https://matplotlib.org/</dc:title>\r\n     </cc:Agent>\r\n    </dc:creator>\r\n   </cc:Work>\r\n  </rdf:RDF>\r\n </metadata>\r\n <defs>\r\n  <style type=\"text/css\">*{stroke-linecap:butt;stroke-linejoin:round;}</style>\r\n </defs>\r\n <g id=\"figure_1\">\r\n  <g id=\"patch_1\">\r\n   <path d=\"M 0 335.610469 \r\nL 912.863438 335.610469 \r\nL 912.863438 0 \r\nL 0 0 \r\nz\r\n\" style=\"fill:none;\"/>\r\n  </g>\r\n  <g id=\"axes_1\">\r\n   <g id=\"patch_2\">\r\n    <path d=\"M 68.663438 293.735625 \r\nL 905.663437 293.735625 \r\nL 905.663437 21.935625 \r\nL 68.663438 21.935625 \r\nz\r\n\" style=\"fill:#ffffff;\"/>\r\n   </g>\r\n   <g id=\"matplotlib.axis_1\">\r\n    <g id=\"xtick_1\">\r\n     <g id=\"text_1\">\r\n      <!-- 25 -->\r\n      <g style=\"fill:#262626;\" transform=\"translate(75.228224 311.109219)scale(0.11 -0.11)\">\r\n       <defs>\r\n        <path d=\"M 50.34375 8.453125 \r\nL 50.34375 0 \r\nL 3.03125 0 \r\nQ 2.9375 3.171875 4.046875 6.109375 \r\nQ 5.859375 10.9375 9.828125 15.625 \r\nQ 13.8125 20.3125 21.34375 26.46875 \r\nQ 33.015625 36.03125 37.109375 41.625 \r\nQ 41.21875 47.21875 41.21875 52.203125 \r\nQ 41.21875 57.421875 37.46875 61 \r\nQ 33.734375 64.59375 27.734375 64.59375 \r\nQ 21.390625 64.59375 17.578125 60.78125 \r\nQ 13.765625 56.984375 13.71875 50.25 \r\nL 4.6875 51.171875 \r\nQ 5.609375 61.28125 11.65625 66.578125 \r\nQ 17.71875 71.875 27.9375 71.875 \r\nQ 38.234375 71.875 44.234375 66.15625 \r\nQ 50.25 60.453125 50.25 52 \r\nQ 50.25 47.703125 48.484375 43.546875 \r\nQ 46.734375 39.40625 42.65625 34.8125 \r\nQ 38.578125 30.21875 29.109375 22.21875 \r\nQ 21.1875 15.578125 18.9375 13.203125 \r\nQ 16.703125 10.84375 15.234375 8.453125 \r\nz\r\n\" id=\"ArialMT-50\"/>\r\n        <path d=\"M 4.15625 18.75 \r\nL 13.375 19.53125 \r\nQ 14.40625 12.796875 18.140625 9.390625 \r\nQ 21.875 6 27.15625 6 \r\nQ 33.5 6 37.890625 10.78125 \r\nQ 42.28125 15.578125 42.28125 23.484375 \r\nQ 42.28125 31 38.0625 35.34375 \r\nQ 33.84375 39.703125 27 39.703125 \r\nQ 22.75 39.703125 19.328125 37.765625 \r\nQ 15.921875 35.84375 13.96875 32.765625 \r\nL 5.71875 33.84375 \r\nL 12.640625 70.609375 \r\nL 48.25 70.609375 \r\nL 48.25 62.203125 \r\nL 19.671875 62.203125 \r\nL 15.828125 42.96875 \r\nQ 22.265625 47.46875 29.34375 47.46875 \r\nQ 38.71875 47.46875 45.15625 40.96875 \r\nQ 51.609375 34.46875 51.609375 24.265625 \r\nQ 51.609375 14.546875 45.953125 7.46875 \r\nQ 39.0625 -1.21875 27.15625 -1.21875 \r\nQ 17.390625 -1.21875 11.203125 4.25 \r\nQ 5.03125 9.71875 4.15625 18.75 \r\nz\r\n\" id=\"ArialMT-53\"/>\r\n       </defs>\r\n       <use xlink:href=\"#ArialMT-50\"/>\r\n       <use x=\"55.615234\" xlink:href=\"#ArialMT-53\"/>\r\n      </g>\r\n     </g>\r\n    </g>\r\n    <g id=\"xtick_2\">\r\n     <g id=\"text_2\">\r\n      <!-- 26 -->\r\n      <g style=\"fill:#262626;\" transform=\"translate(100.591861 311.109219)scale(0.11 -0.11)\">\r\n       <defs>\r\n        <path d=\"M 49.75 54.046875 \r\nL 41.015625 53.375 \r\nQ 39.84375 58.546875 37.703125 60.890625 \r\nQ 34.125 64.65625 28.90625 64.65625 \r\nQ 24.703125 64.65625 21.53125 62.3125 \r\nQ 17.390625 59.28125 14.984375 53.46875 \r\nQ 12.59375 47.65625 12.5 36.921875 \r\nQ 15.671875 41.75 20.265625 44.09375 \r\nQ 24.859375 46.4375 29.890625 46.4375 \r\nQ 38.671875 46.4375 44.84375 39.96875 \r\nQ 51.03125 33.5 51.03125 23.25 \r\nQ 51.03125 16.5 48.125 10.71875 \r\nQ 45.21875 4.9375 40.140625 1.859375 \r\nQ 35.0625 -1.21875 28.609375 -1.21875 \r\nQ 17.625 -1.21875 10.6875 6.859375 \r\nQ 3.765625 14.9375 3.765625 33.5 \r\nQ 3.765625 54.25 11.421875 63.671875 \r\nQ 18.109375 71.875 29.4375 71.875 \r\nQ 37.890625 71.875 43.28125 67.140625 \r\nQ 48.6875 62.40625 49.75 54.046875 \r\nz\r\nM 13.875 23.1875 \r\nQ 13.875 18.65625 15.796875 14.5 \r\nQ 17.71875 10.359375 21.1875 8.171875 \r\nQ 24.65625 6 28.46875 6 \r\nQ 34.03125 6 38.03125 10.484375 \r\nQ 42.046875 14.984375 42.046875 22.703125 \r\nQ 42.046875 30.125 38.078125 34.390625 \r\nQ 34.125 38.671875 28.125 38.671875 \r\nQ 22.171875 38.671875 18.015625 34.390625 \r\nQ 13.875 30.125 13.875 23.1875 \r\nz\r\n\" id=\"ArialMT-54\"/>\r\n       </defs>\r\n       <use xlink:href=\"#ArialMT-50\"/>\r\n       <use x=\"55.615234\" xlink:href=\"#ArialMT-54\"/>\r\n      </g>\r\n     </g>\r\n    </g>\r\n    <g id=\"xtick_3\">\r\n     <g id=\"text_3\">\r\n      <!-- 27 -->\r\n      <g style=\"fill:#262626;\" transform=\"translate(125.955497 311.109219)scale(0.11 -0.11)\">\r\n       <defs>\r\n        <path d=\"M 4.734375 62.203125 \r\nL 4.734375 70.65625 \r\nL 51.078125 70.65625 \r\nL 51.078125 63.8125 \r\nQ 44.234375 56.546875 37.515625 44.484375 \r\nQ 30.8125 32.421875 27.15625 19.671875 \r\nQ 24.515625 10.6875 23.78125 0 \r\nL 14.75 0 \r\nQ 14.890625 8.453125 18.0625 20.40625 \r\nQ 21.234375 32.375 27.171875 43.484375 \r\nQ 33.109375 54.59375 39.796875 62.203125 \r\nz\r\n\" id=\"ArialMT-55\"/>\r\n       </defs>\r\n       <use xlink:href=\"#ArialMT-50\"/>\r\n       <use x=\"55.615234\" xlink:href=\"#ArialMT-55\"/>\r\n      </g>\r\n     </g>\r\n    </g>\r\n    <g id=\"xtick_4\">\r\n     <g id=\"text_4\">\r\n      <!-- 28 -->\r\n      <g style=\"fill:#262626;\" transform=\"translate(151.319134 311.109219)scale(0.11 -0.11)\">\r\n       <defs>\r\n        <path d=\"M 17.671875 38.8125 \r\nQ 12.203125 40.828125 9.5625 44.53125 \r\nQ 6.9375 48.25 6.9375 53.421875 \r\nQ 6.9375 61.234375 12.546875 66.546875 \r\nQ 18.171875 71.875 27.484375 71.875 \r\nQ 36.859375 71.875 42.578125 66.421875 \r\nQ 48.296875 60.984375 48.296875 53.171875 \r\nQ 48.296875 48.1875 45.671875 44.5 \r\nQ 43.0625 40.828125 37.75 38.8125 \r\nQ 44.34375 36.671875 47.78125 31.875 \r\nQ 51.21875 27.09375 51.21875 20.453125 \r\nQ 51.21875 11.28125 44.71875 5.03125 \r\nQ 38.234375 -1.21875 27.640625 -1.21875 \r\nQ 17.046875 -1.21875 10.546875 5.046875 \r\nQ 4.046875 11.328125 4.046875 20.703125 \r\nQ 4.046875 27.6875 7.59375 32.390625 \r\nQ 11.140625 37.109375 17.671875 38.8125 \r\nz\r\nM 15.921875 53.71875 \r\nQ 15.921875 48.640625 19.1875 45.40625 \r\nQ 22.46875 42.1875 27.6875 42.1875 \r\nQ 32.765625 42.1875 36.015625 45.375 \r\nQ 39.265625 48.578125 39.265625 53.21875 \r\nQ 39.265625 58.0625 35.90625 61.359375 \r\nQ 32.5625 64.65625 27.59375 64.65625 \r\nQ 22.5625 64.65625 19.234375 61.421875 \r\nQ 15.921875 58.203125 15.921875 53.71875 \r\nz\r\nM 13.09375 20.65625 \r\nQ 13.09375 16.890625 14.875 13.375 \r\nQ 16.65625 9.859375 20.171875 7.921875 \r\nQ 23.6875 6 27.734375 6 \r\nQ 34.03125 6 38.125 10.046875 \r\nQ 42.234375 14.109375 42.234375 20.359375 \r\nQ 42.234375 26.703125 38.015625 30.859375 \r\nQ 33.796875 35.015625 27.4375 35.015625 \r\nQ 21.234375 35.015625 17.15625 30.90625 \r\nQ 13.09375 26.8125 13.09375 20.65625 \r\nz\r\n\" id=\"ArialMT-56\"/>\r\n       </defs>\r\n       <use xlink:href=\"#ArialMT-50\"/>\r\n       <use x=\"55.615234\" xlink:href=\"#ArialMT-56\"/>\r\n      </g>\r\n     </g>\r\n    </g>\r\n    <g id=\"xtick_5\">\r\n     <g id=\"text_5\">\r\n      <!-- 29 -->\r\n      <g style=\"fill:#262626;\" transform=\"translate(176.68277 311.109219)scale(0.11 -0.11)\">\r\n       <defs>\r\n        <path d=\"M 5.46875 16.546875 \r\nL 13.921875 17.328125 \r\nQ 14.984375 11.375 18.015625 8.6875 \r\nQ 21.046875 6 25.78125 6 \r\nQ 29.828125 6 32.875 7.859375 \r\nQ 35.9375 9.71875 37.890625 12.8125 \r\nQ 39.84375 15.921875 41.15625 21.1875 \r\nQ 42.484375 26.46875 42.484375 31.9375 \r\nQ 42.484375 32.515625 42.4375 33.6875 \r\nQ 39.796875 29.5 35.234375 26.875 \r\nQ 30.671875 24.265625 25.34375 24.265625 \r\nQ 16.453125 24.265625 10.296875 30.703125 \r\nQ 4.15625 37.15625 4.15625 47.703125 \r\nQ 4.15625 58.59375 10.578125 65.234375 \r\nQ 17 71.875 26.65625 71.875 \r\nQ 33.640625 71.875 39.421875 68.109375 \r\nQ 45.21875 64.359375 48.21875 57.390625 \r\nQ 51.21875 50.4375 51.21875 37.25 \r\nQ 51.21875 23.53125 48.234375 15.40625 \r\nQ 45.265625 7.28125 39.375 3.03125 \r\nQ 33.5 -1.21875 25.59375 -1.21875 \r\nQ 17.1875 -1.21875 11.859375 3.4375 \r\nQ 6.546875 8.109375 5.46875 16.546875 \r\nz\r\nM 41.453125 48.140625 \r\nQ 41.453125 55.71875 37.421875 60.15625 \r\nQ 33.40625 64.59375 27.734375 64.59375 \r\nQ 21.875 64.59375 17.53125 59.8125 \r\nQ 13.1875 55.03125 13.1875 47.40625 \r\nQ 13.1875 40.578125 17.3125 36.296875 \r\nQ 21.4375 32.03125 27.484375 32.03125 \r\nQ 33.59375 32.03125 37.515625 36.296875 \r\nQ 41.453125 40.578125 41.453125 48.140625 \r\nz\r\n\" id=\"ArialMT-57\"/>\r\n       </defs>\r\n       <use xlink:href=\"#ArialMT-50\"/>\r\n       <use x=\"55.615234\" xlink:href=\"#ArialMT-57\"/>\r\n      </g>\r\n     </g>\r\n    </g>\r\n    <g id=\"xtick_6\">\r\n     <g id=\"text_6\">\r\n      <!-- 30 -->\r\n      <g style=\"fill:#262626;\" transform=\"translate(202.046406 311.109219)scale(0.11 -0.11)\">\r\n       <defs>\r\n        <path d=\"M 4.203125 18.890625 \r\nL 12.984375 20.0625 \r\nQ 14.5 12.59375 18.140625 9.296875 \r\nQ 21.78125 6 27 6 \r\nQ 33.203125 6 37.46875 10.296875 \r\nQ 41.75 14.59375 41.75 20.953125 \r\nQ 41.75 27 37.796875 30.921875 \r\nQ 33.84375 34.859375 27.734375 34.859375 \r\nQ 25.25 34.859375 21.53125 33.890625 \r\nL 22.515625 41.609375 \r\nQ 23.390625 41.5 23.921875 41.5 \r\nQ 29.546875 41.5 34.03125 44.421875 \r\nQ 38.53125 47.359375 38.53125 53.46875 \r\nQ 38.53125 58.296875 35.25 61.46875 \r\nQ 31.984375 64.65625 26.8125 64.65625 \r\nQ 21.6875 64.65625 18.265625 61.421875 \r\nQ 14.84375 58.203125 13.875 51.765625 \r\nL 5.078125 53.328125 \r\nQ 6.6875 62.15625 12.390625 67.015625 \r\nQ 18.109375 71.875 26.609375 71.875 \r\nQ 32.46875 71.875 37.390625 69.359375 \r\nQ 42.328125 66.84375 44.9375 62.5 \r\nQ 47.5625 58.15625 47.5625 53.265625 \r\nQ 47.5625 48.640625 45.0625 44.828125 \r\nQ 42.578125 41.015625 37.703125 38.765625 \r\nQ 44.046875 37.3125 47.5625 32.6875 \r\nQ 51.078125 28.078125 51.078125 21.140625 \r\nQ 51.078125 11.765625 44.234375 5.25 \r\nQ 37.40625 -1.265625 26.953125 -1.265625 \r\nQ 17.53125 -1.265625 11.296875 4.34375 \r\nQ 5.078125 9.96875 4.203125 18.890625 \r\nz\r\n\" id=\"ArialMT-51\"/>\r\n        <path d=\"M 4.15625 35.296875 \r\nQ 4.15625 48 6.765625 55.734375 \r\nQ 9.375 63.484375 14.515625 67.671875 \r\nQ 19.671875 71.875 27.484375 71.875 \r\nQ 33.25 71.875 37.59375 69.546875 \r\nQ 41.9375 67.234375 44.765625 62.859375 \r\nQ 47.609375 58.5 49.21875 52.21875 \r\nQ 50.828125 45.953125 50.828125 35.296875 \r\nQ 50.828125 22.703125 48.234375 14.96875 \r\nQ 45.65625 7.234375 40.5 3 \r\nQ 35.359375 -1.21875 27.484375 -1.21875 \r\nQ 17.140625 -1.21875 11.234375 6.203125 \r\nQ 4.15625 15.140625 4.15625 35.296875 \r\nz\r\nM 13.1875 35.296875 \r\nQ 13.1875 17.671875 17.3125 11.828125 \r\nQ 21.4375 6 27.484375 6 \r\nQ 33.546875 6 37.671875 11.859375 \r\nQ 41.796875 17.71875 41.796875 35.296875 \r\nQ 41.796875 52.984375 37.671875 58.78125 \r\nQ 33.546875 64.59375 27.390625 64.59375 \r\nQ 21.34375 64.59375 17.71875 59.46875 \r\nQ 13.1875 52.9375 13.1875 35.296875 \r\nz\r\n\" id=\"ArialMT-48\"/>\r\n       </defs>\r\n       <use xlink:href=\"#ArialMT-51\"/>\r\n       <use x=\"55.615234\" xlink:href=\"#ArialMT-48\"/>\r\n      </g>\r\n     </g>\r\n    </g>\r\n    <g id=\"xtick_7\">\r\n     <g id=\"text_7\">\r\n      <!-- 31 -->\r\n      <g style=\"fill:#262626;\" transform=\"translate(227.410043 311.109219)scale(0.11 -0.11)\">\r\n       <defs>\r\n        <path d=\"M 37.25 0 \r\nL 28.46875 0 \r\nL 28.46875 56 \r\nQ 25.296875 52.984375 20.140625 49.953125 \r\nQ 14.984375 46.921875 10.890625 45.40625 \r\nL 10.890625 53.90625 \r\nQ 18.265625 57.375 23.78125 62.296875 \r\nQ 29.296875 67.234375 31.59375 71.875 \r\nL 37.25 71.875 \r\nz\r\n\" id=\"ArialMT-49\"/>\r\n       </defs>\r\n       <use xlink:href=\"#ArialMT-51\"/>\r\n       <use x=\"55.615234\" xlink:href=\"#ArialMT-49\"/>\r\n      </g>\r\n     </g>\r\n    </g>\r\n    <g id=\"xtick_8\">\r\n     <g id=\"text_8\">\r\n      <!-- 32 -->\r\n      <g style=\"fill:#262626;\" transform=\"translate(252.773679 311.109219)scale(0.11 -0.11)\">\r\n       <use xlink:href=\"#ArialMT-51\"/>\r\n       <use x=\"55.615234\" xlink:href=\"#ArialMT-50\"/>\r\n      </g>\r\n     </g>\r\n    </g>\r\n    <g id=\"xtick_9\">\r\n     <g id=\"text_9\">\r\n      <!-- 33 -->\r\n      <g style=\"fill:#262626;\" transform=\"translate(278.137315 311.109219)scale(0.11 -0.11)\">\r\n       <use xlink:href=\"#ArialMT-51\"/>\r\n       <use x=\"55.615234\" xlink:href=\"#ArialMT-51\"/>\r\n      </g>\r\n     </g>\r\n    </g>\r\n    <g id=\"xtick_10\">\r\n     <g id=\"text_10\">\r\n      <!-- 34 -->\r\n      <g style=\"fill:#262626;\" transform=\"translate(303.500952 311.109219)scale(0.11 -0.11)\">\r\n       <defs>\r\n        <path d=\"M 32.328125 0 \r\nL 32.328125 17.140625 \r\nL 1.265625 17.140625 \r\nL 1.265625 25.203125 \r\nL 33.9375 71.578125 \r\nL 41.109375 71.578125 \r\nL 41.109375 25.203125 \r\nL 50.78125 25.203125 \r\nL 50.78125 17.140625 \r\nL 41.109375 17.140625 \r\nL 41.109375 0 \r\nz\r\nM 32.328125 25.203125 \r\nL 32.328125 57.46875 \r\nL 9.90625 25.203125 \r\nz\r\n\" id=\"ArialMT-52\"/>\r\n       </defs>\r\n       <use xlink:href=\"#ArialMT-51\"/>\r\n       <use x=\"55.615234\" xlink:href=\"#ArialMT-52\"/>\r\n      </g>\r\n     </g>\r\n    </g>\r\n    <g id=\"xtick_11\">\r\n     <g id=\"text_11\">\r\n      <!-- 35 -->\r\n      <g style=\"fill:#262626;\" transform=\"translate(328.864588 311.109219)scale(0.11 -0.11)\">\r\n       <use xlink:href=\"#ArialMT-51\"/>\r\n       <use x=\"55.615234\" xlink:href=\"#ArialMT-53\"/>\r\n      </g>\r\n     </g>\r\n    </g>\r\n    <g id=\"xtick_12\">\r\n     <g id=\"text_12\">\r\n      <!-- 36 -->\r\n      <g style=\"fill:#262626;\" transform=\"translate(354.228224 311.109219)scale(0.11 -0.11)\">\r\n       <use xlink:href=\"#ArialMT-51\"/>\r\n       <use x=\"55.615234\" xlink:href=\"#ArialMT-54\"/>\r\n      </g>\r\n     </g>\r\n    </g>\r\n    <g id=\"xtick_13\">\r\n     <g id=\"text_13\">\r\n      <!-- 37 -->\r\n      <g style=\"fill:#262626;\" transform=\"translate(379.591861 311.109219)scale(0.11 -0.11)\">\r\n       <use xlink:href=\"#ArialMT-51\"/>\r\n       <use x=\"55.615234\" xlink:href=\"#ArialMT-55\"/>\r\n      </g>\r\n     </g>\r\n    </g>\r\n    <g id=\"xtick_14\">\r\n     <g id=\"text_14\">\r\n      <!-- 38 -->\r\n      <g style=\"fill:#262626;\" transform=\"translate(404.955497 311.109219)scale(0.11 -0.11)\">\r\n       <use xlink:href=\"#ArialMT-51\"/>\r\n       <use x=\"55.615234\" xlink:href=\"#ArialMT-56\"/>\r\n      </g>\r\n     </g>\r\n    </g>\r\n    <g id=\"xtick_15\">\r\n     <g id=\"text_15\">\r\n      <!-- 39 -->\r\n      <g style=\"fill:#262626;\" transform=\"translate(430.319134 311.109219)scale(0.11 -0.11)\">\r\n       <use xlink:href=\"#ArialMT-51\"/>\r\n       <use x=\"55.615234\" xlink:href=\"#ArialMT-57\"/>\r\n      </g>\r\n     </g>\r\n    </g>\r\n    <g id=\"xtick_16\">\r\n     <g id=\"text_16\">\r\n      <!-- 40 -->\r\n      <g style=\"fill:#262626;\" transform=\"translate(455.68277 311.109219)scale(0.11 -0.11)\">\r\n       <use xlink:href=\"#ArialMT-52\"/>\r\n       <use x=\"55.615234\" xlink:href=\"#ArialMT-48\"/>\r\n      </g>\r\n     </g>\r\n    </g>\r\n    <g id=\"xtick_17\">\r\n     <g id=\"text_17\">\r\n      <!-- 41 -->\r\n      <g style=\"fill:#262626;\" transform=\"translate(481.046406 311.109219)scale(0.11 -0.11)\">\r\n       <use xlink:href=\"#ArialMT-52\"/>\r\n       <use x=\"55.615234\" xlink:href=\"#ArialMT-49\"/>\r\n      </g>\r\n     </g>\r\n    </g>\r\n    <g id=\"xtick_18\">\r\n     <g id=\"text_18\">\r\n      <!-- 42 -->\r\n      <g style=\"fill:#262626;\" transform=\"translate(506.410043 311.109219)scale(0.11 -0.11)\">\r\n       <use xlink:href=\"#ArialMT-52\"/>\r\n       <use x=\"55.615234\" xlink:href=\"#ArialMT-50\"/>\r\n      </g>\r\n     </g>\r\n    </g>\r\n    <g id=\"xtick_19\">\r\n     <g id=\"text_19\">\r\n      <!-- 43 -->\r\n      <g style=\"fill:#262626;\" transform=\"translate(531.773679 311.109219)scale(0.11 -0.11)\">\r\n       <use xlink:href=\"#ArialMT-52\"/>\r\n       <use x=\"55.615234\" xlink:href=\"#ArialMT-51\"/>\r\n      </g>\r\n     </g>\r\n    </g>\r\n    <g id=\"xtick_20\">\r\n     <g id=\"text_20\">\r\n      <!-- 44 -->\r\n      <g style=\"fill:#262626;\" transform=\"translate(557.137315 311.109219)scale(0.11 -0.11)\">\r\n       <use xlink:href=\"#ArialMT-52\"/>\r\n       <use x=\"55.615234\" xlink:href=\"#ArialMT-52\"/>\r\n      </g>\r\n     </g>\r\n    </g>\r\n    <g id=\"xtick_21\">\r\n     <g id=\"text_21\">\r\n      <!-- 45 -->\r\n      <g style=\"fill:#262626;\" transform=\"translate(582.500952 311.109219)scale(0.11 -0.11)\">\r\n       <use xlink:href=\"#ArialMT-52\"/>\r\n       <use x=\"55.615234\" xlink:href=\"#ArialMT-53\"/>\r\n      </g>\r\n     </g>\r\n    </g>\r\n    <g id=\"xtick_22\">\r\n     <g id=\"text_22\">\r\n      <!-- 47 -->\r\n      <g style=\"fill:#262626;\" transform=\"translate(607.864588 311.109219)scale(0.11 -0.11)\">\r\n       <use xlink:href=\"#ArialMT-52\"/>\r\n       <use x=\"55.615234\" xlink:href=\"#ArialMT-55\"/>\r\n      </g>\r\n     </g>\r\n    </g>\r\n    <g id=\"xtick_23\">\r\n     <g id=\"text_23\">\r\n      <!-- 48 -->\r\n      <g style=\"fill:#262626;\" transform=\"translate(633.228224 311.109219)scale(0.11 -0.11)\">\r\n       <use xlink:href=\"#ArialMT-52\"/>\r\n       <use x=\"55.615234\" xlink:href=\"#ArialMT-56\"/>\r\n      </g>\r\n     </g>\r\n    </g>\r\n    <g id=\"xtick_24\">\r\n     <g id=\"text_24\">\r\n      <!-- 49 -->\r\n      <g style=\"fill:#262626;\" transform=\"translate(658.591861 311.109219)scale(0.11 -0.11)\">\r\n       <use xlink:href=\"#ArialMT-52\"/>\r\n       <use x=\"55.615234\" xlink:href=\"#ArialMT-57\"/>\r\n      </g>\r\n     </g>\r\n    </g>\r\n    <g id=\"xtick_25\">\r\n     <g id=\"text_25\">\r\n      <!-- 50 -->\r\n      <g style=\"fill:#262626;\" transform=\"translate(683.955497 311.109219)scale(0.11 -0.11)\">\r\n       <use xlink:href=\"#ArialMT-53\"/>\r\n       <use x=\"55.615234\" xlink:href=\"#ArialMT-48\"/>\r\n      </g>\r\n     </g>\r\n    </g>\r\n    <g id=\"xtick_26\">\r\n     <g id=\"text_26\">\r\n      <!-- 51 -->\r\n      <g style=\"fill:#262626;\" transform=\"translate(709.319134 311.109219)scale(0.11 -0.11)\">\r\n       <use xlink:href=\"#ArialMT-53\"/>\r\n       <use x=\"55.615234\" xlink:href=\"#ArialMT-49\"/>\r\n      </g>\r\n     </g>\r\n    </g>\r\n    <g id=\"xtick_27\">\r\n     <g id=\"text_27\">\r\n      <!-- 52 -->\r\n      <g style=\"fill:#262626;\" transform=\"translate(734.68277 311.109219)scale(0.11 -0.11)\">\r\n       <use xlink:href=\"#ArialMT-53\"/>\r\n       <use x=\"55.615234\" xlink:href=\"#ArialMT-50\"/>\r\n      </g>\r\n     </g>\r\n    </g>\r\n    <g id=\"xtick_28\">\r\n     <g id=\"text_28\">\r\n      <!-- 53 -->\r\n      <g style=\"fill:#262626;\" transform=\"translate(760.046406 311.109219)scale(0.11 -0.11)\">\r\n       <use xlink:href=\"#ArialMT-53\"/>\r\n       <use x=\"55.615234\" xlink:href=\"#ArialMT-51\"/>\r\n      </g>\r\n     </g>\r\n    </g>\r\n    <g id=\"xtick_29\">\r\n     <g id=\"text_29\">\r\n      <!-- 54 -->\r\n      <g style=\"fill:#262626;\" transform=\"translate(785.410043 311.109219)scale(0.11 -0.11)\">\r\n       <use xlink:href=\"#ArialMT-53\"/>\r\n       <use x=\"55.615234\" xlink:href=\"#ArialMT-52\"/>\r\n      </g>\r\n     </g>\r\n    </g>\r\n    <g id=\"xtick_30\">\r\n     <g id=\"text_30\">\r\n      <!-- 56 -->\r\n      <g style=\"fill:#262626;\" transform=\"translate(810.773679 311.109219)scale(0.11 -0.11)\">\r\n       <use xlink:href=\"#ArialMT-53\"/>\r\n       <use x=\"55.615234\" xlink:href=\"#ArialMT-54\"/>\r\n      </g>\r\n     </g>\r\n    </g>\r\n    <g id=\"xtick_31\">\r\n     <g id=\"text_31\">\r\n      <!-- 59 -->\r\n      <g style=\"fill:#262626;\" transform=\"translate(836.137315 311.109219)scale(0.11 -0.11)\">\r\n       <use xlink:href=\"#ArialMT-53\"/>\r\n       <use x=\"55.615234\" xlink:href=\"#ArialMT-57\"/>\r\n      </g>\r\n     </g>\r\n    </g>\r\n    <g id=\"xtick_32\">\r\n     <g id=\"text_32\">\r\n      <!-- 63 -->\r\n      <g style=\"fill:#262626;\" transform=\"translate(861.500952 311.109219)scale(0.11 -0.11)\">\r\n       <use xlink:href=\"#ArialMT-54\"/>\r\n       <use x=\"55.615234\" xlink:href=\"#ArialMT-51\"/>\r\n      </g>\r\n     </g>\r\n    </g>\r\n    <g id=\"xtick_33\">\r\n     <g id=\"text_33\">\r\n      <!-- 67 -->\r\n      <g style=\"fill:#262626;\" transform=\"translate(886.864588 311.109219)scale(0.11 -0.11)\">\r\n       <use xlink:href=\"#ArialMT-54\"/>\r\n       <use x=\"55.615234\" xlink:href=\"#ArialMT-55\"/>\r\n      </g>\r\n     </g>\r\n    </g>\r\n    <g id=\"text_34\">\r\n     <!-- Age -->\r\n     <g style=\"fill:#262626;\" transform=\"translate(476.488125 325.884844)scale(0.12 -0.12)\">\r\n      <defs>\r\n       <path d=\"M -0.140625 0 \r\nL 27.34375 71.578125 \r\nL 37.546875 71.578125 \r\nL 66.84375 0 \r\nL 56.0625 0 \r\nL 47.703125 21.6875 \r\nL 17.78125 21.6875 \r\nL 9.90625 0 \r\nz\r\nM 20.515625 29.390625 \r\nL 44.78125 29.390625 \r\nL 37.3125 49.21875 \r\nQ 33.890625 58.25 32.234375 64.0625 \r\nQ 30.859375 57.171875 28.375 50.390625 \r\nz\r\n\" id=\"ArialMT-65\"/>\r\n       <path d=\"M 4.984375 -4.296875 \r\nL 13.53125 -5.5625 \r\nQ 14.0625 -9.515625 16.5 -11.328125 \r\nQ 19.78125 -13.765625 25.4375 -13.765625 \r\nQ 31.546875 -13.765625 34.859375 -11.328125 \r\nQ 38.1875 -8.890625 39.359375 -4.5 \r\nQ 40.046875 -1.8125 39.984375 6.78125 \r\nQ 34.234375 0 25.640625 0 \r\nQ 14.9375 0 9.078125 7.71875 \r\nQ 3.21875 15.4375 3.21875 26.21875 \r\nQ 3.21875 33.640625 5.90625 39.90625 \r\nQ 8.59375 46.1875 13.6875 49.609375 \r\nQ 18.796875 53.03125 25.6875 53.03125 \r\nQ 34.859375 53.03125 40.828125 45.609375 \r\nL 40.828125 51.859375 \r\nL 48.921875 51.859375 \r\nL 48.921875 7.03125 \r\nQ 48.921875 -5.078125 46.453125 -10.125 \r\nQ 44 -15.1875 38.640625 -18.109375 \r\nQ 33.296875 -21.046875 25.484375 -21.046875 \r\nQ 16.21875 -21.046875 10.5 -16.875 \r\nQ 4.78125 -12.703125 4.984375 -4.296875 \r\nz\r\nM 12.25 26.859375 \r\nQ 12.25 16.65625 16.296875 11.96875 \r\nQ 20.359375 7.28125 26.46875 7.28125 \r\nQ 32.515625 7.28125 36.609375 11.9375 \r\nQ 40.71875 16.609375 40.71875 26.5625 \r\nQ 40.71875 36.078125 36.5 40.90625 \r\nQ 32.28125 45.75 26.3125 45.75 \r\nQ 20.453125 45.75 16.34375 40.984375 \r\nQ 12.25 36.234375 12.25 26.859375 \r\nz\r\n\" id=\"ArialMT-103\"/>\r\n       <path d=\"M 42.09375 16.703125 \r\nL 51.171875 15.578125 \r\nQ 49.03125 7.625 43.21875 3.21875 \r\nQ 37.40625 -1.171875 28.375 -1.171875 \r\nQ 17 -1.171875 10.328125 5.828125 \r\nQ 3.65625 12.84375 3.65625 25.484375 \r\nQ 3.65625 38.578125 10.390625 45.796875 \r\nQ 17.140625 53.03125 27.875 53.03125 \r\nQ 38.28125 53.03125 44.875 45.953125 \r\nQ 51.46875 38.875 51.46875 26.03125 \r\nQ 51.46875 25.25 51.421875 23.6875 \r\nL 12.75 23.6875 \r\nQ 13.234375 15.140625 17.578125 10.59375 \r\nQ 21.921875 6.0625 28.421875 6.0625 \r\nQ 33.25 6.0625 36.671875 8.59375 \r\nQ 40.09375 11.140625 42.09375 16.703125 \r\nz\r\nM 13.234375 30.90625 \r\nL 42.1875 30.90625 \r\nQ 41.609375 37.453125 38.875 40.71875 \r\nQ 34.671875 45.796875 27.984375 45.796875 \r\nQ 21.921875 45.796875 17.796875 41.75 \r\nQ 13.671875 37.703125 13.234375 30.90625 \r\nz\r\n\" id=\"ArialMT-101\"/>\r\n      </defs>\r\n      <use xlink:href=\"#ArialMT-65\"/>\r\n      <use x=\"66.699219\" xlink:href=\"#ArialMT-103\"/>\r\n      <use x=\"122.314453\" xlink:href=\"#ArialMT-101\"/>\r\n     </g>\r\n    </g>\r\n   </g>\r\n   <g id=\"matplotlib.axis_2\">\r\n    <g id=\"ytick_1\">\r\n     <g id=\"line2d_1\">\r\n      <path clip-path=\"url(#p0ebe02f56a)\" d=\"M 68.663438 293.735625 \r\nL 905.663437 293.735625 \r\n\" style=\"fill:none;stroke:#cccccc;stroke-linecap:round;\"/>\r\n     </g>\r\n     <g id=\"text_35\">\r\n      <!-- 0 -->\r\n      <g style=\"fill:#262626;\" transform=\"translate(53.046406 297.672422)scale(0.11 -0.11)\">\r\n       <use xlink:href=\"#ArialMT-48\"/>\r\n      </g>\r\n     </g>\r\n    </g>\r\n    <g id=\"ytick_2\">\r\n     <g id=\"line2d_2\">\r\n      <path clip-path=\"url(#p0ebe02f56a)\" d=\"M 68.663438 262.622988 \r\nL 905.663437 262.622988 \r\n\" style=\"fill:none;stroke:#cccccc;stroke-linecap:round;\"/>\r\n     </g>\r\n     <g id=\"text_36\">\r\n      <!-- 20000 -->\r\n      <g style=\"fill:#262626;\" transform=\"translate(28.578281 266.559785)scale(0.11 -0.11)\">\r\n       <use xlink:href=\"#ArialMT-50\"/>\r\n       <use x=\"55.615234\" xlink:href=\"#ArialMT-48\"/>\r\n       <use x=\"111.230469\" xlink:href=\"#ArialMT-48\"/>\r\n       <use x=\"166.845703\" xlink:href=\"#ArialMT-48\"/>\r\n       <use x=\"222.460938\" xlink:href=\"#ArialMT-48\"/>\r\n      </g>\r\n     </g>\r\n    </g>\r\n    <g id=\"ytick_3\">\r\n     <g id=\"line2d_3\">\r\n      <path clip-path=\"url(#p0ebe02f56a)\" d=\"M 68.663438 231.51035 \r\nL 905.663437 231.51035 \r\n\" style=\"fill:none;stroke:#cccccc;stroke-linecap:round;\"/>\r\n     </g>\r\n     <g id=\"text_37\">\r\n      <!-- 40000 -->\r\n      <g style=\"fill:#262626;\" transform=\"translate(28.578281 235.447147)scale(0.11 -0.11)\">\r\n       <use xlink:href=\"#ArialMT-52\"/>\r\n       <use x=\"55.615234\" xlink:href=\"#ArialMT-48\"/>\r\n       <use x=\"111.230469\" xlink:href=\"#ArialMT-48\"/>\r\n       <use x=\"166.845703\" xlink:href=\"#ArialMT-48\"/>\r\n       <use x=\"222.460938\" xlink:href=\"#ArialMT-48\"/>\r\n      </g>\r\n     </g>\r\n    </g>\r\n    <g id=\"ytick_4\">\r\n     <g id=\"line2d_4\">\r\n      <path clip-path=\"url(#p0ebe02f56a)\" d=\"M 68.663438 200.397713 \r\nL 905.663437 200.397713 \r\n\" style=\"fill:none;stroke:#cccccc;stroke-linecap:round;\"/>\r\n     </g>\r\n     <g id=\"text_38\">\r\n      <!-- 60000 -->\r\n      <g style=\"fill:#262626;\" transform=\"translate(28.578281 204.33451)scale(0.11 -0.11)\">\r\n       <use xlink:href=\"#ArialMT-54\"/>\r\n       <use x=\"55.615234\" xlink:href=\"#ArialMT-48\"/>\r\n       <use x=\"111.230469\" xlink:href=\"#ArialMT-48\"/>\r\n       <use x=\"166.845703\" xlink:href=\"#ArialMT-48\"/>\r\n       <use x=\"222.460938\" xlink:href=\"#ArialMT-48\"/>\r\n      </g>\r\n     </g>\r\n    </g>\r\n    <g id=\"ytick_5\">\r\n     <g id=\"line2d_5\">\r\n      <path clip-path=\"url(#p0ebe02f56a)\" d=\"M 68.663438 169.285076 \r\nL 905.663437 169.285076 \r\n\" style=\"fill:none;stroke:#cccccc;stroke-linecap:round;\"/>\r\n     </g>\r\n     <g id=\"text_39\">\r\n      <!-- 80000 -->\r\n      <g style=\"fill:#262626;\" transform=\"translate(28.578281 173.221872)scale(0.11 -0.11)\">\r\n       <use xlink:href=\"#ArialMT-56\"/>\r\n       <use x=\"55.615234\" xlink:href=\"#ArialMT-48\"/>\r\n       <use x=\"111.230469\" xlink:href=\"#ArialMT-48\"/>\r\n       <use x=\"166.845703\" xlink:href=\"#ArialMT-48\"/>\r\n       <use x=\"222.460938\" xlink:href=\"#ArialMT-48\"/>\r\n      </g>\r\n     </g>\r\n    </g>\r\n    <g id=\"ytick_6\">\r\n     <g id=\"line2d_6\">\r\n      <path clip-path=\"url(#p0ebe02f56a)\" d=\"M 68.663438 138.172438 \r\nL 905.663437 138.172438 \r\n\" style=\"fill:none;stroke:#cccccc;stroke-linecap:round;\"/>\r\n     </g>\r\n     <g id=\"text_40\">\r\n      <!-- 100000 -->\r\n      <g style=\"fill:#262626;\" transform=\"translate(22.46125 142.109235)scale(0.11 -0.11)\">\r\n       <use xlink:href=\"#ArialMT-49\"/>\r\n       <use x=\"55.615234\" xlink:href=\"#ArialMT-48\"/>\r\n       <use x=\"111.230469\" xlink:href=\"#ArialMT-48\"/>\r\n       <use x=\"166.845703\" xlink:href=\"#ArialMT-48\"/>\r\n       <use x=\"222.460938\" xlink:href=\"#ArialMT-48\"/>\r\n       <use x=\"278.076172\" xlink:href=\"#ArialMT-48\"/>\r\n      </g>\r\n     </g>\r\n    </g>\r\n    <g id=\"ytick_7\">\r\n     <g id=\"line2d_7\">\r\n      <path clip-path=\"url(#p0ebe02f56a)\" d=\"M 68.663438 107.059801 \r\nL 905.663437 107.059801 \r\n\" style=\"fill:none;stroke:#cccccc;stroke-linecap:round;\"/>\r\n     </g>\r\n     <g id=\"text_41\">\r\n      <!-- 120000 -->\r\n      <g style=\"fill:#262626;\" transform=\"translate(22.46125 110.996598)scale(0.11 -0.11)\">\r\n       <use xlink:href=\"#ArialMT-49\"/>\r\n       <use x=\"55.615234\" xlink:href=\"#ArialMT-50\"/>\r\n       <use x=\"111.230469\" xlink:href=\"#ArialMT-48\"/>\r\n       <use x=\"166.845703\" xlink:href=\"#ArialMT-48\"/>\r\n       <use x=\"222.460938\" xlink:href=\"#ArialMT-48\"/>\r\n       <use x=\"278.076172\" xlink:href=\"#ArialMT-48\"/>\r\n      </g>\r\n     </g>\r\n    </g>\r\n    <g id=\"ytick_8\">\r\n     <g id=\"line2d_8\">\r\n      <path clip-path=\"url(#p0ebe02f56a)\" d=\"M 68.663438 75.947163 \r\nL 905.663437 75.947163 \r\n\" style=\"fill:none;stroke:#cccccc;stroke-linecap:round;\"/>\r\n     </g>\r\n     <g id=\"text_42\">\r\n      <!-- 140000 -->\r\n      <g style=\"fill:#262626;\" transform=\"translate(22.46125 79.88396)scale(0.11 -0.11)\">\r\n       <use xlink:href=\"#ArialMT-49\"/>\r\n       <use x=\"55.615234\" xlink:href=\"#ArialMT-52\"/>\r\n       <use x=\"111.230469\" xlink:href=\"#ArialMT-48\"/>\r\n       <use x=\"166.845703\" xlink:href=\"#ArialMT-48\"/>\r\n       <use x=\"222.460938\" xlink:href=\"#ArialMT-48\"/>\r\n       <use x=\"278.076172\" xlink:href=\"#ArialMT-48\"/>\r\n      </g>\r\n     </g>\r\n    </g>\r\n    <g id=\"ytick_9\">\r\n     <g id=\"line2d_9\">\r\n      <path clip-path=\"url(#p0ebe02f56a)\" d=\"M 68.663438 44.834526 \r\nL 905.663437 44.834526 \r\n\" style=\"fill:none;stroke:#cccccc;stroke-linecap:round;\"/>\r\n     </g>\r\n     <g id=\"text_43\">\r\n      <!-- 160000 -->\r\n      <g style=\"fill:#262626;\" transform=\"translate(22.46125 48.771323)scale(0.11 -0.11)\">\r\n       <use xlink:href=\"#ArialMT-49\"/>\r\n       <use x=\"55.615234\" xlink:href=\"#ArialMT-54\"/>\r\n       <use x=\"111.230469\" xlink:href=\"#ArialMT-48\"/>\r\n       <use x=\"166.845703\" xlink:href=\"#ArialMT-48\"/>\r\n       <use x=\"222.460938\" xlink:href=\"#ArialMT-48\"/>\r\n       <use x=\"278.076172\" xlink:href=\"#ArialMT-48\"/>\r\n      </g>\r\n     </g>\r\n    </g>\r\n    <g id=\"text_44\">\r\n     <!-- Salary -->\r\n     <g style=\"fill:#262626;\" transform=\"translate(15.935625 174.841875)rotate(-90)scale(0.12 -0.12)\">\r\n      <defs>\r\n       <path d=\"M 4.5 23 \r\nL 13.421875 23.78125 \r\nQ 14.0625 18.40625 16.375 14.96875 \r\nQ 18.703125 11.53125 23.578125 9.40625 \r\nQ 28.46875 7.28125 34.578125 7.28125 \r\nQ 39.984375 7.28125 44.140625 8.890625 \r\nQ 48.296875 10.5 50.3125 13.296875 \r\nQ 52.34375 16.109375 52.34375 19.4375 \r\nQ 52.34375 22.796875 50.390625 25.3125 \r\nQ 48.4375 27.828125 43.953125 29.546875 \r\nQ 41.0625 30.671875 31.203125 33.03125 \r\nQ 21.34375 35.40625 17.390625 37.5 \r\nQ 12.25 40.1875 9.734375 44.15625 \r\nQ 7.234375 48.140625 7.234375 53.078125 \r\nQ 7.234375 58.5 10.296875 63.203125 \r\nQ 13.375 67.921875 19.28125 70.359375 \r\nQ 25.203125 72.796875 32.421875 72.796875 \r\nQ 40.375 72.796875 46.453125 70.234375 \r\nQ 52.546875 67.671875 55.8125 62.6875 \r\nQ 59.078125 57.71875 59.328125 51.421875 \r\nL 50.25 50.734375 \r\nQ 49.515625 57.515625 45.28125 60.984375 \r\nQ 41.0625 64.453125 32.8125 64.453125 \r\nQ 24.21875 64.453125 20.28125 61.296875 \r\nQ 16.359375 58.15625 16.359375 53.71875 \r\nQ 16.359375 49.859375 19.140625 47.359375 \r\nQ 21.875 44.875 33.421875 42.265625 \r\nQ 44.96875 39.65625 49.265625 37.703125 \r\nQ 55.515625 34.8125 58.484375 30.390625 \r\nQ 61.46875 25.984375 61.46875 20.21875 \r\nQ 61.46875 14.5 58.203125 9.4375 \r\nQ 54.9375 4.390625 48.796875 1.578125 \r\nQ 42.671875 -1.21875 35.015625 -1.21875 \r\nQ 25.296875 -1.21875 18.71875 1.609375 \r\nQ 12.15625 4.4375 8.421875 10.125 \r\nQ 4.6875 15.828125 4.5 23 \r\nz\r\n\" id=\"ArialMT-83\"/>\r\n       <path d=\"M 40.4375 6.390625 \r\nQ 35.546875 2.25 31.03125 0.53125 \r\nQ 26.515625 -1.171875 21.34375 -1.171875 \r\nQ 12.796875 -1.171875 8.203125 3 \r\nQ 3.609375 7.171875 3.609375 13.671875 \r\nQ 3.609375 17.484375 5.34375 20.625 \r\nQ 7.078125 23.78125 9.890625 25.6875 \r\nQ 12.703125 27.59375 16.21875 28.5625 \r\nQ 18.796875 29.25 24.03125 29.890625 \r\nQ 34.671875 31.15625 39.703125 32.90625 \r\nQ 39.75 34.71875 39.75 35.203125 \r\nQ 39.75 40.578125 37.25 42.78125 \r\nQ 33.890625 45.75 27.25 45.75 \r\nQ 21.046875 45.75 18.09375 43.578125 \r\nQ 15.140625 41.40625 13.71875 35.890625 \r\nL 5.125 37.0625 \r\nQ 6.296875 42.578125 8.984375 45.96875 \r\nQ 11.671875 49.359375 16.75 51.1875 \r\nQ 21.828125 53.03125 28.515625 53.03125 \r\nQ 35.15625 53.03125 39.296875 51.46875 \r\nQ 43.453125 49.90625 45.40625 47.53125 \r\nQ 47.359375 45.171875 48.140625 41.546875 \r\nQ 48.578125 39.3125 48.578125 33.453125 \r\nL 48.578125 21.734375 \r\nQ 48.578125 9.46875 49.140625 6.21875 \r\nQ 49.703125 2.984375 51.375 0 \r\nL 42.1875 0 \r\nQ 40.828125 2.734375 40.4375 6.390625 \r\nz\r\nM 39.703125 26.03125 \r\nQ 34.90625 24.078125 25.34375 22.703125 \r\nQ 19.921875 21.921875 17.671875 20.9375 \r\nQ 15.4375 19.96875 14.203125 18.09375 \r\nQ 12.984375 16.21875 12.984375 13.921875 \r\nQ 12.984375 10.40625 15.640625 8.0625 \r\nQ 18.3125 5.71875 23.4375 5.71875 \r\nQ 28.515625 5.71875 32.46875 7.9375 \r\nQ 36.421875 10.15625 38.28125 14.015625 \r\nQ 39.703125 17 39.703125 22.796875 \r\nz\r\n\" id=\"ArialMT-97\"/>\r\n       <path d=\"M 6.390625 0 \r\nL 6.390625 71.578125 \r\nL 15.1875 71.578125 \r\nL 15.1875 0 \r\nz\r\n\" id=\"ArialMT-108\"/>\r\n       <path d=\"M 6.5 0 \r\nL 6.5 51.859375 \r\nL 14.40625 51.859375 \r\nL 14.40625 44 \r\nQ 17.4375 49.515625 20 51.265625 \r\nQ 22.5625 53.03125 25.640625 53.03125 \r\nQ 30.078125 53.03125 34.671875 50.203125 \r\nL 31.640625 42.046875 \r\nQ 28.421875 43.953125 25.203125 43.953125 \r\nQ 22.3125 43.953125 20.015625 42.21875 \r\nQ 17.71875 40.484375 16.75 37.40625 \r\nQ 15.28125 32.71875 15.28125 27.15625 \r\nL 15.28125 0 \r\nz\r\n\" id=\"ArialMT-114\"/>\r\n       <path d=\"M 6.203125 -19.96875 \r\nL 5.21875 -11.71875 \r\nQ 8.109375 -12.5 10.25 -12.5 \r\nQ 13.1875 -12.5 14.9375 -11.515625 \r\nQ 16.703125 -10.546875 17.828125 -8.796875 \r\nQ 18.65625 -7.46875 20.515625 -2.25 \r\nQ 20.75 -1.515625 21.296875 -0.09375 \r\nL 1.609375 51.859375 \r\nL 11.078125 51.859375 \r\nL 21.875 21.828125 \r\nQ 23.96875 16.109375 25.640625 9.8125 \r\nQ 27.15625 15.875 29.25 21.625 \r\nL 40.328125 51.859375 \r\nL 49.125 51.859375 \r\nL 29.390625 -0.875 \r\nQ 26.21875 -9.421875 24.46875 -12.640625 \r\nQ 22.125 -17 19.09375 -19.015625 \r\nQ 16.0625 -21.046875 11.859375 -21.046875 \r\nQ 9.328125 -21.046875 6.203125 -19.96875 \r\nz\r\n\" id=\"ArialMT-121\"/>\r\n      </defs>\r\n      <use xlink:href=\"#ArialMT-83\"/>\r\n      <use x=\"66.699219\" xlink:href=\"#ArialMT-97\"/>\r\n      <use x=\"122.314453\" xlink:href=\"#ArialMT-108\"/>\r\n      <use x=\"144.53125\" xlink:href=\"#ArialMT-97\"/>\r\n      <use x=\"200.146484\" xlink:href=\"#ArialMT-114\"/>\r\n      <use x=\"233.447266\" xlink:href=\"#ArialMT-121\"/>\r\n     </g>\r\n    </g>\r\n   </g>\r\n   <g id=\"patch_3\">\r\n    <path clip-path=\"url(#p0ebe02f56a)\" d=\"M 71.199801 293.735625 \r\nL 81.345256 293.735625 \r\nL 81.345256 238.728482 \r\nL 71.199801 238.728482 \r\nz\r\n\" style=\"fill:#5875a4;stroke:#ffffff;stroke-linejoin:miter;\"/>\r\n   </g>\r\n   <g id=\"patch_4\">\r\n    <path clip-path=\"url(#p0ebe02f56a)\" d=\"M 96.563438 293.735625 \r\nL 106.708892 293.735625 \r\nL 106.708892 115.771339 \r\nL 96.563438 115.771339 \r\nz\r\n\" style=\"fill:#5875a4;stroke:#ffffff;stroke-linejoin:miter;\"/>\r\n   </g>\r\n   <g id=\"patch_5\">\r\n    <path clip-path=\"url(#p0ebe02f56a)\" d=\"M 121.927074 293.735625 \r\nL 132.072528 293.735625 \r\nL 132.072528 181.779911 \r\nL 121.927074 181.779911 \r\nz\r\n\" style=\"fill:#5875a4;stroke:#ffffff;stroke-linejoin:miter;\"/>\r\n   </g>\r\n   <g id=\"patch_6\">\r\n    <path clip-path=\"url(#p0ebe02f56a)\" d=\"M 147.29071 293.735625 \r\nL 157.436165 293.735625 \r\nL 157.436165 161.718482 \r\nL 147.29071 161.718482 \r\nz\r\n\" style=\"fill:#5875a4;stroke:#ffffff;stroke-linejoin:miter;\"/>\r\n   </g>\r\n   <g id=\"patch_7\">\r\n    <path clip-path=\"url(#p0ebe02f56a)\" d=\"M 172.654347 293.735625 \r\nL 182.799801 293.735625 \r\nL 182.799801 191.179661 \r\nL 172.654347 191.179661 \r\nz\r\n\" style=\"fill:#5875a4;stroke:#ffffff;stroke-linejoin:miter;\"/>\r\n   </g>\r\n   <g id=\"patch_8\">\r\n    <path clip-path=\"url(#p0ebe02f56a)\" d=\"M 198.017983 293.735625 \r\nL 208.163438 293.735625 \r\nL 208.163438 158.126839 \r\nL 198.017983 158.126839 \r\nz\r\n\" style=\"fill:#5875a4;stroke:#ffffff;stroke-linejoin:miter;\"/>\r\n   </g>\r\n   <g id=\"patch_9\">\r\n    <path clip-path=\"url(#p0ebe02f56a)\" d=\"M 223.381619 293.735625 \r\nL 233.527074 293.735625 \r\nL 233.527074 211.494554 \r\nL 223.381619 211.494554 \r\nz\r\n\" style=\"fill:#5875a4;stroke:#ffffff;stroke-linejoin:miter;\"/>\r\n   </g>\r\n   <g id=\"patch_10\">\r\n    <path clip-path=\"url(#p0ebe02f56a)\" d=\"M 248.745256 293.735625 \r\nL 258.89071 293.735625 \r\nL 258.89071 220.356096 \r\nL 248.745256 220.356096 \r\nz\r\n\" style=\"fill:#5875a4;stroke:#ffffff;stroke-linejoin:miter;\"/>\r\n   </g>\r\n   <g id=\"patch_11\">\r\n    <path clip-path=\"url(#p0ebe02f56a)\" d=\"M 274.108892 293.735625 \r\nL 284.254347 293.735625 \r\nL 284.254347 204.146786 \r\nL 274.108892 204.146786 \r\nz\r\n\" style=\"fill:#5875a4;stroke:#ffffff;stroke-linejoin:miter;\"/>\r\n   </g>\r\n   <g id=\"patch_12\">\r\n    <path clip-path=\"url(#p0ebe02f56a)\" d=\"M 299.472528 293.735625 \r\nL 309.617983 293.735625 \r\nL 309.617983 179.407054 \r\nL 299.472528 179.407054 \r\nz\r\n\" style=\"fill:#5875a4;stroke:#ffffff;stroke-linejoin:miter;\"/>\r\n   </g>\r\n   <g id=\"patch_13\">\r\n    <path clip-path=\"url(#p0ebe02f56a)\" d=\"M 324.836165 293.735625 \r\nL 334.981619 293.735625 \r\nL 334.981619 228.859554 \r\nL 324.836165 228.859554 \r\nz\r\n\" style=\"fill:#5875a4;stroke:#ffffff;stroke-linejoin:miter;\"/>\r\n   </g>\r\n   <g id=\"patch_14\">\r\n    <path clip-path=\"url(#p0ebe02f56a)\" d=\"M 350.199801 293.735625 \r\nL 360.345256 293.735625 \r\nL 360.345256 161.362554 \r\nL 350.199801 161.362554 \r\nz\r\n\" style=\"fill:#5875a4;stroke:#ffffff;stroke-linejoin:miter;\"/>\r\n   </g>\r\n   <g id=\"patch_15\">\r\n    <path clip-path=\"url(#p0ebe02f56a)\" d=\"M 375.563438 293.735625 \r\nL 385.708892 293.735625 \r\nL 385.708892 227.403482 \r\nL 375.563438 227.403482 \r\nz\r\n\" style=\"fill:#5875a4;stroke:#ffffff;stroke-linejoin:miter;\"/>\r\n   </g>\r\n   <g id=\"patch_16\">\r\n    <path clip-path=\"url(#p0ebe02f56a)\" d=\"M 400.927074 293.735625 \r\nL 411.072528 293.735625 \r\nL 411.072528 168.93008 \r\nL 400.927074 168.93008 \r\nz\r\n\" style=\"fill:#5875a4;stroke:#ffffff;stroke-linejoin:miter;\"/>\r\n   </g>\r\n   <g id=\"patch_17\">\r\n    <path clip-path=\"url(#p0ebe02f56a)\" d=\"M 426.29071 293.735625 \r\nL 436.436165 293.735625 \r\nL 436.436165 191.702768 \r\nL 426.29071 191.702768 \r\nz\r\n\" style=\"fill:#5875a4;stroke:#ffffff;stroke-linejoin:miter;\"/>\r\n   </g>\r\n   <g id=\"patch_18\">\r\n    <path clip-path=\"url(#p0ebe02f56a)\" d=\"M 451.654347 293.735625 \r\nL 461.799801 293.735625 \r\nL 461.799801 226.796786 \r\nL 451.654347 226.796786 \r\nz\r\n\" style=\"fill:#5875a4;stroke:#ffffff;stroke-linejoin:miter;\"/>\r\n   </g>\r\n   <g id=\"patch_19\">\r\n    <path clip-path=\"url(#p0ebe02f56a)\" d=\"M 477.017983 293.735625 \r\nL 487.163437 293.735625 \r\nL 487.163437 229.021339 \r\nL 477.017983 229.021339 \r\nz\r\n\" style=\"fill:#5875a4;stroke:#ffffff;stroke-linejoin:miter;\"/>\r\n   </g>\r\n   <g id=\"patch_20\">\r\n    <path clip-path=\"url(#p0ebe02f56a)\" d=\"M 502.381619 293.735625 \r\nL 512.527074 293.735625 \r\nL 512.527074 125.478482 \r\nL 502.381619 125.478482 \r\nz\r\n\" style=\"fill:#5875a4;stroke:#ffffff;stroke-linejoin:miter;\"/>\r\n   </g>\r\n   <g id=\"patch_21\">\r\n    <path clip-path=\"url(#p0ebe02f56a)\" d=\"M 527.745256 293.735625 \r\nL 537.89071 293.735625 \r\nL 537.89071 229.021339 \r\nL 527.745256 229.021339 \r\nz\r\n\" style=\"fill:#5875a4;stroke:#ffffff;stroke-linejoin:miter;\"/>\r\n   </g>\r\n   <g id=\"patch_22\">\r\n    <path clip-path=\"url(#p0ebe02f56a)\" d=\"M 553.108892 293.735625 \r\nL 563.254347 293.735625 \r\nL 563.254347 190.742839 \r\nL 553.108892 190.742839 \r\nz\r\n\" style=\"fill:#5875a4;stroke:#ffffff;stroke-linejoin:miter;\"/>\r\n   </g>\r\n   <g id=\"patch_23\">\r\n    <path clip-path=\"url(#p0ebe02f56a)\" d=\"M 578.472528 293.735625 \r\nL 588.617983 293.735625 \r\nL 588.617983 225.785625 \r\nL 578.472528 225.785625 \r\nz\r\n\" style=\"fill:#5875a4;stroke:#ffffff;stroke-linejoin:miter;\"/>\r\n   </g>\r\n   <g id=\"patch_24\">\r\n    <path clip-path=\"url(#p0ebe02f56a)\" d=\"M 603.836165 293.735625 \r\nL 613.981619 293.735625 \r\nL 613.981619 217.696339 \r\nL 603.836165 217.696339 \r\nz\r\n\" style=\"fill:#5875a4;stroke:#ffffff;stroke-linejoin:miter;\"/>\r\n   </g>\r\n   <g id=\"patch_25\">\r\n    <path clip-path=\"url(#p0ebe02f56a)\" d=\"M 629.199801 293.735625 \r\nL 639.345256 293.735625 \r\nL 639.345256 212.842768 \r\nL 629.199801 212.842768 \r\nz\r\n\" style=\"fill:#5875a4;stroke:#ffffff;stroke-linejoin:miter;\"/>\r\n   </g>\r\n   <g id=\"patch_26\">\r\n    <path clip-path=\"url(#p0ebe02f56a)\" d=\"M 654.563438 293.735625 \r\nL 664.708892 293.735625 \r\nL 664.708892 227.511339 \r\nL 654.563438 227.511339 \r\nz\r\n\" style=\"fill:#5875a4;stroke:#ffffff;stroke-linejoin:miter;\"/>\r\n   </g>\r\n   <g id=\"patch_27\">\r\n    <path clip-path=\"url(#p0ebe02f56a)\" d=\"M 679.927074 293.735625 \r\nL 690.072528 293.735625 \r\nL 690.072528 230.639196 \r\nL 679.927074 230.639196 \r\nz\r\n\" style=\"fill:#5875a4;stroke:#ffffff;stroke-linejoin:miter;\"/>\r\n   </g>\r\n   <g id=\"patch_28\">\r\n    <path clip-path=\"url(#p0ebe02f56a)\" d=\"M 705.29071 293.735625 \r\nL 715.436165 293.735625 \r\nL 715.436165 162.689196 \r\nL 705.29071 162.689196 \r\nz\r\n\" style=\"fill:#5875a4;stroke:#ffffff;stroke-linejoin:miter;\"/>\r\n   </g>\r\n   <g id=\"patch_29\">\r\n    <path clip-path=\"url(#p0ebe02f56a)\" d=\"M 730.654347 293.735625 \r\nL 740.799801 293.735625 \r\nL 740.799801 115.771339 \r\nL 730.654347 115.771339 \r\nz\r\n\" style=\"fill:#5875a4;stroke:#ffffff;stroke-linejoin:miter;\"/>\r\n   </g>\r\n   <g id=\"patch_30\">\r\n    <path clip-path=\"url(#p0ebe02f56a)\" d=\"M 756.017983 293.735625 \r\nL 766.163438 293.735625 \r\nL 766.163438 223.358839 \r\nL 756.017983 223.358839 \r\nz\r\n\" style=\"fill:#5875a4;stroke:#ffffff;stroke-linejoin:miter;\"/>\r\n   </g>\r\n   <g id=\"patch_31\">\r\n    <path clip-path=\"url(#p0ebe02f56a)\" d=\"M 781.381619 293.735625 \r\nL 791.527074 293.735625 \r\nL 791.527074 115.771339 \r\nL 781.381619 115.771339 \r\nz\r\n\" style=\"fill:#5875a4;stroke:#ffffff;stroke-linejoin:miter;\"/>\r\n   </g>\r\n   <g id=\"patch_32\">\r\n    <path clip-path=\"url(#p0ebe02f56a)\" d=\"M 0 0 \r\nz\r\n\" style=\"fill:#5875a4;stroke:#ffffff;stroke-linejoin:miter;\"/>\r\n   </g>\r\n   <g id=\"patch_33\">\r\n    <path clip-path=\"url(#p0ebe02f56a)\" d=\"M 832.108892 293.735625 \r\nL 842.254347 293.735625 \r\nL 842.254347 222.549911 \r\nL 832.108892 222.549911 \r\nz\r\n\" style=\"fill:#5875a4;stroke:#ffffff;stroke-linejoin:miter;\"/>\r\n   </g>\r\n   <g id=\"patch_34\">\r\n    <path clip-path=\"url(#p0ebe02f56a)\" d=\"M 857.472528 293.735625 \r\nL 867.617983 293.735625 \r\nL 867.617983 34.878482 \r\nL 857.472528 34.878482 \r\nz\r\n\" style=\"fill:#5875a4;stroke:#ffffff;stroke-linejoin:miter;\"/>\r\n   </g>\r\n   <g id=\"patch_35\">\r\n    <path clip-path=\"url(#p0ebe02f56a)\" d=\"M 882.836165 293.735625 \r\nL 892.981619 293.735625 \r\nL 892.981619 241.964196 \r\nL 882.836165 241.964196 \r\nz\r\n\" style=\"fill:#5875a4;stroke:#ffffff;stroke-linejoin:miter;\"/>\r\n   </g>\r\n   <g id=\"patch_36\">\r\n    <path clip-path=\"url(#p0ebe02f56a)\" d=\"M 81.345256 293.735625 \r\nL 91.49071 293.735625 \r\nL 91.49071 206.371339 \r\nL 81.345256 206.371339 \r\nz\r\n\" style=\"fill:#cc8963;stroke:#ffffff;stroke-linejoin:miter;\"/>\r\n   </g>\r\n   <g id=\"patch_37\">\r\n    <path clip-path=\"url(#p0ebe02f56a)\" d=\"M 0 0 \r\nz\r\n\" style=\"fill:#cc8963;stroke:#ffffff;stroke-linejoin:miter;\"/>\r\n   </g>\r\n   <g id=\"patch_38\">\r\n    <path clip-path=\"url(#p0ebe02f56a)\" d=\"M 0 0 \r\nz\r\n\" style=\"fill:#cc8963;stroke:#ffffff;stroke-linejoin:miter;\"/>\r\n   </g>\r\n   <g id=\"patch_39\">\r\n    <path clip-path=\"url(#p0ebe02f56a)\" d=\"M 157.436165 293.735625 \r\nL 167.581619 293.735625 \r\nL 167.581619 168.621339 \r\nL 157.436165 168.621339 \r\nz\r\n\" style=\"fill:#cc8963;stroke:#ffffff;stroke-linejoin:miter;\"/>\r\n   </g>\r\n   <g id=\"patch_40\">\r\n    <path clip-path=\"url(#p0ebe02f56a)\" d=\"M 182.799801 293.735625 \r\nL 192.945256 293.735625 \r\nL 192.945256 155.813304 \r\nL 182.799801 155.813304 \r\nz\r\n\" style=\"fill:#cc8963;stroke:#ffffff;stroke-linejoin:miter;\"/>\r\n   </g>\r\n   <g id=\"patch_41\">\r\n    <path clip-path=\"url(#p0ebe02f56a)\" d=\"M 208.163438 293.735625 \r\nL 218.308892 293.735625 \r\nL 218.308892 151.364196 \r\nL 208.163438 151.364196 \r\nz\r\n\" style=\"fill:#cc8963;stroke:#ffffff;stroke-linejoin:miter;\"/>\r\n   </g>\r\n   <g id=\"patch_42\">\r\n    <path clip-path=\"url(#p0ebe02f56a)\" d=\"M 233.527074 293.735625 \r\nL 243.672528 293.735625 \r\nL 243.672528 177.120482 \r\nL 233.527074 177.120482 \r\nz\r\n\" style=\"fill:#cc8963;stroke:#ffffff;stroke-linejoin:miter;\"/>\r\n   </g>\r\n   <g id=\"patch_43\">\r\n    <path clip-path=\"url(#p0ebe02f56a)\" d=\"M 258.89071 293.735625 \r\nL 269.036165 293.735625 \r\nL 269.036165 217.502196 \r\nL 258.89071 217.502196 \r\nz\r\n\" style=\"fill:#cc8963;stroke:#ffffff;stroke-linejoin:miter;\"/>\r\n   </g>\r\n   <g id=\"patch_44\">\r\n    <path clip-path=\"url(#p0ebe02f56a)\" d=\"M 284.254347 293.735625 \r\nL 294.399801 293.735625 \r\nL 294.399801 171.587411 \r\nL 284.254347 171.587411 \r\nz\r\n\" style=\"fill:#cc8963;stroke:#ffffff;stroke-linejoin:miter;\"/>\r\n   </g>\r\n   <g id=\"patch_45\">\r\n    <path clip-path=\"url(#p0ebe02f56a)\" d=\"M 309.617983 293.735625 \r\nL 319.763438 293.735625 \r\nL 319.763438 205.738577 \r\nL 309.617983 205.738577 \r\nz\r\n\" style=\"fill:#cc8963;stroke:#ffffff;stroke-linejoin:miter;\"/>\r\n   </g>\r\n   <g id=\"patch_46\">\r\n    <path clip-path=\"url(#p0ebe02f56a)\" d=\"M 334.981619 293.735625 \r\nL 345.127074 293.735625 \r\nL 345.127074 199.899911 \r\nL 334.981619 199.899911 \r\nz\r\n\" style=\"fill:#cc8963;stroke:#ffffff;stroke-linejoin:miter;\"/>\r\n   </g>\r\n   <g id=\"patch_47\">\r\n    <path clip-path=\"url(#p0ebe02f56a)\" d=\"M 360.345256 293.735625 \r\nL 370.49071 293.735625 \r\nL 370.49071 159.992768 \r\nL 360.345256 159.992768 \r\nz\r\n\" style=\"fill:#cc8963;stroke:#ffffff;stroke-linejoin:miter;\"/>\r\n   </g>\r\n   <g id=\"patch_48\">\r\n    <path clip-path=\"url(#p0ebe02f56a)\" d=\"M 385.708892 293.735625 \r\nL 395.854347 293.735625 \r\nL 395.854347 181.564196 \r\nL 385.708892 181.564196 \r\nz\r\n\" style=\"fill:#cc8963;stroke:#ffffff;stroke-linejoin:miter;\"/>\r\n   </g>\r\n   <g id=\"patch_49\">\r\n    <path clip-path=\"url(#p0ebe02f56a)\" d=\"M 411.072528 293.735625 \r\nL 421.217983 293.735625 \r\nL 421.217983 199.090982 \r\nL 411.072528 199.090982 \r\nz\r\n\" style=\"fill:#cc8963;stroke:#ffffff;stroke-linejoin:miter;\"/>\r\n   </g>\r\n   <g id=\"patch_50\">\r\n    <path clip-path=\"url(#p0ebe02f56a)\" d=\"M 436.436165 293.735625 \r\nL 446.581619 293.735625 \r\nL 446.581619 225.785625 \r\nL 436.436165 225.785625 \r\nz\r\n\" style=\"fill:#cc8963;stroke:#ffffff;stroke-linejoin:miter;\"/>\r\n   </g>\r\n   <g id=\"patch_51\">\r\n    <path clip-path=\"url(#p0ebe02f56a)\" d=\"M 461.799801 293.735625 \r\nL 471.945256 293.735625 \r\nL 471.945256 234.414196 \r\nL 461.799801 234.414196 \r\nz\r\n\" style=\"fill:#cc8963;stroke:#ffffff;stroke-linejoin:miter;\"/>\r\n   </g>\r\n   <g id=\"patch_52\">\r\n    <path clip-path=\"url(#p0ebe02f56a)\" d=\"M 487.163437 293.735625 \r\nL 497.308892 293.735625 \r\nL 497.308892 232.257054 \r\nL 487.163437 232.257054 \r\nz\r\n\" style=\"fill:#cc8963;stroke:#ffffff;stroke-linejoin:miter;\"/>\r\n   </g>\r\n   <g id=\"patch_53\">\r\n    <path clip-path=\"url(#p0ebe02f56a)\" d=\"M 512.527074 293.735625 \r\nL 522.672528 293.735625 \r\nL 522.672528 146.510625 \r\nL 512.527074 146.510625 \r\nz\r\n\" style=\"fill:#cc8963;stroke:#ffffff;stroke-linejoin:miter;\"/>\r\n   </g>\r\n   <g id=\"patch_54\">\r\n    <path clip-path=\"url(#p0ebe02f56a)\" d=\"M 537.89071 293.735625 \r\nL 548.036165 293.735625 \r\nL 548.036165 179.137411 \r\nL 537.89071 179.137411 \r\nz\r\n\" style=\"fill:#cc8963;stroke:#ffffff;stroke-linejoin:miter;\"/>\r\n   </g>\r\n   <g id=\"patch_55\">\r\n    <path clip-path=\"url(#p0ebe02f56a)\" d=\"M 563.254347 293.735625 \r\nL 573.399801 293.735625 \r\nL 573.399801 93.121339 \r\nL 563.254347 93.121339 \r\nz\r\n\" style=\"fill:#cc8963;stroke:#ffffff;stroke-linejoin:miter;\"/>\r\n   </g>\r\n   <g id=\"patch_56\">\r\n    <path clip-path=\"url(#p0ebe02f56a)\" d=\"M 0 0 \r\nz\r\n\" style=\"fill:#cc8963;stroke:#ffffff;stroke-linejoin:miter;\"/>\r\n   </g>\r\n   <g id=\"patch_57\">\r\n    <path clip-path=\"url(#p0ebe02f56a)\" d=\"M 613.981619 293.735625 \r\nL 624.127074 293.735625 \r\nL 624.127074 159.291696 \r\nL 613.981619 159.291696 \r\nz\r\n\" style=\"fill:#cc8963;stroke:#ffffff;stroke-linejoin:miter;\"/>\r\n   </g>\r\n   <g id=\"patch_58\">\r\n    <path clip-path=\"url(#p0ebe02f56a)\" d=\"M 639.345256 293.735625 \r\nL 649.49071 293.735625 \r\nL 649.49071 163.659911 \r\nL 639.345256 163.659911 \r\nz\r\n\" style=\"fill:#cc8963;stroke:#ffffff;stroke-linejoin:miter;\"/>\r\n   </g>\r\n   <g id=\"patch_59\">\r\n    <path clip-path=\"url(#p0ebe02f56a)\" d=\"M 664.708892 293.735625 \r\nL 674.854347 293.735625 \r\nL 674.854347 117.389196 \r\nL 664.708892 117.389196 \r\nz\r\n\" style=\"fill:#cc8963;stroke:#ffffff;stroke-linejoin:miter;\"/>\r\n   </g>\r\n   <g id=\"patch_60\">\r\n    <path clip-path=\"url(#p0ebe02f56a)\" d=\"M 690.072528 293.735625 \r\nL 700.217983 293.735625 \r\nL 700.217983 172.396339 \r\nL 690.072528 172.396339 \r\nz\r\n\" style=\"fill:#cc8963;stroke:#ffffff;stroke-linejoin:miter;\"/>\r\n   </g>\r\n   <g id=\"patch_61\">\r\n    <path clip-path=\"url(#p0ebe02f56a)\" d=\"M 715.436165 293.735625 \r\nL 725.581619 293.735625 \r\nL 725.581619 206.371339 \r\nL 715.436165 206.371339 \r\nz\r\n\" style=\"fill:#cc8963;stroke:#ffffff;stroke-linejoin:miter;\"/>\r\n   </g>\r\n   <g id=\"patch_62\">\r\n    <path clip-path=\"url(#p0ebe02f56a)\" d=\"M 740.799801 293.735625 \r\nL 750.945256 293.735625 \r\nL 750.945256 122.242768 \r\nL 740.799801 122.242768 \r\nz\r\n\" style=\"fill:#cc8963;stroke:#ffffff;stroke-linejoin:miter;\"/>\r\n   </g>\r\n   <g id=\"patch_63\">\r\n    <path clip-path=\"url(#p0ebe02f56a)\" d=\"M 0 0 \r\nz\r\n\" style=\"fill:#cc8963;stroke:#ffffff;stroke-linejoin:miter;\"/>\r\n   </g>\r\n   <g id=\"patch_64\">\r\n    <path clip-path=\"url(#p0ebe02f56a)\" d=\"M 791.527074 293.735625 \r\nL 801.672528 293.735625 \r\nL 801.672528 169.160625 \r\nL 791.527074 169.160625 \r\nz\r\n\" style=\"fill:#cc8963;stroke:#ffffff;stroke-linejoin:miter;\"/>\r\n   </g>\r\n   <g id=\"patch_65\">\r\n    <path clip-path=\"url(#p0ebe02f56a)\" d=\"M 816.89071 293.735625 \r\nL 827.036165 293.735625 \r\nL 827.036165 241.964196 \r\nL 816.89071 241.964196 \r\nz\r\n\" style=\"fill:#cc8963;stroke:#ffffff;stroke-linejoin:miter;\"/>\r\n   </g>\r\n   <g id=\"patch_66\">\r\n    <path clip-path=\"url(#p0ebe02f56a)\" d=\"M 0 0 \r\nz\r\n\" style=\"fill:#cc8963;stroke:#ffffff;stroke-linejoin:miter;\"/>\r\n   </g>\r\n   <g id=\"patch_67\">\r\n    <path clip-path=\"url(#p0ebe02f56a)\" d=\"M 867.617983 293.735625 \r\nL 877.763438 293.735625 \r\nL 877.763438 114.153482 \r\nL 867.617983 114.153482 \r\nz\r\n\" style=\"fill:#cc8963;stroke:#ffffff;stroke-linejoin:miter;\"/>\r\n   </g>\r\n   <g id=\"patch_68\">\r\n    <path clip-path=\"url(#p0ebe02f56a)\" d=\"M 0 0 \r\nz\r\n\" style=\"fill:#cc8963;stroke:#ffffff;stroke-linejoin:miter;\"/>\r\n   </g>\r\n   <g id=\"line2d_10\">\r\n    <path clip-path=\"url(#p0ebe02f56a)\" style=\"fill:none;stroke:#424242;stroke-linecap:round;stroke-width:2.7;\"/>\r\n   </g>\r\n   <g id=\"line2d_11\">\r\n    <path clip-path=\"url(#p0ebe02f56a)\" style=\"fill:none;stroke:#424242;stroke-linecap:round;stroke-width:2.7;\"/>\r\n   </g>\r\n   <g id=\"line2d_12\">\r\n    <path clip-path=\"url(#p0ebe02f56a)\" d=\"M 126.999801 229.021339 \r\nL 126.999801 132.597054 \r\n\" style=\"fill:none;stroke:#424242;stroke-linecap:round;stroke-width:2.7;\"/>\r\n   </g>\r\n   <g id=\"line2d_13\">\r\n    <path clip-path=\"url(#p0ebe02f56a)\" d=\"M 152.363438 211.548482 \r\nL 152.363438 116.418482 \r\n\" style=\"fill:none;stroke:#424242;stroke-linecap:round;stroke-width:2.7;\"/>\r\n   </g>\r\n   <g id=\"line2d_14\">\r\n    <path clip-path=\"url(#p0ebe02f56a)\" d=\"M 177.727074 220.710003 \r\nL 177.727074 155.398728 \r\n\" style=\"fill:none;stroke:#424242;stroke-linecap:round;stroke-width:2.7;\"/>\r\n   </g>\r\n   <g id=\"line2d_15\">\r\n    <path clip-path=\"url(#p0ebe02f56a)\" d=\"M 203.09071 196.217263 \r\nL 203.09071 124.938253 \r\n\" style=\"fill:none;stroke:#424242;stroke-linecap:round;stroke-width:2.7;\"/>\r\n   </g>\r\n   <g id=\"line2d_16\">\r\n    <path clip-path=\"url(#p0ebe02f56a)\" d=\"M 228.454347 232.931161 \r\nL 228.454347 179.673326 \r\n\" style=\"fill:none;stroke:#424242;stroke-linecap:round;stroke-width:2.7;\"/>\r\n   </g>\r\n   <g id=\"line2d_17\">\r\n    <path clip-path=\"url(#p0ebe02f56a)\" d=\"M 253.817983 233.307043 \r\nL 253.817983 207.413239 \r\n\" style=\"fill:none;stroke:#424242;stroke-linecap:round;stroke-width:2.7;\"/>\r\n   </g>\r\n   <g id=\"line2d_18\">\r\n    <path clip-path=\"url(#p0ebe02f56a)\" d=\"M 279.181619 238.728482 \r\nL 279.181619 169.565089 \r\n\" style=\"fill:none;stroke:#424242;stroke-linecap:round;stroke-width:2.7;\"/>\r\n   </g>\r\n   <g id=\"line2d_19\">\r\n    <path clip-path=\"url(#p0ebe02f56a)\" d=\"M 304.545256 222.549911 \r\nL 304.545256 99.592768 \r\n\" style=\"fill:none;stroke:#424242;stroke-linecap:round;stroke-width:2.7;\"/>\r\n   </g>\r\n   <g id=\"line2d_20\">\r\n    <path clip-path=\"url(#p0ebe02f56a)\" d=\"M 329.908892 248.435625 \r\nL 329.908892 209.283482 \r\n\" style=\"fill:none;stroke:#424242;stroke-linecap:round;stroke-width:2.7;\"/>\r\n   </g>\r\n   <g id=\"line2d_21\">\r\n    <path clip-path=\"url(#p0ebe02f56a)\" d=\"M 355.272528 191.487054 \r\nL 355.272528 131.302768 \r\n\" style=\"fill:none;stroke:#424242;stroke-linecap:round;stroke-width:2.7;\"/>\r\n   </g>\r\n   <g id=\"line2d_22\">\r\n    <path clip-path=\"url(#p0ebe02f56a)\" d=\"M 380.636165 241.964196 \r\nL 380.636165 212.842768 \r\n\" style=\"fill:none;stroke:#424242;stroke-linecap:round;stroke-width:2.7;\"/>\r\n   </g>\r\n   <g id=\"line2d_23\">\r\n    <path clip-path=\"url(#p0ebe02f56a)\" d=\"M 405.999801 200.559996 \r\nL 405.999801 131.226425 \r\n\" style=\"fill:none;stroke:#424242;stroke-linecap:round;stroke-width:2.7;\"/>\r\n   </g>\r\n   <g id=\"line2d_24\">\r\n    <path clip-path=\"url(#p0ebe02f56a)\" d=\"M 431.363438 234.953482 \r\nL 431.363438 148.452054 \r\n\" style=\"fill:none;stroke:#424242;stroke-linecap:round;stroke-width:2.7;\"/>\r\n   </g>\r\n   <g id=\"line2d_25\">\r\n    <path clip-path=\"url(#p0ebe02f56a)\" d=\"M 456.727074 236.908393 \r\nL 456.727074 217.696339 \r\n\" style=\"fill:none;stroke:#424242;stroke-linecap:round;stroke-width:2.7;\"/>\r\n   </g>\r\n   <g id=\"line2d_26\">\r\n    <path clip-path=\"url(#p0ebe02f56a)\" style=\"fill:none;stroke:#424242;stroke-linecap:round;stroke-width:2.7;\"/>\r\n   </g>\r\n   <g id=\"line2d_27\">\r\n    <path clip-path=\"url(#p0ebe02f56a)\" style=\"fill:none;stroke:#424242;stroke-linecap:round;stroke-width:2.7;\"/>\r\n   </g>\r\n   <g id=\"line2d_28\">\r\n    <path clip-path=\"url(#p0ebe02f56a)\" d=\"M 532.817983 238.728482 \r\nL 532.817983 219.314196 \r\n\" style=\"fill:none;stroke:#424242;stroke-linecap:round;stroke-width:2.7;\"/>\r\n   </g>\r\n   <g id=\"line2d_29\">\r\n    <path clip-path=\"url(#p0ebe02f56a)\" d=\"M 558.181619 238.728482 \r\nL 558.181619 128.714196 \r\n\" style=\"fill:none;stroke:#424242;stroke-linecap:round;stroke-width:2.7;\"/>\r\n   </g>\r\n   <g id=\"line2d_30\">\r\n    <path clip-path=\"url(#p0ebe02f56a)\" d=\"M 583.545256 229.021339 \r\nL 583.545256 222.549911 \r\n\" style=\"fill:none;stroke:#424242;stroke-linecap:round;stroke-width:2.7;\"/>\r\n   </g>\r\n   <g id=\"line2d_31\">\r\n    <path clip-path=\"url(#p0ebe02f56a)\" d=\"M 608.908892 222.549911 \r\nL 608.908892 212.842768 \r\n\" style=\"fill:none;stroke:#424242;stroke-linecap:round;stroke-width:2.7;\"/>\r\n   </g>\r\n   <g id=\"line2d_32\">\r\n    <path clip-path=\"url(#p0ebe02f56a)\" style=\"fill:none;stroke:#424242;stroke-linecap:round;stroke-width:2.7;\"/>\r\n   </g>\r\n   <g id=\"line2d_33\">\r\n    <path clip-path=\"url(#p0ebe02f56a)\" d=\"M 659.636165 248.435625 \r\nL 659.636165 192.134196 \r\n\" style=\"fill:none;stroke:#424242;stroke-linecap:round;stroke-width:2.7;\"/>\r\n   </g>\r\n   <g id=\"line2d_34\">\r\n    <path clip-path=\"url(#p0ebe02f56a)\" d=\"M 684.999801 245.199911 \r\nL 684.999801 216.078482 \r\n\" style=\"fill:none;stroke:#424242;stroke-linecap:round;stroke-width:2.7;\"/>\r\n   </g>\r\n   <g id=\"line2d_35\">\r\n    <path clip-path=\"url(#p0ebe02f56a)\" d=\"M 710.363438 225.785625 \r\nL 710.363438 99.592768 \r\n\" style=\"fill:none;stroke:#424242;stroke-linecap:round;stroke-width:2.7;\"/>\r\n   </g>\r\n   <g id=\"line2d_36\">\r\n    <path clip-path=\"url(#p0ebe02f56a)\" style=\"fill:none;stroke:#424242;stroke-linecap:round;stroke-width:2.7;\"/>\r\n   </g>\r\n   <g id=\"line2d_37\">\r\n    <path clip-path=\"url(#p0ebe02f56a)\" d=\"M 761.09071 232.257054 \r\nL 761.09071 214.460625 \r\n\" style=\"fill:none;stroke:#424242;stroke-linecap:round;stroke-width:2.7;\"/>\r\n   </g>\r\n   <g id=\"line2d_38\">\r\n    <path clip-path=\"url(#p0ebe02f56a)\" style=\"fill:none;stroke:#424242;stroke-linecap:round;stroke-width:2.7;\"/>\r\n   </g>\r\n   <g id=\"line2d_39\">\r\n    <path clip-path=\"url(#p0ebe02f56a)\" style=\"fill:none;stroke:#424242;stroke-linecap:round;stroke-width:2.7;\"/>\r\n   </g>\r\n   <g id=\"line2d_40\">\r\n    <path clip-path=\"url(#p0ebe02f56a)\" style=\"fill:none;stroke:#424242;stroke-linecap:round;stroke-width:2.7;\"/>\r\n   </g>\r\n   <g id=\"line2d_41\">\r\n    <path clip-path=\"url(#p0ebe02f56a)\" style=\"fill:none;stroke:#424242;stroke-linecap:round;stroke-width:2.7;\"/>\r\n   </g>\r\n   <g id=\"line2d_42\">\r\n    <path clip-path=\"url(#p0ebe02f56a)\" style=\"fill:none;stroke:#424242;stroke-linecap:round;stroke-width:2.7;\"/>\r\n   </g>\r\n   <g id=\"line2d_43\">\r\n    <path clip-path=\"url(#p0ebe02f56a)\" style=\"fill:none;stroke:#424242;stroke-linecap:round;stroke-width:2.7;\"/>\r\n   </g>\r\n   <g id=\"line2d_44\">\r\n    <path clip-path=\"url(#p0ebe02f56a)\" style=\"fill:none;stroke:#424242;stroke-linecap:round;stroke-width:2.7;\"/>\r\n   </g>\r\n   <g id=\"line2d_45\">\r\n    <path clip-path=\"url(#p0ebe02f56a)\" style=\"fill:none;stroke:#424242;stroke-linecap:round;stroke-width:2.7;\"/>\r\n   </g>\r\n   <g id=\"line2d_46\">\r\n    <path clip-path=\"url(#p0ebe02f56a)\" d=\"M 162.508892 235.492768 \r\nL 162.508892 112.535625 \r\n\" style=\"fill:none;stroke:#424242;stroke-linecap:round;stroke-width:2.7;\"/>\r\n   </g>\r\n   <g id=\"line2d_47\">\r\n    <path clip-path=\"url(#p0ebe02f56a)\" d=\"M 187.872528 197.473125 \r\nL 187.872528 114.153482 \r\n\" style=\"fill:none;stroke:#424242;stroke-linecap:round;stroke-width:2.7;\"/>\r\n   </g>\r\n   <g id=\"line2d_48\">\r\n    <path clip-path=\"url(#p0ebe02f56a)\" d=\"M 213.236165 154.599911 \r\nL 213.236165 148.128482 \r\n\" style=\"fill:none;stroke:#424242;stroke-linecap:round;stroke-width:2.7;\"/>\r\n   </g>\r\n   <g id=\"line2d_49\">\r\n    <path clip-path=\"url(#p0ebe02f56a)\" d=\"M 238.599801 215.431339 \r\nL 238.599801 125.349054 \r\n\" style=\"fill:none;stroke:#424242;stroke-linecap:round;stroke-width:2.7;\"/>\r\n   </g>\r\n   <g id=\"line2d_50\">\r\n    <path clip-path=\"url(#p0ebe02f56a)\" d=\"M 263.963438 228.010179 \r\nL 263.963438 205.586679 \r\n\" style=\"fill:none;stroke:#424242;stroke-linecap:round;stroke-width:2.7;\"/>\r\n   </g>\r\n   <g id=\"line2d_51\">\r\n    <path clip-path=\"url(#p0ebe02f56a)\" d=\"M 289.327074 229.021339 \r\nL 289.327074 114.153482 \r\n\" style=\"fill:none;stroke:#424242;stroke-linecap:round;stroke-width:2.7;\"/>\r\n   </g>\r\n   <g id=\"line2d_52\">\r\n    <path clip-path=\"url(#p0ebe02f56a)\" d=\"M 314.69071 228.841218 \r\nL 314.69071 175.08378 \r\n\" style=\"fill:none;stroke:#424242;stroke-linecap:round;stroke-width:2.7;\"/>\r\n   </g>\r\n   <g id=\"line2d_53\">\r\n    <path clip-path=\"url(#p0ebe02f56a)\" d=\"M 340.054347 230.639196 \r\nL 340.054347 143.274911 \r\n\" style=\"fill:none;stroke:#424242;stroke-linecap:round;stroke-width:2.7;\"/>\r\n   </g>\r\n   <g id=\"line2d_54\">\r\n    <path clip-path=\"url(#p0ebe02f56a)\" d=\"M 365.417983 238.728482 \r\nL 365.417983 119.007054 \r\n\" style=\"fill:none;stroke:#424242;stroke-linecap:round;stroke-width:2.7;\"/>\r\n   </g>\r\n   <g id=\"line2d_55\">\r\n    <path clip-path=\"url(#p0ebe02f56a)\" d=\"M 390.781619 235.492768 \r\nL 390.781619 83.414196 \r\n\" style=\"fill:none;stroke:#424242;stroke-linecap:round;stroke-width:2.7;\"/>\r\n   </g>\r\n   <g id=\"line2d_56\">\r\n    <path clip-path=\"url(#p0ebe02f56a)\" d=\"M 416.145256 237.110625 \r\nL 416.145256 148.128482 \r\n\" style=\"fill:none;stroke:#424242;stroke-linecap:round;stroke-width:2.7;\"/>\r\n   </g>\r\n   <g id=\"line2d_57\">\r\n    <path clip-path=\"url(#p0ebe02f56a)\" style=\"fill:none;stroke:#424242;stroke-linecap:round;stroke-width:2.7;\"/>\r\n   </g>\r\n   <g id=\"line2d_58\">\r\n    <path clip-path=\"url(#p0ebe02f56a)\" d=\"M 466.872528 248.435625 \r\nL 466.872528 209.607054 \r\n\" style=\"fill:none;stroke:#424242;stroke-linecap:round;stroke-width:2.7;\"/>\r\n   </g>\r\n   <g id=\"line2d_59\">\r\n    <path clip-path=\"url(#p0ebe02f56a)\" d=\"M 492.236165 241.964196 \r\nL 492.236165 222.549911 \r\n\" style=\"fill:none;stroke:#424242;stroke-linecap:round;stroke-width:2.7;\"/>\r\n   </g>\r\n   <g id=\"line2d_60\">\r\n    <path clip-path=\"url(#p0ebe02f56a)\" d=\"M 517.599801 203.135625 \r\nL 517.599801 115.771339 \r\n\" style=\"fill:none;stroke:#424242;stroke-linecap:round;stroke-width:2.7;\"/>\r\n   </g>\r\n   <g id=\"line2d_61\">\r\n    <path clip-path=\"url(#p0ebe02f56a)\" d=\"M 542.963437 224.976696 \r\nL 542.963437 112.535625 \r\n\" style=\"fill:none;stroke:#424242;stroke-linecap:round;stroke-width:2.7;\"/>\r\n   </g>\r\n   <g id=\"line2d_62\">\r\n    <path clip-path=\"url(#p0ebe02f56a)\" style=\"fill:none;stroke:#424242;stroke-linecap:round;stroke-width:2.7;\"/>\r\n   </g>\r\n   <g id=\"line2d_63\">\r\n    <path clip-path=\"url(#p0ebe02f56a)\" style=\"fill:none;stroke:#424242;stroke-linecap:round;stroke-width:2.7;\"/>\r\n   </g>\r\n   <g id=\"line2d_64\">\r\n    <path clip-path=\"url(#p0ebe02f56a)\" d=\"M 619.054347 218.990625 \r\nL 619.054347 99.592768 \r\n\" style=\"fill:none;stroke:#424242;stroke-linecap:round;stroke-width:2.7;\"/>\r\n   </g>\r\n   <g id=\"line2d_65\">\r\n    <path clip-path=\"url(#p0ebe02f56a)\" d=\"M 644.417983 241.964196 \r\nL 644.417983 114.153482 \r\n\" style=\"fill:none;stroke:#424242;stroke-linecap:round;stroke-width:2.7;\"/>\r\n   </g>\r\n   <g id=\"line2d_66\">\r\n    <path clip-path=\"url(#p0ebe02f56a)\" style=\"fill:none;stroke:#424242;stroke-linecap:round;stroke-width:2.7;\"/>\r\n   </g>\r\n   <g id=\"line2d_67\">\r\n    <path clip-path=\"url(#p0ebe02f56a)\" d=\"M 695.145256 229.021339 \r\nL 695.145256 115.771339 \r\n\" style=\"fill:none;stroke:#424242;stroke-linecap:round;stroke-width:2.7;\"/>\r\n   </g>\r\n   <g id=\"line2d_68\">\r\n    <path clip-path=\"url(#p0ebe02f56a)\" style=\"fill:none;stroke:#424242;stroke-linecap:round;stroke-width:2.7;\"/>\r\n   </g>\r\n   <g id=\"line2d_69\">\r\n    <path clip-path=\"url(#p0ebe02f56a)\" style=\"fill:none;stroke:#424242;stroke-linecap:round;stroke-width:2.7;\"/>\r\n   </g>\r\n   <g id=\"line2d_70\">\r\n    <path clip-path=\"url(#p0ebe02f56a)\" style=\"fill:none;stroke:#424242;stroke-linecap:round;stroke-width:2.7;\"/>\r\n   </g>\r\n   <g id=\"line2d_71\">\r\n    <path clip-path=\"url(#p0ebe02f56a)\" d=\"M 796.599801 222.549911 \r\nL 796.599801 115.771339 \r\n\" style=\"fill:none;stroke:#424242;stroke-linecap:round;stroke-width:2.7;\"/>\r\n   </g>\r\n   <g id=\"line2d_72\">\r\n    <path clip-path=\"url(#p0ebe02f56a)\" style=\"fill:none;stroke:#424242;stroke-linecap:round;stroke-width:2.7;\"/>\r\n   </g>\r\n   <g id=\"line2d_73\">\r\n    <path clip-path=\"url(#p0ebe02f56a)\" style=\"fill:none;stroke:#424242;stroke-linecap:round;stroke-width:2.7;\"/>\r\n   </g>\r\n   <g id=\"line2d_74\">\r\n    <path clip-path=\"url(#p0ebe02f56a)\" style=\"fill:none;stroke:#424242;stroke-linecap:round;stroke-width:2.7;\"/>\r\n   </g>\r\n   <g id=\"line2d_75\">\r\n    <path clip-path=\"url(#p0ebe02f56a)\" style=\"fill:none;stroke:#424242;stroke-linecap:round;stroke-width:2.7;\"/>\r\n   </g>\r\n   <g id=\"patch_69\">\r\n    <path d=\"M 68.663438 293.735625 \r\nL 68.663438 21.935625 \r\n\" style=\"fill:none;stroke:#cccccc;stroke-linecap:square;stroke-linejoin:miter;stroke-width:1.25;\"/>\r\n   </g>\r\n   <g id=\"patch_70\">\r\n    <path d=\"M 905.663437 293.735625 \r\nL 905.663437 21.935625 \r\n\" style=\"fill:none;stroke:#cccccc;stroke-linecap:square;stroke-linejoin:miter;stroke-width:1.25;\"/>\r\n   </g>\r\n   <g id=\"patch_71\">\r\n    <path d=\"M 68.663438 293.735625 \r\nL 905.663437 293.735625 \r\n\" style=\"fill:none;stroke:#cccccc;stroke-linecap:square;stroke-linejoin:miter;stroke-width:1.25;\"/>\r\n   </g>\r\n   <g id=\"patch_72\">\r\n    <path d=\"M 68.663438 21.935625 \r\nL 905.663437 21.935625 \r\n\" style=\"fill:none;stroke:#cccccc;stroke-linecap:square;stroke-linejoin:miter;stroke-width:1.25;\"/>\r\n   </g>\r\n   <g id=\"text_45\">\r\n    <!-- Salaries by gender and age -->\r\n    <g style=\"fill:#262626;\" transform=\"translate(413.783437 15.935625)scale(0.12 -0.12)\">\r\n     <defs>\r\n      <path d=\"M 6.640625 61.46875 \r\nL 6.640625 71.578125 \r\nL 15.4375 71.578125 \r\nL 15.4375 61.46875 \r\nz\r\nM 6.640625 0 \r\nL 6.640625 51.859375 \r\nL 15.4375 51.859375 \r\nL 15.4375 0 \r\nz\r\n\" id=\"ArialMT-105\"/>\r\n      <path d=\"M 3.078125 15.484375 \r\nL 11.765625 16.84375 \r\nQ 12.5 11.625 15.84375 8.84375 \r\nQ 19.1875 6.0625 25.203125 6.0625 \r\nQ 31.25 6.0625 34.171875 8.515625 \r\nQ 37.109375 10.984375 37.109375 14.3125 \r\nQ 37.109375 17.28125 34.515625 19 \r\nQ 32.71875 20.171875 25.53125 21.96875 \r\nQ 15.875 24.421875 12.140625 26.203125 \r\nQ 8.40625 27.984375 6.46875 31.125 \r\nQ 4.546875 34.28125 4.546875 38.09375 \r\nQ 4.546875 41.546875 6.125 44.5 \r\nQ 7.71875 47.46875 10.453125 49.421875 \r\nQ 12.5 50.921875 16.03125 51.96875 \r\nQ 19.578125 53.03125 23.640625 53.03125 \r\nQ 29.734375 53.03125 34.34375 51.265625 \r\nQ 38.96875 49.515625 41.15625 46.5 \r\nQ 43.359375 43.5 44.1875 38.484375 \r\nL 35.59375 37.3125 \r\nQ 35.015625 41.3125 32.203125 43.546875 \r\nQ 29.390625 45.796875 24.265625 45.796875 \r\nQ 18.21875 45.796875 15.625 43.796875 \r\nQ 13.03125 41.796875 13.03125 39.109375 \r\nQ 13.03125 37.40625 14.109375 36.03125 \r\nQ 15.1875 34.625 17.484375 33.6875 \r\nQ 18.796875 33.203125 25.25 31.453125 \r\nQ 34.578125 28.953125 38.25 27.359375 \r\nQ 41.9375 25.78125 44.03125 22.75 \r\nQ 46.140625 19.734375 46.140625 15.234375 \r\nQ 46.140625 10.84375 43.578125 6.953125 \r\nQ 41.015625 3.078125 36.171875 0.953125 \r\nQ 31.34375 -1.171875 25.25 -1.171875 \r\nQ 15.140625 -1.171875 9.84375 3.03125 \r\nQ 4.546875 7.234375 3.078125 15.484375 \r\nz\r\n\" id=\"ArialMT-115\"/>\r\n      <path id=\"ArialMT-32\"/>\r\n      <path d=\"M 14.703125 0 \r\nL 6.546875 0 \r\nL 6.546875 71.578125 \r\nL 15.328125 71.578125 \r\nL 15.328125 46.046875 \r\nQ 20.90625 53.03125 29.546875 53.03125 \r\nQ 34.328125 53.03125 38.59375 51.09375 \r\nQ 42.875 49.171875 45.625 45.671875 \r\nQ 48.390625 42.1875 49.953125 37.25 \r\nQ 51.515625 32.328125 51.515625 26.703125 \r\nQ 51.515625 13.375 44.921875 6.09375 \r\nQ 38.328125 -1.171875 29.109375 -1.171875 \r\nQ 19.921875 -1.171875 14.703125 6.5 \r\nz\r\nM 14.59375 26.3125 \r\nQ 14.59375 17 17.140625 12.84375 \r\nQ 21.296875 6.0625 28.375 6.0625 \r\nQ 34.125 6.0625 38.328125 11.0625 \r\nQ 42.53125 16.0625 42.53125 25.984375 \r\nQ 42.53125 36.140625 38.5 40.96875 \r\nQ 34.46875 45.796875 28.765625 45.796875 \r\nQ 23 45.796875 18.796875 40.796875 \r\nQ 14.59375 35.796875 14.59375 26.3125 \r\nz\r\n\" id=\"ArialMT-98\"/>\r\n      <path d=\"M 6.59375 0 \r\nL 6.59375 51.859375 \r\nL 14.5 51.859375 \r\nL 14.5 44.484375 \r\nQ 20.21875 53.03125 31 53.03125 \r\nQ 35.6875 53.03125 39.625 51.34375 \r\nQ 43.5625 49.65625 45.515625 46.921875 \r\nQ 47.46875 44.1875 48.25 40.4375 \r\nQ 48.734375 37.984375 48.734375 31.890625 \r\nL 48.734375 0 \r\nL 39.9375 0 \r\nL 39.9375 31.546875 \r\nQ 39.9375 36.921875 38.90625 39.578125 \r\nQ 37.890625 42.234375 35.28125 43.8125 \r\nQ 32.671875 45.40625 29.15625 45.40625 \r\nQ 23.53125 45.40625 19.453125 41.84375 \r\nQ 15.375 38.28125 15.375 28.328125 \r\nL 15.375 0 \r\nz\r\n\" id=\"ArialMT-110\"/>\r\n      <path d=\"M 40.234375 0 \r\nL 40.234375 6.546875 \r\nQ 35.296875 -1.171875 25.734375 -1.171875 \r\nQ 19.53125 -1.171875 14.328125 2.25 \r\nQ 9.125 5.671875 6.265625 11.796875 \r\nQ 3.421875 17.921875 3.421875 25.875 \r\nQ 3.421875 33.640625 6 39.96875 \r\nQ 8.59375 46.296875 13.765625 49.65625 \r\nQ 18.953125 53.03125 25.34375 53.03125 \r\nQ 30.03125 53.03125 33.6875 51.046875 \r\nQ 37.359375 49.078125 39.65625 45.90625 \r\nL 39.65625 71.578125 \r\nL 48.390625 71.578125 \r\nL 48.390625 0 \r\nz\r\nM 12.453125 25.875 \r\nQ 12.453125 15.921875 16.640625 10.984375 \r\nQ 20.84375 6.0625 26.5625 6.0625 \r\nQ 32.328125 6.0625 36.34375 10.765625 \r\nQ 40.375 15.484375 40.375 25.140625 \r\nQ 40.375 35.796875 36.265625 40.765625 \r\nQ 32.171875 45.75 26.171875 45.75 \r\nQ 20.3125 45.75 16.375 40.96875 \r\nQ 12.453125 36.1875 12.453125 25.875 \r\nz\r\n\" id=\"ArialMT-100\"/>\r\n     </defs>\r\n     <use xlink:href=\"#ArialMT-83\"/>\r\n     <use x=\"66.699219\" xlink:href=\"#ArialMT-97\"/>\r\n     <use x=\"122.314453\" xlink:href=\"#ArialMT-108\"/>\r\n     <use x=\"144.53125\" xlink:href=\"#ArialMT-97\"/>\r\n     <use x=\"200.146484\" xlink:href=\"#ArialMT-114\"/>\r\n     <use x=\"233.447266\" xlink:href=\"#ArialMT-105\"/>\r\n     <use x=\"255.664062\" xlink:href=\"#ArialMT-101\"/>\r\n     <use x=\"311.279297\" xlink:href=\"#ArialMT-115\"/>\r\n     <use x=\"361.279297\" xlink:href=\"#ArialMT-32\"/>\r\n     <use x=\"389.0625\" xlink:href=\"#ArialMT-98\"/>\r\n     <use x=\"444.677734\" xlink:href=\"#ArialMT-121\"/>\r\n     <use x=\"494.677734\" xlink:href=\"#ArialMT-32\"/>\r\n     <use x=\"522.460938\" xlink:href=\"#ArialMT-103\"/>\r\n     <use x=\"578.076172\" xlink:href=\"#ArialMT-101\"/>\r\n     <use x=\"633.691406\" xlink:href=\"#ArialMT-110\"/>\r\n     <use x=\"689.306641\" xlink:href=\"#ArialMT-100\"/>\r\n     <use x=\"744.921875\" xlink:href=\"#ArialMT-101\"/>\r\n     <use x=\"800.537109\" xlink:href=\"#ArialMT-114\"/>\r\n     <use x=\"833.837891\" xlink:href=\"#ArialMT-32\"/>\r\n     <use x=\"861.621094\" xlink:href=\"#ArialMT-97\"/>\r\n     <use x=\"917.236328\" xlink:href=\"#ArialMT-110\"/>\r\n     <use x=\"972.851562\" xlink:href=\"#ArialMT-100\"/>\r\n     <use x=\"1028.466797\" xlink:href=\"#ArialMT-32\"/>\r\n     <use x=\"1056.25\" xlink:href=\"#ArialMT-97\"/>\r\n     <use x=\"1111.865234\" xlink:href=\"#ArialMT-103\"/>\r\n     <use x=\"1167.480469\" xlink:href=\"#ArialMT-101\"/>\r\n    </g>\r\n   </g>\r\n   <g id=\"legend_1\">\r\n    <g id=\"patch_73\">\r\n     <path d=\"M 451.225234 78.329687 \r\nL 523.101641 78.329687 \r\nQ 525.301641 78.329687 525.301641 76.129687 \r\nL 525.301641 29.635625 \r\nQ 525.301641 27.435625 523.101641 27.435625 \r\nL 451.225234 27.435625 \r\nQ 449.025234 27.435625 449.025234 29.635625 \r\nL 449.025234 76.129687 \r\nQ 449.025234 78.329687 451.225234 78.329687 \r\nz\r\n\" style=\"fill:#ffffff;opacity:0.8;stroke:#cccccc;stroke-linejoin:miter;\"/>\r\n    </g>\r\n    <g id=\"text_46\">\r\n     <!-- Gender -->\r\n     <g style=\"fill:#262626;\" transform=\"translate(467.1525 40.425)scale(0.12 -0.12)\">\r\n      <defs>\r\n       <path d=\"M 41.21875 28.078125 \r\nL 41.21875 36.46875 \r\nL 71.53125 36.53125 \r\nL 71.53125 9.96875 \r\nQ 64.546875 4.390625 57.125 1.578125 \r\nQ 49.703125 -1.21875 41.890625 -1.21875 \r\nQ 31.34375 -1.21875 22.71875 3.296875 \r\nQ 14.109375 7.8125 9.71875 16.359375 \r\nQ 5.328125 24.90625 5.328125 35.453125 \r\nQ 5.328125 45.90625 9.6875 54.953125 \r\nQ 14.0625 64.015625 22.265625 68.40625 \r\nQ 30.46875 72.796875 41.15625 72.796875 \r\nQ 48.921875 72.796875 55.1875 70.28125 \r\nQ 61.46875 67.78125 65.03125 63.28125 \r\nQ 68.609375 58.796875 70.453125 51.5625 \r\nL 61.921875 49.21875 \r\nQ 60.296875 54.6875 57.90625 57.8125 \r\nQ 55.515625 60.9375 51.0625 62.8125 \r\nQ 46.625 64.703125 41.21875 64.703125 \r\nQ 34.71875 64.703125 29.984375 62.71875 \r\nQ 25.25 60.75 22.34375 57.515625 \r\nQ 19.4375 54.296875 17.828125 50.4375 \r\nQ 15.09375 43.796875 15.09375 36.03125 \r\nQ 15.09375 26.46875 18.390625 20.015625 \r\nQ 21.6875 13.578125 27.984375 10.453125 \r\nQ 34.28125 7.328125 41.359375 7.328125 \r\nQ 47.515625 7.328125 53.375 9.6875 \r\nQ 59.234375 12.0625 62.25 14.75 \r\nL 62.25 28.078125 \r\nz\r\n\" id=\"ArialMT-71\"/>\r\n      </defs>\r\n      <use xlink:href=\"#ArialMT-71\"/>\r\n      <use x=\"77.783203\" xlink:href=\"#ArialMT-101\"/>\r\n      <use x=\"133.398438\" xlink:href=\"#ArialMT-110\"/>\r\n      <use x=\"189.013672\" xlink:href=\"#ArialMT-100\"/>\r\n      <use x=\"244.628906\" xlink:href=\"#ArialMT-101\"/>\r\n      <use x=\"300.244141\" xlink:href=\"#ArialMT-114\"/>\r\n     </g>\r\n    </g>\r\n    <g id=\"patch_74\">\r\n     <path d=\"M 453.425234 56.183594 \r\nL 475.425234 56.183594 \r\nL 475.425234 48.483594 \r\nL 453.425234 48.483594 \r\nz\r\n\" style=\"fill:#5875a4;stroke:#ffffff;stroke-linejoin:miter;\"/>\r\n    </g>\r\n    <g id=\"text_47\">\r\n     <!-- Female -->\r\n     <g style=\"fill:#262626;\" transform=\"translate(484.225234 56.183594)scale(0.11 -0.11)\">\r\n      <defs>\r\n       <path d=\"M 8.203125 0 \r\nL 8.203125 71.578125 \r\nL 56.5 71.578125 \r\nL 56.5 63.140625 \r\nL 17.671875 63.140625 \r\nL 17.671875 40.96875 \r\nL 51.265625 40.96875 \r\nL 51.265625 32.515625 \r\nL 17.671875 32.515625 \r\nL 17.671875 0 \r\nz\r\n\" id=\"ArialMT-70\"/>\r\n       <path d=\"M 6.59375 0 \r\nL 6.59375 51.859375 \r\nL 14.453125 51.859375 \r\nL 14.453125 44.578125 \r\nQ 16.890625 48.390625 20.9375 50.703125 \r\nQ 25 53.03125 30.171875 53.03125 \r\nQ 35.9375 53.03125 39.625 50.640625 \r\nQ 43.3125 48.25 44.828125 43.953125 \r\nQ 50.984375 53.03125 60.84375 53.03125 \r\nQ 68.5625 53.03125 72.703125 48.75 \r\nQ 76.859375 44.484375 76.859375 35.59375 \r\nL 76.859375 0 \r\nL 68.109375 0 \r\nL 68.109375 32.671875 \r\nQ 68.109375 37.9375 67.25 40.25 \r\nQ 66.40625 42.578125 64.15625 43.984375 \r\nQ 61.921875 45.40625 58.890625 45.40625 \r\nQ 53.421875 45.40625 49.796875 41.765625 \r\nQ 46.1875 38.140625 46.1875 30.125 \r\nL 46.1875 0 \r\nL 37.40625 0 \r\nL 37.40625 33.6875 \r\nQ 37.40625 39.546875 35.25 42.46875 \r\nQ 33.109375 45.40625 28.21875 45.40625 \r\nQ 24.515625 45.40625 21.359375 43.453125 \r\nQ 18.21875 41.5 16.796875 37.734375 \r\nQ 15.375 33.984375 15.375 26.90625 \r\nL 15.375 0 \r\nz\r\n\" id=\"ArialMT-109\"/>\r\n      </defs>\r\n      <use xlink:href=\"#ArialMT-70\"/>\r\n      <use x=\"61.083984\" xlink:href=\"#ArialMT-101\"/>\r\n      <use x=\"116.699219\" xlink:href=\"#ArialMT-109\"/>\r\n      <use x=\"200\" xlink:href=\"#ArialMT-97\"/>\r\n      <use x=\"255.615234\" xlink:href=\"#ArialMT-108\"/>\r\n      <use x=\"277.832031\" xlink:href=\"#ArialMT-101\"/>\r\n     </g>\r\n    </g>\r\n    <g id=\"patch_75\">\r\n     <path d=\"M 453.425234 71.743437 \r\nL 475.425234 71.743437 \r\nL 475.425234 64.043437 \r\nL 453.425234 64.043437 \r\nz\r\n\" style=\"fill:#cc8963;stroke:#ffffff;stroke-linejoin:miter;\"/>\r\n    </g>\r\n    <g id=\"text_48\">\r\n     <!-- Male -->\r\n     <g style=\"fill:#262626;\" transform=\"translate(484.225234 71.743437)scale(0.11 -0.11)\">\r\n      <defs>\r\n       <path d=\"M 7.421875 0 \r\nL 7.421875 71.578125 \r\nL 21.6875 71.578125 \r\nL 38.625 20.90625 \r\nQ 40.96875 13.8125 42.046875 10.296875 \r\nQ 43.265625 14.203125 45.84375 21.78125 \r\nL 62.984375 71.578125 \r\nL 75.734375 71.578125 \r\nL 75.734375 0 \r\nL 66.609375 0 \r\nL 66.609375 59.90625 \r\nL 45.796875 0 \r\nL 37.25 0 \r\nL 16.546875 60.9375 \r\nL 16.546875 0 \r\nz\r\n\" id=\"ArialMT-77\"/>\r\n      </defs>\r\n      <use xlink:href=\"#ArialMT-77\"/>\r\n      <use x=\"83.300781\" xlink:href=\"#ArialMT-97\"/>\r\n      <use x=\"138.916016\" xlink:href=\"#ArialMT-108\"/>\r\n      <use x=\"161.132812\" xlink:href=\"#ArialMT-101\"/>\r\n     </g>\r\n    </g>\r\n   </g>\r\n  </g>\r\n </g>\r\n <defs>\r\n  <clipPath id=\"p0ebe02f56a\">\r\n   <rect height=\"271.8\" width=\"837\" x=\"68.663438\" y=\"21.935625\"/>\r\n  </clipPath>\r\n </defs>\r\n</svg>\r\n",
      "image/png": "[encoded data removed]"
     },
     "metadata": {
      "needs_background": "light"
     }
    }
   ],
   "source": [
    "# checking for outliers\n",
    "plt.figure(figsize = (15,5))\n",
    "p = sns.barplot(data = df\n",
    "               ,y = 'Salary'\n",
    "               ,x = 'Age'\n",
    "               ,hue = 'Gender')\n",
    "p.set_title('Salaries by gender and age')\n",
    "plt.show()"
   ]
  },
  {
   "cell_type": "code",
   "execution_count": 53,
   "metadata": {},
   "outputs": [
    {
     "output_type": "display_data",
     "data": {
      "text/plain": "<Figure size 1080x360 with 1 Axes>",
      "image/svg+xml": "<?xml version=\"1.0\" encoding=\"utf-8\" standalone=\"no\"?>\r\n<!DOCTYPE svg PUBLIC \"-//W3C//DTD SVG 1.1//EN\"\r\n  \"http://www.w3.org/Graphics/SVG/1.1/DTD/svg11.dtd\">\r\n<!-- Created with matplotlib (https://matplotlib.org/) -->\r\n<svg height=\"335.732812pt\" version=\"1.1\" viewBox=\"0 0 913.302723 335.732812\" width=\"913.302723pt\" xmlns=\"http://www.w3.org/2000/svg\" xmlns:xlink=\"http://www.w3.org/1999/xlink\">\r\n <metadata>\r\n  <rdf:RDF xmlns:cc=\"http://creativecommons.org/ns#\" xmlns:dc=\"http://purl.org/dc/elements/1.1/\" xmlns:rdf=\"http://www.w3.org/1999/02/22-rdf-syntax-ns#\">\r\n   <cc:Work>\r\n    <dc:type rdf:resource=\"http://purl.org/dc/dcmitype/StillImage\"/>\r\n    <dc:date>2021-04-19T09:37:32.898583</dc:date>\r\n    <dc:format>image/svg+xml</dc:format>\r\n    <dc:creator>\r\n     <cc:Agent>\r\n      <dc:title>Matplotlib v3.3.2, https://matplotlib.org/</dc:title>\r\n     </cc:Agent>\r\n    </dc:creator>\r\n   </cc:Work>\r\n  </rdf:RDF>\r\n </metadata>\r\n <defs>\r\n  <style type=\"text/css\">*{stroke-linecap:butt;stroke-linejoin:round;}</style>\r\n </defs>\r\n <g id=\"figure_1\">\r\n  <g id=\"patch_1\">\r\n   <path d=\"M 0 335.732812 \r\nL 913.302723 335.732812 \r\nL 913.302723 0 \r\nL 0 0 \r\nz\r\n\" style=\"fill:none;\"/>\r\n  </g>\r\n  <g id=\"axes_1\">\r\n   <g id=\"patch_2\">\r\n    <path d=\"M 68.663438 293.735625 \r\nL 905.663437 293.735625 \r\nL 905.663437 21.935625 \r\nL 68.663438 21.935625 \r\nz\r\n\" style=\"fill:#ffffff;\"/>\r\n   </g>\r\n   <g id=\"matplotlib.axis_1\">\r\n    <g id=\"xtick_1\">\r\n     <g id=\"text_1\">\r\n      <!-- Executive Office -->\r\n      <g style=\"fill:#262626;\" transform=\"translate(88.808761 311.109219)scale(0.11 -0.11)\">\r\n       <defs>\r\n        <path d=\"M 7.90625 0 \r\nL 7.90625 71.578125 \r\nL 59.671875 71.578125 \r\nL 59.671875 63.140625 \r\nL 17.390625 63.140625 \r\nL 17.390625 41.21875 \r\nL 56.984375 41.21875 \r\nL 56.984375 32.8125 \r\nL 17.390625 32.8125 \r\nL 17.390625 8.453125 \r\nL 61.328125 8.453125 \r\nL 61.328125 0 \r\nz\r\n\" id=\"ArialMT-69\"/>\r\n        <path d=\"M 0.734375 0 \r\nL 19.671875 26.953125 \r\nL 2.15625 51.859375 \r\nL 13.140625 51.859375 \r\nL 21.09375 39.703125 \r\nQ 23.34375 36.234375 24.703125 33.890625 \r\nQ 26.859375 37.109375 28.65625 39.59375 \r\nL 37.40625 51.859375 \r\nL 47.90625 51.859375 \r\nL 29.984375 27.4375 \r\nL 49.265625 0 \r\nL 38.484375 0 \r\nL 27.828125 16.109375 \r\nL 25 20.453125 \r\nL 11.375 0 \r\nz\r\n\" id=\"ArialMT-120\"/>\r\n        <path d=\"M 42.09375 16.703125 \r\nL 51.171875 15.578125 \r\nQ 49.03125 7.625 43.21875 3.21875 \r\nQ 37.40625 -1.171875 28.375 -1.171875 \r\nQ 17 -1.171875 10.328125 5.828125 \r\nQ 3.65625 12.84375 3.65625 25.484375 \r\nQ 3.65625 38.578125 10.390625 45.796875 \r\nQ 17.140625 53.03125 27.875 53.03125 \r\nQ 38.28125 53.03125 44.875 45.953125 \r\nQ 51.46875 38.875 51.46875 26.03125 \r\nQ 51.46875 25.25 51.421875 23.6875 \r\nL 12.75 23.6875 \r\nQ 13.234375 15.140625 17.578125 10.59375 \r\nQ 21.921875 6.0625 28.421875 6.0625 \r\nQ 33.25 6.0625 36.671875 8.59375 \r\nQ 40.09375 11.140625 42.09375 16.703125 \r\nz\r\nM 13.234375 30.90625 \r\nL 42.1875 30.90625 \r\nQ 41.609375 37.453125 38.875 40.71875 \r\nQ 34.671875 45.796875 27.984375 45.796875 \r\nQ 21.921875 45.796875 17.796875 41.75 \r\nQ 13.671875 37.703125 13.234375 30.90625 \r\nz\r\n\" id=\"ArialMT-101\"/>\r\n        <path d=\"M 40.4375 19 \r\nL 49.078125 17.875 \r\nQ 47.65625 8.9375 41.8125 3.875 \r\nQ 35.984375 -1.171875 27.484375 -1.171875 \r\nQ 16.84375 -1.171875 10.375 5.78125 \r\nQ 3.90625 12.75 3.90625 25.734375 \r\nQ 3.90625 34.125 6.6875 40.421875 \r\nQ 9.46875 46.734375 15.15625 49.875 \r\nQ 20.84375 53.03125 27.546875 53.03125 \r\nQ 35.984375 53.03125 41.359375 48.75 \r\nQ 46.734375 44.484375 48.25 36.625 \r\nL 39.703125 35.296875 \r\nQ 38.484375 40.53125 35.375 43.15625 \r\nQ 32.28125 45.796875 27.875 45.796875 \r\nQ 21.234375 45.796875 17.078125 41.03125 \r\nQ 12.9375 36.28125 12.9375 25.984375 \r\nQ 12.9375 15.53125 16.9375 10.796875 \r\nQ 20.953125 6.0625 27.390625 6.0625 \r\nQ 32.5625 6.0625 36.03125 9.234375 \r\nQ 39.5 12.40625 40.4375 19 \r\nz\r\n\" id=\"ArialMT-99\"/>\r\n        <path d=\"M 40.578125 0 \r\nL 40.578125 7.625 \r\nQ 34.515625 -1.171875 24.125 -1.171875 \r\nQ 19.53125 -1.171875 15.546875 0.578125 \r\nQ 11.578125 2.34375 9.640625 5 \r\nQ 7.71875 7.671875 6.9375 11.53125 \r\nQ 6.390625 14.109375 6.390625 19.734375 \r\nL 6.390625 51.859375 \r\nL 15.1875 51.859375 \r\nL 15.1875 23.09375 \r\nQ 15.1875 16.21875 15.71875 13.8125 \r\nQ 16.546875 10.359375 19.234375 8.375 \r\nQ 21.921875 6.390625 25.875 6.390625 \r\nQ 29.828125 6.390625 33.296875 8.421875 \r\nQ 36.765625 10.453125 38.203125 13.9375 \r\nQ 39.65625 17.4375 39.65625 24.078125 \r\nL 39.65625 51.859375 \r\nL 48.4375 51.859375 \r\nL 48.4375 0 \r\nz\r\n\" id=\"ArialMT-117\"/>\r\n        <path d=\"M 25.78125 7.859375 \r\nL 27.046875 0.09375 \r\nQ 23.34375 -0.6875 20.40625 -0.6875 \r\nQ 15.625 -0.6875 12.984375 0.828125 \r\nQ 10.359375 2.34375 9.28125 4.8125 \r\nQ 8.203125 7.28125 8.203125 15.1875 \r\nL 8.203125 45.015625 \r\nL 1.765625 45.015625 \r\nL 1.765625 51.859375 \r\nL 8.203125 51.859375 \r\nL 8.203125 64.703125 \r\nL 16.9375 69.96875 \r\nL 16.9375 51.859375 \r\nL 25.78125 51.859375 \r\nL 25.78125 45.015625 \r\nL 16.9375 45.015625 \r\nL 16.9375 14.703125 \r\nQ 16.9375 10.9375 17.40625 9.859375 \r\nQ 17.875 8.796875 18.921875 8.15625 \r\nQ 19.96875 7.515625 21.921875 7.515625 \r\nQ 23.390625 7.515625 25.78125 7.859375 \r\nz\r\n\" id=\"ArialMT-116\"/>\r\n        <path d=\"M 6.640625 61.46875 \r\nL 6.640625 71.578125 \r\nL 15.4375 71.578125 \r\nL 15.4375 61.46875 \r\nz\r\nM 6.640625 0 \r\nL 6.640625 51.859375 \r\nL 15.4375 51.859375 \r\nL 15.4375 0 \r\nz\r\n\" id=\"ArialMT-105\"/>\r\n        <path d=\"M 21 0 \r\nL 1.265625 51.859375 \r\nL 10.546875 51.859375 \r\nL 21.6875 20.796875 \r\nQ 23.484375 15.765625 25 10.359375 \r\nQ 26.171875 14.453125 28.265625 20.21875 \r\nL 39.796875 51.859375 \r\nL 48.828125 51.859375 \r\nL 29.203125 0 \r\nz\r\n\" id=\"ArialMT-118\"/>\r\n        <path id=\"ArialMT-32\"/>\r\n        <path d=\"M 4.828125 34.859375 \r\nQ 4.828125 52.6875 14.390625 62.765625 \r\nQ 23.96875 72.859375 39.109375 72.859375 \r\nQ 49.03125 72.859375 56.984375 68.109375 \r\nQ 64.9375 63.375 69.109375 54.90625 \r\nQ 73.296875 46.4375 73.296875 35.6875 \r\nQ 73.296875 24.8125 68.890625 16.21875 \r\nQ 64.5 7.625 56.4375 3.203125 \r\nQ 48.390625 -1.21875 39.0625 -1.21875 \r\nQ 28.953125 -1.21875 20.984375 3.65625 \r\nQ 13.03125 8.546875 8.921875 16.984375 \r\nQ 4.828125 25.4375 4.828125 34.859375 \r\nz\r\nM 14.59375 34.71875 \r\nQ 14.59375 21.78125 21.546875 14.328125 \r\nQ 28.515625 6.890625 39.015625 6.890625 \r\nQ 49.703125 6.890625 56.609375 14.40625 \r\nQ 63.53125 21.921875 63.53125 35.75 \r\nQ 63.53125 44.484375 60.578125 51 \r\nQ 57.625 57.515625 51.921875 61.109375 \r\nQ 46.234375 64.703125 39.15625 64.703125 \r\nQ 29.109375 64.703125 21.84375 57.78125 \r\nQ 14.59375 50.875 14.59375 34.71875 \r\nz\r\n\" id=\"ArialMT-79\"/>\r\n        <path d=\"M 8.6875 0 \r\nL 8.6875 45.015625 \r\nL 0.921875 45.015625 \r\nL 0.921875 51.859375 \r\nL 8.6875 51.859375 \r\nL 8.6875 57.375 \r\nQ 8.6875 62.59375 9.625 65.140625 \r\nQ 10.890625 68.5625 14.078125 70.671875 \r\nQ 17.28125 72.796875 23.046875 72.796875 \r\nQ 26.765625 72.796875 31.25 71.921875 \r\nL 29.9375 64.265625 \r\nQ 27.203125 64.75 24.75 64.75 \r\nQ 20.75 64.75 19.09375 63.03125 \r\nQ 17.4375 61.328125 17.4375 56.640625 \r\nL 17.4375 51.859375 \r\nL 27.546875 51.859375 \r\nL 27.546875 45.015625 \r\nL 17.4375 45.015625 \r\nL 17.4375 0 \r\nz\r\n\" id=\"ArialMT-102\"/>\r\n       </defs>\r\n       <use xlink:href=\"#ArialMT-69\"/>\r\n       <use x=\"66.699219\" xlink:href=\"#ArialMT-120\"/>\r\n       <use x=\"116.699219\" xlink:href=\"#ArialMT-101\"/>\r\n       <use x=\"172.314453\" xlink:href=\"#ArialMT-99\"/>\r\n       <use x=\"222.314453\" xlink:href=\"#ArialMT-117\"/>\r\n       <use x=\"277.929688\" xlink:href=\"#ArialMT-116\"/>\r\n       <use x=\"305.712891\" xlink:href=\"#ArialMT-105\"/>\r\n       <use x=\"327.929688\" xlink:href=\"#ArialMT-118\"/>\r\n       <use x=\"377.929688\" xlink:href=\"#ArialMT-101\"/>\r\n       <use x=\"433.544922\" xlink:href=\"#ArialMT-32\"/>\r\n       <use x=\"461.328125\" xlink:href=\"#ArialMT-79\"/>\r\n       <use x=\"539.111328\" xlink:href=\"#ArialMT-102\"/>\r\n       <use x=\"565.144531\" xlink:href=\"#ArialMT-102\"/>\r\n       <use x=\"592.927734\" xlink:href=\"#ArialMT-105\"/>\r\n       <use x=\"615.144531\" xlink:href=\"#ArialMT-99\"/>\r\n       <use x=\"665.144531\" xlink:href=\"#ArialMT-101\"/>\r\n      </g>\r\n     </g>\r\n    </g>\r\n    <g id=\"xtick_2\">\r\n     <g id=\"text_2\">\r\n      <!-- IT/IS -->\r\n      <g style=\"fill:#262626;\" transform=\"translate(236.408705 311.109219)scale(0.11 -0.11)\">\r\n       <defs>\r\n        <path d=\"M 9.328125 0 \r\nL 9.328125 71.578125 \r\nL 18.796875 71.578125 \r\nL 18.796875 0 \r\nz\r\n\" id=\"ArialMT-73\"/>\r\n        <path d=\"M 25.921875 0 \r\nL 25.921875 63.140625 \r\nL 2.34375 63.140625 \r\nL 2.34375 71.578125 \r\nL 59.078125 71.578125 \r\nL 59.078125 63.140625 \r\nL 35.40625 63.140625 \r\nL 35.40625 0 \r\nz\r\n\" id=\"ArialMT-84\"/>\r\n        <path d=\"M 0 -1.21875 \r\nL 20.75 72.796875 \r\nL 27.78125 72.796875 \r\nL 7.078125 -1.21875 \r\nz\r\n\" id=\"ArialMT-47\"/>\r\n        <path d=\"M 4.5 23 \r\nL 13.421875 23.78125 \r\nQ 14.0625 18.40625 16.375 14.96875 \r\nQ 18.703125 11.53125 23.578125 9.40625 \r\nQ 28.46875 7.28125 34.578125 7.28125 \r\nQ 39.984375 7.28125 44.140625 8.890625 \r\nQ 48.296875 10.5 50.3125 13.296875 \r\nQ 52.34375 16.109375 52.34375 19.4375 \r\nQ 52.34375 22.796875 50.390625 25.3125 \r\nQ 48.4375 27.828125 43.953125 29.546875 \r\nQ 41.0625 30.671875 31.203125 33.03125 \r\nQ 21.34375 35.40625 17.390625 37.5 \r\nQ 12.25 40.1875 9.734375 44.15625 \r\nQ 7.234375 48.140625 7.234375 53.078125 \r\nQ 7.234375 58.5 10.296875 63.203125 \r\nQ 13.375 67.921875 19.28125 70.359375 \r\nQ 25.203125 72.796875 32.421875 72.796875 \r\nQ 40.375 72.796875 46.453125 70.234375 \r\nQ 52.546875 67.671875 55.8125 62.6875 \r\nQ 59.078125 57.71875 59.328125 51.421875 \r\nL 50.25 50.734375 \r\nQ 49.515625 57.515625 45.28125 60.984375 \r\nQ 41.0625 64.453125 32.8125 64.453125 \r\nQ 24.21875 64.453125 20.28125 61.296875 \r\nQ 16.359375 58.15625 16.359375 53.71875 \r\nQ 16.359375 49.859375 19.140625 47.359375 \r\nQ 21.875 44.875 33.421875 42.265625 \r\nQ 44.96875 39.65625 49.265625 37.703125 \r\nQ 55.515625 34.8125 58.484375 30.390625 \r\nQ 61.46875 25.984375 61.46875 20.21875 \r\nQ 61.46875 14.5 58.203125 9.4375 \r\nQ 54.9375 4.390625 48.796875 1.578125 \r\nQ 42.671875 -1.21875 35.015625 -1.21875 \r\nQ 25.296875 -1.21875 18.71875 1.609375 \r\nQ 12.15625 4.4375 8.421875 10.125 \r\nQ 4.6875 15.828125 4.5 23 \r\nz\r\n\" id=\"ArialMT-83\"/>\r\n       </defs>\r\n       <use xlink:href=\"#ArialMT-73\"/>\r\n       <use x=\"27.783203\" xlink:href=\"#ArialMT-84\"/>\r\n       <use x=\"88.867188\" xlink:href=\"#ArialMT-47\"/>\r\n       <use x=\"116.650391\" xlink:href=\"#ArialMT-73\"/>\r\n       <use x=\"144.433594\" xlink:href=\"#ArialMT-83\"/>\r\n      </g>\r\n     </g>\r\n    </g>\r\n    <g id=\"xtick_3\">\r\n     <g id=\"text_3\">\r\n      <!-- Sales -->\r\n      <g style=\"fill:#262626;\" transform=\"translate(353.834275 311.109219)scale(0.11 -0.11)\">\r\n       <defs>\r\n        <path d=\"M 40.4375 6.390625 \r\nQ 35.546875 2.25 31.03125 0.53125 \r\nQ 26.515625 -1.171875 21.34375 -1.171875 \r\nQ 12.796875 -1.171875 8.203125 3 \r\nQ 3.609375 7.171875 3.609375 13.671875 \r\nQ 3.609375 17.484375 5.34375 20.625 \r\nQ 7.078125 23.78125 9.890625 25.6875 \r\nQ 12.703125 27.59375 16.21875 28.5625 \r\nQ 18.796875 29.25 24.03125 29.890625 \r\nQ 34.671875 31.15625 39.703125 32.90625 \r\nQ 39.75 34.71875 39.75 35.203125 \r\nQ 39.75 40.578125 37.25 42.78125 \r\nQ 33.890625 45.75 27.25 45.75 \r\nQ 21.046875 45.75 18.09375 43.578125 \r\nQ 15.140625 41.40625 13.71875 35.890625 \r\nL 5.125 37.0625 \r\nQ 6.296875 42.578125 8.984375 45.96875 \r\nQ 11.671875 49.359375 16.75 51.1875 \r\nQ 21.828125 53.03125 28.515625 53.03125 \r\nQ 35.15625 53.03125 39.296875 51.46875 \r\nQ 43.453125 49.90625 45.40625 47.53125 \r\nQ 47.359375 45.171875 48.140625 41.546875 \r\nQ 48.578125 39.3125 48.578125 33.453125 \r\nL 48.578125 21.734375 \r\nQ 48.578125 9.46875 49.140625 6.21875 \r\nQ 49.703125 2.984375 51.375 0 \r\nL 42.1875 0 \r\nQ 40.828125 2.734375 40.4375 6.390625 \r\nz\r\nM 39.703125 26.03125 \r\nQ 34.90625 24.078125 25.34375 22.703125 \r\nQ 19.921875 21.921875 17.671875 20.9375 \r\nQ 15.4375 19.96875 14.203125 18.09375 \r\nQ 12.984375 16.21875 12.984375 13.921875 \r\nQ 12.984375 10.40625 15.640625 8.0625 \r\nQ 18.3125 5.71875 23.4375 5.71875 \r\nQ 28.515625 5.71875 32.46875 7.9375 \r\nQ 36.421875 10.15625 38.28125 14.015625 \r\nQ 39.703125 17 39.703125 22.796875 \r\nz\r\n\" id=\"ArialMT-97\"/>\r\n        <path d=\"M 6.390625 0 \r\nL 6.390625 71.578125 \r\nL 15.1875 71.578125 \r\nL 15.1875 0 \r\nz\r\n\" id=\"ArialMT-108\"/>\r\n        <path d=\"M 3.078125 15.484375 \r\nL 11.765625 16.84375 \r\nQ 12.5 11.625 15.84375 8.84375 \r\nQ 19.1875 6.0625 25.203125 6.0625 \r\nQ 31.25 6.0625 34.171875 8.515625 \r\nQ 37.109375 10.984375 37.109375 14.3125 \r\nQ 37.109375 17.28125 34.515625 19 \r\nQ 32.71875 20.171875 25.53125 21.96875 \r\nQ 15.875 24.421875 12.140625 26.203125 \r\nQ 8.40625 27.984375 6.46875 31.125 \r\nQ 4.546875 34.28125 4.546875 38.09375 \r\nQ 4.546875 41.546875 6.125 44.5 \r\nQ 7.71875 47.46875 10.453125 49.421875 \r\nQ 12.5 50.921875 16.03125 51.96875 \r\nQ 19.578125 53.03125 23.640625 53.03125 \r\nQ 29.734375 53.03125 34.34375 51.265625 \r\nQ 38.96875 49.515625 41.15625 46.5 \r\nQ 43.359375 43.5 44.1875 38.484375 \r\nL 35.59375 37.3125 \r\nQ 35.015625 41.3125 32.203125 43.546875 \r\nQ 29.390625 45.796875 24.265625 45.796875 \r\nQ 18.21875 45.796875 15.625 43.796875 \r\nQ 13.03125 41.796875 13.03125 39.109375 \r\nQ 13.03125 37.40625 14.109375 36.03125 \r\nQ 15.1875 34.625 17.484375 33.6875 \r\nQ 18.796875 33.203125 25.25 31.453125 \r\nQ 34.578125 28.953125 38.25 27.359375 \r\nQ 41.9375 25.78125 44.03125 22.75 \r\nQ 46.140625 19.734375 46.140625 15.234375 \r\nQ 46.140625 10.84375 43.578125 6.953125 \r\nQ 41.015625 3.078125 36.171875 0.953125 \r\nQ 31.34375 -1.171875 25.25 -1.171875 \r\nQ 15.140625 -1.171875 9.84375 3.03125 \r\nQ 4.546875 7.234375 3.078125 15.484375 \r\nz\r\n\" id=\"ArialMT-115\"/>\r\n       </defs>\r\n       <use xlink:href=\"#ArialMT-83\"/>\r\n       <use x=\"66.699219\" xlink:href=\"#ArialMT-97\"/>\r\n       <use x=\"122.314453\" xlink:href=\"#ArialMT-108\"/>\r\n       <use x=\"144.53125\" xlink:href=\"#ArialMT-101\"/>\r\n       <use x=\"200.146484\" xlink:href=\"#ArialMT-115\"/>\r\n      </g>\r\n     </g>\r\n    </g>\r\n    <g id=\"xtick_4\">\r\n     <g id=\"text_4\">\r\n      <!-- Production        -->\r\n      <g style=\"fill:#262626;\" transform=\"translate(450.175078 311.109219)scale(0.11 -0.11)\">\r\n       <defs>\r\n        <path d=\"M 7.71875 0 \r\nL 7.71875 71.578125 \r\nL 34.71875 71.578125 \r\nQ 41.84375 71.578125 45.609375 70.90625 \r\nQ 50.875 70.015625 54.4375 67.546875 \r\nQ 58.015625 65.09375 60.1875 60.640625 \r\nQ 62.359375 56.203125 62.359375 50.875 \r\nQ 62.359375 41.75 56.546875 35.421875 \r\nQ 50.734375 29.109375 35.546875 29.109375 \r\nL 17.1875 29.109375 \r\nL 17.1875 0 \r\nz\r\nM 17.1875 37.546875 \r\nL 35.6875 37.546875 \r\nQ 44.875 37.546875 48.734375 40.96875 \r\nQ 52.59375 44.390625 52.59375 50.59375 \r\nQ 52.59375 55.078125 50.3125 58.265625 \r\nQ 48.046875 61.46875 44.34375 62.5 \r\nQ 41.9375 63.140625 35.5 63.140625 \r\nL 17.1875 63.140625 \r\nz\r\n\" id=\"ArialMT-80\"/>\r\n        <path d=\"M 6.5 0 \r\nL 6.5 51.859375 \r\nL 14.40625 51.859375 \r\nL 14.40625 44 \r\nQ 17.4375 49.515625 20 51.265625 \r\nQ 22.5625 53.03125 25.640625 53.03125 \r\nQ 30.078125 53.03125 34.671875 50.203125 \r\nL 31.640625 42.046875 \r\nQ 28.421875 43.953125 25.203125 43.953125 \r\nQ 22.3125 43.953125 20.015625 42.21875 \r\nQ 17.71875 40.484375 16.75 37.40625 \r\nQ 15.28125 32.71875 15.28125 27.15625 \r\nL 15.28125 0 \r\nz\r\n\" id=\"ArialMT-114\"/>\r\n        <path d=\"M 3.328125 25.921875 \r\nQ 3.328125 40.328125 11.328125 47.265625 \r\nQ 18.015625 53.03125 27.640625 53.03125 \r\nQ 38.328125 53.03125 45.109375 46.015625 \r\nQ 51.90625 39.015625 51.90625 26.65625 \r\nQ 51.90625 16.65625 48.90625 10.90625 \r\nQ 45.90625 5.171875 40.15625 2 \r\nQ 34.421875 -1.171875 27.640625 -1.171875 \r\nQ 16.75 -1.171875 10.03125 5.8125 \r\nQ 3.328125 12.796875 3.328125 25.921875 \r\nz\r\nM 12.359375 25.921875 \r\nQ 12.359375 15.96875 16.703125 11.015625 \r\nQ 21.046875 6.0625 27.640625 6.0625 \r\nQ 34.1875 6.0625 38.53125 11.03125 \r\nQ 42.875 16.015625 42.875 26.21875 \r\nQ 42.875 35.84375 38.5 40.796875 \r\nQ 34.125 45.75 27.640625 45.75 \r\nQ 21.046875 45.75 16.703125 40.8125 \r\nQ 12.359375 35.890625 12.359375 25.921875 \r\nz\r\n\" id=\"ArialMT-111\"/>\r\n        <path d=\"M 40.234375 0 \r\nL 40.234375 6.546875 \r\nQ 35.296875 -1.171875 25.734375 -1.171875 \r\nQ 19.53125 -1.171875 14.328125 2.25 \r\nQ 9.125 5.671875 6.265625 11.796875 \r\nQ 3.421875 17.921875 3.421875 25.875 \r\nQ 3.421875 33.640625 6 39.96875 \r\nQ 8.59375 46.296875 13.765625 49.65625 \r\nQ 18.953125 53.03125 25.34375 53.03125 \r\nQ 30.03125 53.03125 33.6875 51.046875 \r\nQ 37.359375 49.078125 39.65625 45.90625 \r\nL 39.65625 71.578125 \r\nL 48.390625 71.578125 \r\nL 48.390625 0 \r\nz\r\nM 12.453125 25.875 \r\nQ 12.453125 15.921875 16.640625 10.984375 \r\nQ 20.84375 6.0625 26.5625 6.0625 \r\nQ 32.328125 6.0625 36.34375 10.765625 \r\nQ 40.375 15.484375 40.375 25.140625 \r\nQ 40.375 35.796875 36.265625 40.765625 \r\nQ 32.171875 45.75 26.171875 45.75 \r\nQ 20.3125 45.75 16.375 40.96875 \r\nQ 12.453125 36.1875 12.453125 25.875 \r\nz\r\n\" id=\"ArialMT-100\"/>\r\n        <path d=\"M 6.59375 0 \r\nL 6.59375 51.859375 \r\nL 14.5 51.859375 \r\nL 14.5 44.484375 \r\nQ 20.21875 53.03125 31 53.03125 \r\nQ 35.6875 53.03125 39.625 51.34375 \r\nQ 43.5625 49.65625 45.515625 46.921875 \r\nQ 47.46875 44.1875 48.25 40.4375 \r\nQ 48.734375 37.984375 48.734375 31.890625 \r\nL 48.734375 0 \r\nL 39.9375 0 \r\nL 39.9375 31.546875 \r\nQ 39.9375 36.921875 38.90625 39.578125 \r\nQ 37.890625 42.234375 35.28125 43.8125 \r\nQ 32.671875 45.40625 29.15625 45.40625 \r\nQ 23.53125 45.40625 19.453125 41.84375 \r\nQ 15.375 38.28125 15.375 28.328125 \r\nL 15.375 0 \r\nz\r\n\" id=\"ArialMT-110\"/>\r\n       </defs>\r\n       <use xlink:href=\"#ArialMT-80\"/>\r\n       <use x=\"66.699219\" xlink:href=\"#ArialMT-114\"/>\r\n       <use x=\"100\" xlink:href=\"#ArialMT-111\"/>\r\n       <use x=\"155.615234\" xlink:href=\"#ArialMT-100\"/>\r\n       <use x=\"211.230469\" xlink:href=\"#ArialMT-117\"/>\r\n       <use x=\"266.845703\" xlink:href=\"#ArialMT-99\"/>\r\n       <use x=\"316.845703\" xlink:href=\"#ArialMT-116\"/>\r\n       <use x=\"344.628906\" xlink:href=\"#ArialMT-105\"/>\r\n       <use x=\"366.845703\" xlink:href=\"#ArialMT-111\"/>\r\n       <use x=\"422.460938\" xlink:href=\"#ArialMT-110\"/>\r\n       <use x=\"478.076172\" xlink:href=\"#ArialMT-32\"/>\r\n       <use x=\"505.859375\" xlink:href=\"#ArialMT-32\"/>\r\n       <use x=\"533.642578\" xlink:href=\"#ArialMT-32\"/>\r\n       <use x=\"561.425781\" xlink:href=\"#ArialMT-32\"/>\r\n       <use x=\"589.208984\" xlink:href=\"#ArialMT-32\"/>\r\n       <use x=\"616.992188\" xlink:href=\"#ArialMT-32\"/>\r\n       <use x=\"644.775391\" xlink:href=\"#ArialMT-32\"/>\r\n      </g>\r\n     </g>\r\n    </g>\r\n    <g id=\"xtick_5\">\r\n     <g id=\"text_5\">\r\n      <!-- Software Engineering -->\r\n      <g style=\"fill:#262626;\" transform=\"translate(554.14971 311.243281)scale(0.11 -0.11)\">\r\n       <defs>\r\n        <path d=\"M 16.15625 0 \r\nL 0.296875 51.859375 \r\nL 9.375 51.859375 \r\nL 17.625 21.921875 \r\nL 20.703125 10.796875 \r\nQ 20.90625 11.625 23.390625 21.484375 \r\nL 31.640625 51.859375 \r\nL 40.671875 51.859375 \r\nL 48.4375 21.78125 \r\nL 51.03125 11.859375 \r\nL 54 21.875 \r\nL 62.890625 51.859375 \r\nL 71.4375 51.859375 \r\nL 55.21875 0 \r\nL 46.09375 0 \r\nL 37.84375 31.0625 \r\nL 35.84375 39.890625 \r\nL 25.34375 0 \r\nz\r\n\" id=\"ArialMT-119\"/>\r\n        <path d=\"M 4.984375 -4.296875 \r\nL 13.53125 -5.5625 \r\nQ 14.0625 -9.515625 16.5 -11.328125 \r\nQ 19.78125 -13.765625 25.4375 -13.765625 \r\nQ 31.546875 -13.765625 34.859375 -11.328125 \r\nQ 38.1875 -8.890625 39.359375 -4.5 \r\nQ 40.046875 -1.8125 39.984375 6.78125 \r\nQ 34.234375 0 25.640625 0 \r\nQ 14.9375 0 9.078125 7.71875 \r\nQ 3.21875 15.4375 3.21875 26.21875 \r\nQ 3.21875 33.640625 5.90625 39.90625 \r\nQ 8.59375 46.1875 13.6875 49.609375 \r\nQ 18.796875 53.03125 25.6875 53.03125 \r\nQ 34.859375 53.03125 40.828125 45.609375 \r\nL 40.828125 51.859375 \r\nL 48.921875 51.859375 \r\nL 48.921875 7.03125 \r\nQ 48.921875 -5.078125 46.453125 -10.125 \r\nQ 44 -15.1875 38.640625 -18.109375 \r\nQ 33.296875 -21.046875 25.484375 -21.046875 \r\nQ 16.21875 -21.046875 10.5 -16.875 \r\nQ 4.78125 -12.703125 4.984375 -4.296875 \r\nz\r\nM 12.25 26.859375 \r\nQ 12.25 16.65625 16.296875 11.96875 \r\nQ 20.359375 7.28125 26.46875 7.28125 \r\nQ 32.515625 7.28125 36.609375 11.9375 \r\nQ 40.71875 16.609375 40.71875 26.5625 \r\nQ 40.71875 36.078125 36.5 40.90625 \r\nQ 32.28125 45.75 26.3125 45.75 \r\nQ 20.453125 45.75 16.34375 40.984375 \r\nQ 12.25 36.234375 12.25 26.859375 \r\nz\r\n\" id=\"ArialMT-103\"/>\r\n       </defs>\r\n       <use xlink:href=\"#ArialMT-83\"/>\r\n       <use x=\"66.699219\" xlink:href=\"#ArialMT-111\"/>\r\n       <use x=\"122.314453\" xlink:href=\"#ArialMT-102\"/>\r\n       <use x=\"150.097656\" xlink:href=\"#ArialMT-116\"/>\r\n       <use x=\"177.880859\" xlink:href=\"#ArialMT-119\"/>\r\n       <use x=\"250.097656\" xlink:href=\"#ArialMT-97\"/>\r\n       <use x=\"305.712891\" xlink:href=\"#ArialMT-114\"/>\r\n       <use x=\"339.013672\" xlink:href=\"#ArialMT-101\"/>\r\n       <use x=\"394.628906\" xlink:href=\"#ArialMT-32\"/>\r\n       <use x=\"422.412109\" xlink:href=\"#ArialMT-69\"/>\r\n       <use x=\"489.111328\" xlink:href=\"#ArialMT-110\"/>\r\n       <use x=\"544.726562\" xlink:href=\"#ArialMT-103\"/>\r\n       <use x=\"600.341797\" xlink:href=\"#ArialMT-105\"/>\r\n       <use x=\"622.558594\" xlink:href=\"#ArialMT-110\"/>\r\n       <use x=\"678.173828\" xlink:href=\"#ArialMT-101\"/>\r\n       <use x=\"733.789062\" xlink:href=\"#ArialMT-101\"/>\r\n       <use x=\"789.404297\" xlink:href=\"#ArialMT-114\"/>\r\n       <use x=\"822.705078\" xlink:href=\"#ArialMT-105\"/>\r\n       <use x=\"844.921875\" xlink:href=\"#ArialMT-110\"/>\r\n       <use x=\"900.537109\" xlink:href=\"#ArialMT-103\"/>\r\n      </g>\r\n     </g>\r\n    </g>\r\n    <g id=\"xtick_6\">\r\n     <g id=\"text_6\">\r\n      <!-- Admin Offices -->\r\n      <g style=\"fill:#262626;\" transform=\"translate(692.17106 311.109219)scale(0.11 -0.11)\">\r\n       <defs>\r\n        <path d=\"M -0.140625 0 \r\nL 27.34375 71.578125 \r\nL 37.546875 71.578125 \r\nL 66.84375 0 \r\nL 56.0625 0 \r\nL 47.703125 21.6875 \r\nL 17.78125 21.6875 \r\nL 9.90625 0 \r\nz\r\nM 20.515625 29.390625 \r\nL 44.78125 29.390625 \r\nL 37.3125 49.21875 \r\nQ 33.890625 58.25 32.234375 64.0625 \r\nQ 30.859375 57.171875 28.375 50.390625 \r\nz\r\n\" id=\"ArialMT-65\"/>\r\n        <path d=\"M 6.59375 0 \r\nL 6.59375 51.859375 \r\nL 14.453125 51.859375 \r\nL 14.453125 44.578125 \r\nQ 16.890625 48.390625 20.9375 50.703125 \r\nQ 25 53.03125 30.171875 53.03125 \r\nQ 35.9375 53.03125 39.625 50.640625 \r\nQ 43.3125 48.25 44.828125 43.953125 \r\nQ 50.984375 53.03125 60.84375 53.03125 \r\nQ 68.5625 53.03125 72.703125 48.75 \r\nQ 76.859375 44.484375 76.859375 35.59375 \r\nL 76.859375 0 \r\nL 68.109375 0 \r\nL 68.109375 32.671875 \r\nQ 68.109375 37.9375 67.25 40.25 \r\nQ 66.40625 42.578125 64.15625 43.984375 \r\nQ 61.921875 45.40625 58.890625 45.40625 \r\nQ 53.421875 45.40625 49.796875 41.765625 \r\nQ 46.1875 38.140625 46.1875 30.125 \r\nL 46.1875 0 \r\nL 37.40625 0 \r\nL 37.40625 33.6875 \r\nQ 37.40625 39.546875 35.25 42.46875 \r\nQ 33.109375 45.40625 28.21875 45.40625 \r\nQ 24.515625 45.40625 21.359375 43.453125 \r\nQ 18.21875 41.5 16.796875 37.734375 \r\nQ 15.375 33.984375 15.375 26.90625 \r\nL 15.375 0 \r\nz\r\n\" id=\"ArialMT-109\"/>\r\n       </defs>\r\n       <use xlink:href=\"#ArialMT-65\"/>\r\n       <use x=\"66.699219\" xlink:href=\"#ArialMT-100\"/>\r\n       <use x=\"122.314453\" xlink:href=\"#ArialMT-109\"/>\r\n       <use x=\"205.615234\" xlink:href=\"#ArialMT-105\"/>\r\n       <use x=\"227.832031\" xlink:href=\"#ArialMT-110\"/>\r\n       <use x=\"283.447266\" xlink:href=\"#ArialMT-32\"/>\r\n       <use x=\"311.230469\" xlink:href=\"#ArialMT-79\"/>\r\n       <use x=\"389.013672\" xlink:href=\"#ArialMT-102\"/>\r\n       <use x=\"415.046875\" xlink:href=\"#ArialMT-102\"/>\r\n       <use x=\"442.830078\" xlink:href=\"#ArialMT-105\"/>\r\n       <use x=\"465.046875\" xlink:href=\"#ArialMT-99\"/>\r\n       <use x=\"515.046875\" xlink:href=\"#ArialMT-101\"/>\r\n       <use x=\"570.662109\" xlink:href=\"#ArialMT-115\"/>\r\n      </g>\r\n     </g>\r\n    </g>\r\n    <g id=\"xtick_7\">\r\n     <g id=\"text_7\">\r\n      <!-- Software Engineering      -->\r\n      <g style=\"fill:#262626;\" transform=\"translate(785.652723 311.243281)scale(0.11 -0.11)\">\r\n       <use xlink:href=\"#ArialMT-83\"/>\r\n       <use x=\"66.699219\" xlink:href=\"#ArialMT-111\"/>\r\n       <use x=\"122.314453\" xlink:href=\"#ArialMT-102\"/>\r\n       <use x=\"150.097656\" xlink:href=\"#ArialMT-116\"/>\r\n       <use x=\"177.880859\" xlink:href=\"#ArialMT-119\"/>\r\n       <use x=\"250.097656\" xlink:href=\"#ArialMT-97\"/>\r\n       <use x=\"305.712891\" xlink:href=\"#ArialMT-114\"/>\r\n       <use x=\"339.013672\" xlink:href=\"#ArialMT-101\"/>\r\n       <use x=\"394.628906\" xlink:href=\"#ArialMT-32\"/>\r\n       <use x=\"422.412109\" xlink:href=\"#ArialMT-69\"/>\r\n       <use x=\"489.111328\" xlink:href=\"#ArialMT-110\"/>\r\n       <use x=\"544.726562\" xlink:href=\"#ArialMT-103\"/>\r\n       <use x=\"600.341797\" xlink:href=\"#ArialMT-105\"/>\r\n       <use x=\"622.558594\" xlink:href=\"#ArialMT-110\"/>\r\n       <use x=\"678.173828\" xlink:href=\"#ArialMT-101\"/>\r\n       <use x=\"733.789062\" xlink:href=\"#ArialMT-101\"/>\r\n       <use x=\"789.404297\" xlink:href=\"#ArialMT-114\"/>\r\n       <use x=\"822.705078\" xlink:href=\"#ArialMT-105\"/>\r\n       <use x=\"844.921875\" xlink:href=\"#ArialMT-110\"/>\r\n       <use x=\"900.537109\" xlink:href=\"#ArialMT-103\"/>\r\n       <use x=\"956.152344\" xlink:href=\"#ArialMT-32\"/>\r\n       <use x=\"983.935547\" xlink:href=\"#ArialMT-32\"/>\r\n       <use x=\"1011.71875\" xlink:href=\"#ArialMT-32\"/>\r\n       <use x=\"1039.501953\" xlink:href=\"#ArialMT-32\"/>\r\n       <use x=\"1067.285156\" xlink:href=\"#ArialMT-32\"/>\r\n      </g>\r\n     </g>\r\n    </g>\r\n    <g id=\"text_8\">\r\n     <!-- Department -->\r\n     <g style=\"fill:#262626;\" transform=\"translate(455.818125 326.147812)scale(0.12 -0.12)\">\r\n      <defs>\r\n       <path d=\"M 7.71875 0 \r\nL 7.71875 71.578125 \r\nL 32.375 71.578125 \r\nQ 40.71875 71.578125 45.125 70.5625 \r\nQ 51.265625 69.140625 55.609375 65.4375 \r\nQ 61.28125 60.640625 64.078125 53.1875 \r\nQ 66.890625 45.75 66.890625 36.1875 \r\nQ 66.890625 28.03125 64.984375 21.734375 \r\nQ 63.09375 15.4375 60.109375 11.296875 \r\nQ 57.125 7.171875 53.578125 4.796875 \r\nQ 50.046875 2.4375 45.046875 1.21875 \r\nQ 40.046875 0 33.546875 0 \r\nz\r\nM 17.1875 8.453125 \r\nL 32.46875 8.453125 \r\nQ 39.546875 8.453125 43.578125 9.765625 \r\nQ 47.609375 11.078125 50 13.484375 \r\nQ 53.375 16.84375 55.25 22.53125 \r\nQ 57.125 28.21875 57.125 36.328125 \r\nQ 57.125 47.5625 53.4375 53.59375 \r\nQ 49.75 59.625 44.484375 61.671875 \r\nQ 40.671875 63.140625 32.234375 63.140625 \r\nL 17.1875 63.140625 \r\nz\r\n\" id=\"ArialMT-68\"/>\r\n       <path d=\"M 6.59375 -19.875 \r\nL 6.59375 51.859375 \r\nL 14.59375 51.859375 \r\nL 14.59375 45.125 \r\nQ 17.4375 49.078125 21 51.046875 \r\nQ 24.5625 53.03125 29.640625 53.03125 \r\nQ 36.28125 53.03125 41.359375 49.609375 \r\nQ 46.4375 46.1875 49.015625 39.953125 \r\nQ 51.609375 33.734375 51.609375 26.3125 \r\nQ 51.609375 18.359375 48.75 11.984375 \r\nQ 45.90625 5.609375 40.453125 2.21875 \r\nQ 35.015625 -1.171875 29 -1.171875 \r\nQ 24.609375 -1.171875 21.109375 0.6875 \r\nQ 17.625 2.546875 15.375 5.375 \r\nL 15.375 -19.875 \r\nz\r\nM 14.546875 25.640625 \r\nQ 14.546875 15.625 18.59375 10.84375 \r\nQ 22.65625 6.0625 28.421875 6.0625 \r\nQ 34.28125 6.0625 38.453125 11.015625 \r\nQ 42.625 15.96875 42.625 26.375 \r\nQ 42.625 36.28125 38.546875 41.203125 \r\nQ 34.46875 46.140625 28.8125 46.140625 \r\nQ 23.1875 46.140625 18.859375 40.890625 \r\nQ 14.546875 35.640625 14.546875 25.640625 \r\nz\r\n\" id=\"ArialMT-112\"/>\r\n      </defs>\r\n      <use xlink:href=\"#ArialMT-68\"/>\r\n      <use x=\"72.216797\" xlink:href=\"#ArialMT-101\"/>\r\n      <use x=\"127.832031\" xlink:href=\"#ArialMT-112\"/>\r\n      <use x=\"183.447266\" xlink:href=\"#ArialMT-97\"/>\r\n      <use x=\"239.0625\" xlink:href=\"#ArialMT-114\"/>\r\n      <use x=\"272.363281\" xlink:href=\"#ArialMT-116\"/>\r\n      <use x=\"300.146484\" xlink:href=\"#ArialMT-109\"/>\r\n      <use x=\"383.447266\" xlink:href=\"#ArialMT-101\"/>\r\n      <use x=\"439.0625\" xlink:href=\"#ArialMT-110\"/>\r\n      <use x=\"494.677734\" xlink:href=\"#ArialMT-116\"/>\r\n     </g>\r\n    </g>\r\n   </g>\r\n   <g id=\"matplotlib.axis_2\">\r\n    <g id=\"ytick_1\">\r\n     <g id=\"line2d_1\">\r\n      <path clip-path=\"url(#pe92d853d82)\" d=\"M 68.663438 261.798117 \r\nL 905.663437 261.798117 \r\n\" style=\"fill:none;stroke:#cccccc;stroke-linecap:round;\"/>\r\n     </g>\r\n     <g id=\"text_9\">\r\n      <!-- 40000 -->\r\n      <g style=\"fill:#262626;\" transform=\"translate(28.578281 265.734914)scale(0.11 -0.11)\">\r\n       <defs>\r\n        <path d=\"M 32.328125 0 \r\nL 32.328125 17.140625 \r\nL 1.265625 17.140625 \r\nL 1.265625 25.203125 \r\nL 33.9375 71.578125 \r\nL 41.109375 71.578125 \r\nL 41.109375 25.203125 \r\nL 50.78125 25.203125 \r\nL 50.78125 17.140625 \r\nL 41.109375 17.140625 \r\nL 41.109375 0 \r\nz\r\nM 32.328125 25.203125 \r\nL 32.328125 57.46875 \r\nL 9.90625 25.203125 \r\nz\r\n\" id=\"ArialMT-52\"/>\r\n        <path d=\"M 4.15625 35.296875 \r\nQ 4.15625 48 6.765625 55.734375 \r\nQ 9.375 63.484375 14.515625 67.671875 \r\nQ 19.671875 71.875 27.484375 71.875 \r\nQ 33.25 71.875 37.59375 69.546875 \r\nQ 41.9375 67.234375 44.765625 62.859375 \r\nQ 47.609375 58.5 49.21875 52.21875 \r\nQ 50.828125 45.953125 50.828125 35.296875 \r\nQ 50.828125 22.703125 48.234375 14.96875 \r\nQ 45.65625 7.234375 40.5 3 \r\nQ 35.359375 -1.21875 27.484375 -1.21875 \r\nQ 17.140625 -1.21875 11.234375 6.203125 \r\nQ 4.15625 15.140625 4.15625 35.296875 \r\nz\r\nM 13.1875 35.296875 \r\nQ 13.1875 17.671875 17.3125 11.828125 \r\nQ 21.4375 6 27.484375 6 \r\nQ 33.546875 6 37.671875 11.859375 \r\nQ 41.796875 17.71875 41.796875 35.296875 \r\nQ 41.796875 52.984375 37.671875 58.78125 \r\nQ 33.546875 64.59375 27.390625 64.59375 \r\nQ 21.34375 64.59375 17.71875 59.46875 \r\nQ 13.1875 52.9375 13.1875 35.296875 \r\nz\r\n\" id=\"ArialMT-48\"/>\r\n       </defs>\r\n       <use xlink:href=\"#ArialMT-52\"/>\r\n       <use x=\"55.615234\" xlink:href=\"#ArialMT-48\"/>\r\n       <use x=\"111.230469\" xlink:href=\"#ArialMT-48\"/>\r\n       <use x=\"166.845703\" xlink:href=\"#ArialMT-48\"/>\r\n       <use x=\"222.460938\" xlink:href=\"#ArialMT-48\"/>\r\n      </g>\r\n     </g>\r\n    </g>\r\n    <g id=\"ytick_2\">\r\n     <g id=\"line2d_2\">\r\n      <path clip-path=\"url(#pe92d853d82)\" d=\"M 68.663438 225.800024 \r\nL 905.663437 225.800024 \r\n\" style=\"fill:none;stroke:#cccccc;stroke-linecap:round;\"/>\r\n     </g>\r\n     <g id=\"text_10\">\r\n      <!-- 60000 -->\r\n      <g style=\"fill:#262626;\" transform=\"translate(28.578281 229.736821)scale(0.11 -0.11)\">\r\n       <defs>\r\n        <path d=\"M 49.75 54.046875 \r\nL 41.015625 53.375 \r\nQ 39.84375 58.546875 37.703125 60.890625 \r\nQ 34.125 64.65625 28.90625 64.65625 \r\nQ 24.703125 64.65625 21.53125 62.3125 \r\nQ 17.390625 59.28125 14.984375 53.46875 \r\nQ 12.59375 47.65625 12.5 36.921875 \r\nQ 15.671875 41.75 20.265625 44.09375 \r\nQ 24.859375 46.4375 29.890625 46.4375 \r\nQ 38.671875 46.4375 44.84375 39.96875 \r\nQ 51.03125 33.5 51.03125 23.25 \r\nQ 51.03125 16.5 48.125 10.71875 \r\nQ 45.21875 4.9375 40.140625 1.859375 \r\nQ 35.0625 -1.21875 28.609375 -1.21875 \r\nQ 17.625 -1.21875 10.6875 6.859375 \r\nQ 3.765625 14.9375 3.765625 33.5 \r\nQ 3.765625 54.25 11.421875 63.671875 \r\nQ 18.109375 71.875 29.4375 71.875 \r\nQ 37.890625 71.875 43.28125 67.140625 \r\nQ 48.6875 62.40625 49.75 54.046875 \r\nz\r\nM 13.875 23.1875 \r\nQ 13.875 18.65625 15.796875 14.5 \r\nQ 17.71875 10.359375 21.1875 8.171875 \r\nQ 24.65625 6 28.46875 6 \r\nQ 34.03125 6 38.03125 10.484375 \r\nQ 42.046875 14.984375 42.046875 22.703125 \r\nQ 42.046875 30.125 38.078125 34.390625 \r\nQ 34.125 38.671875 28.125 38.671875 \r\nQ 22.171875 38.671875 18.015625 34.390625 \r\nQ 13.875 30.125 13.875 23.1875 \r\nz\r\n\" id=\"ArialMT-54\"/>\r\n       </defs>\r\n       <use xlink:href=\"#ArialMT-54\"/>\r\n       <use x=\"55.615234\" xlink:href=\"#ArialMT-48\"/>\r\n       <use x=\"111.230469\" xlink:href=\"#ArialMT-48\"/>\r\n       <use x=\"166.845703\" xlink:href=\"#ArialMT-48\"/>\r\n       <use x=\"222.460938\" xlink:href=\"#ArialMT-48\"/>\r\n      </g>\r\n     </g>\r\n    </g>\r\n    <g id=\"ytick_3\">\r\n     <g id=\"line2d_3\">\r\n      <path clip-path=\"url(#pe92d853d82)\" d=\"M 68.663438 189.801931 \r\nL 905.663437 189.801931 \r\n\" style=\"fill:none;stroke:#cccccc;stroke-linecap:round;\"/>\r\n     </g>\r\n     <g id=\"text_11\">\r\n      <!-- 80000 -->\r\n      <g style=\"fill:#262626;\" transform=\"translate(28.578281 193.738728)scale(0.11 -0.11)\">\r\n       <defs>\r\n        <path d=\"M 17.671875 38.8125 \r\nQ 12.203125 40.828125 9.5625 44.53125 \r\nQ 6.9375 48.25 6.9375 53.421875 \r\nQ 6.9375 61.234375 12.546875 66.546875 \r\nQ 18.171875 71.875 27.484375 71.875 \r\nQ 36.859375 71.875 42.578125 66.421875 \r\nQ 48.296875 60.984375 48.296875 53.171875 \r\nQ 48.296875 48.1875 45.671875 44.5 \r\nQ 43.0625 40.828125 37.75 38.8125 \r\nQ 44.34375 36.671875 47.78125 31.875 \r\nQ 51.21875 27.09375 51.21875 20.453125 \r\nQ 51.21875 11.28125 44.71875 5.03125 \r\nQ 38.234375 -1.21875 27.640625 -1.21875 \r\nQ 17.046875 -1.21875 10.546875 5.046875 \r\nQ 4.046875 11.328125 4.046875 20.703125 \r\nQ 4.046875 27.6875 7.59375 32.390625 \r\nQ 11.140625 37.109375 17.671875 38.8125 \r\nz\r\nM 15.921875 53.71875 \r\nQ 15.921875 48.640625 19.1875 45.40625 \r\nQ 22.46875 42.1875 27.6875 42.1875 \r\nQ 32.765625 42.1875 36.015625 45.375 \r\nQ 39.265625 48.578125 39.265625 53.21875 \r\nQ 39.265625 58.0625 35.90625 61.359375 \r\nQ 32.5625 64.65625 27.59375 64.65625 \r\nQ 22.5625 64.65625 19.234375 61.421875 \r\nQ 15.921875 58.203125 15.921875 53.71875 \r\nz\r\nM 13.09375 20.65625 \r\nQ 13.09375 16.890625 14.875 13.375 \r\nQ 16.65625 9.859375 20.171875 7.921875 \r\nQ 23.6875 6 27.734375 6 \r\nQ 34.03125 6 38.125 10.046875 \r\nQ 42.234375 14.109375 42.234375 20.359375 \r\nQ 42.234375 26.703125 38.015625 30.859375 \r\nQ 33.796875 35.015625 27.4375 35.015625 \r\nQ 21.234375 35.015625 17.15625 30.90625 \r\nQ 13.09375 26.8125 13.09375 20.65625 \r\nz\r\n\" id=\"ArialMT-56\"/>\r\n       </defs>\r\n       <use xlink:href=\"#ArialMT-56\"/>\r\n       <use x=\"55.615234\" xlink:href=\"#ArialMT-48\"/>\r\n       <use x=\"111.230469\" xlink:href=\"#ArialMT-48\"/>\r\n       <use x=\"166.845703\" xlink:href=\"#ArialMT-48\"/>\r\n       <use x=\"222.460938\" xlink:href=\"#ArialMT-48\"/>\r\n      </g>\r\n     </g>\r\n    </g>\r\n    <g id=\"ytick_4\">\r\n     <g id=\"line2d_4\">\r\n      <path clip-path=\"url(#pe92d853d82)\" d=\"M 68.663438 153.803839 \r\nL 905.663437 153.803839 \r\n\" style=\"fill:none;stroke:#cccccc;stroke-linecap:round;\"/>\r\n     </g>\r\n     <g id=\"text_12\">\r\n      <!-- 100000 -->\r\n      <g style=\"fill:#262626;\" transform=\"translate(22.46125 157.740635)scale(0.11 -0.11)\">\r\n       <defs>\r\n        <path d=\"M 37.25 0 \r\nL 28.46875 0 \r\nL 28.46875 56 \r\nQ 25.296875 52.984375 20.140625 49.953125 \r\nQ 14.984375 46.921875 10.890625 45.40625 \r\nL 10.890625 53.90625 \r\nQ 18.265625 57.375 23.78125 62.296875 \r\nQ 29.296875 67.234375 31.59375 71.875 \r\nL 37.25 71.875 \r\nz\r\n\" id=\"ArialMT-49\"/>\r\n       </defs>\r\n       <use xlink:href=\"#ArialMT-49\"/>\r\n       <use x=\"55.615234\" xlink:href=\"#ArialMT-48\"/>\r\n       <use x=\"111.230469\" xlink:href=\"#ArialMT-48\"/>\r\n       <use x=\"166.845703\" xlink:href=\"#ArialMT-48\"/>\r\n       <use x=\"222.460938\" xlink:href=\"#ArialMT-48\"/>\r\n       <use x=\"278.076172\" xlink:href=\"#ArialMT-48\"/>\r\n      </g>\r\n     </g>\r\n    </g>\r\n    <g id=\"ytick_5\">\r\n     <g id=\"line2d_5\">\r\n      <path clip-path=\"url(#pe92d853d82)\" d=\"M 68.663438 117.805746 \r\nL 905.663437 117.805746 \r\n\" style=\"fill:none;stroke:#cccccc;stroke-linecap:round;\"/>\r\n     </g>\r\n     <g id=\"text_13\">\r\n      <!-- 120000 -->\r\n      <g style=\"fill:#262626;\" transform=\"translate(22.46125 121.742543)scale(0.11 -0.11)\">\r\n       <defs>\r\n        <path d=\"M 50.34375 8.453125 \r\nL 50.34375 0 \r\nL 3.03125 0 \r\nQ 2.9375 3.171875 4.046875 6.109375 \r\nQ 5.859375 10.9375 9.828125 15.625 \r\nQ 13.8125 20.3125 21.34375 26.46875 \r\nQ 33.015625 36.03125 37.109375 41.625 \r\nQ 41.21875 47.21875 41.21875 52.203125 \r\nQ 41.21875 57.421875 37.46875 61 \r\nQ 33.734375 64.59375 27.734375 64.59375 \r\nQ 21.390625 64.59375 17.578125 60.78125 \r\nQ 13.765625 56.984375 13.71875 50.25 \r\nL 4.6875 51.171875 \r\nQ 5.609375 61.28125 11.65625 66.578125 \r\nQ 17.71875 71.875 27.9375 71.875 \r\nQ 38.234375 71.875 44.234375 66.15625 \r\nQ 50.25 60.453125 50.25 52 \r\nQ 50.25 47.703125 48.484375 43.546875 \r\nQ 46.734375 39.40625 42.65625 34.8125 \r\nQ 38.578125 30.21875 29.109375 22.21875 \r\nQ 21.1875 15.578125 18.9375 13.203125 \r\nQ 16.703125 10.84375 15.234375 8.453125 \r\nz\r\n\" id=\"ArialMT-50\"/>\r\n       </defs>\r\n       <use xlink:href=\"#ArialMT-49\"/>\r\n       <use x=\"55.615234\" xlink:href=\"#ArialMT-50\"/>\r\n       <use x=\"111.230469\" xlink:href=\"#ArialMT-48\"/>\r\n       <use x=\"166.845703\" xlink:href=\"#ArialMT-48\"/>\r\n       <use x=\"222.460938\" xlink:href=\"#ArialMT-48\"/>\r\n       <use x=\"278.076172\" xlink:href=\"#ArialMT-48\"/>\r\n      </g>\r\n     </g>\r\n    </g>\r\n    <g id=\"ytick_6\">\r\n     <g id=\"line2d_6\">\r\n      <path clip-path=\"url(#pe92d853d82)\" d=\"M 68.663438 81.807653 \r\nL 905.663437 81.807653 \r\n\" style=\"fill:none;stroke:#cccccc;stroke-linecap:round;\"/>\r\n     </g>\r\n     <g id=\"text_14\">\r\n      <!-- 140000 -->\r\n      <g style=\"fill:#262626;\" transform=\"translate(22.46125 85.74445)scale(0.11 -0.11)\">\r\n       <use xlink:href=\"#ArialMT-49\"/>\r\n       <use x=\"55.615234\" xlink:href=\"#ArialMT-52\"/>\r\n       <use x=\"111.230469\" xlink:href=\"#ArialMT-48\"/>\r\n       <use x=\"166.845703\" xlink:href=\"#ArialMT-48\"/>\r\n       <use x=\"222.460938\" xlink:href=\"#ArialMT-48\"/>\r\n       <use x=\"278.076172\" xlink:href=\"#ArialMT-48\"/>\r\n      </g>\r\n     </g>\r\n    </g>\r\n    <g id=\"ytick_7\">\r\n     <g id=\"line2d_7\">\r\n      <path clip-path=\"url(#pe92d853d82)\" d=\"M 68.663438 45.80956 \r\nL 905.663437 45.80956 \r\n\" style=\"fill:none;stroke:#cccccc;stroke-linecap:round;\"/>\r\n     </g>\r\n     <g id=\"text_15\">\r\n      <!-- 160000 -->\r\n      <g style=\"fill:#262626;\" transform=\"translate(22.46125 49.746357)scale(0.11 -0.11)\">\r\n       <use xlink:href=\"#ArialMT-49\"/>\r\n       <use x=\"55.615234\" xlink:href=\"#ArialMT-54\"/>\r\n       <use x=\"111.230469\" xlink:href=\"#ArialMT-48\"/>\r\n       <use x=\"166.845703\" xlink:href=\"#ArialMT-48\"/>\r\n       <use x=\"222.460938\" xlink:href=\"#ArialMT-48\"/>\r\n       <use x=\"278.076172\" xlink:href=\"#ArialMT-48\"/>\r\n      </g>\r\n     </g>\r\n    </g>\r\n    <g id=\"text_16\">\r\n     <!-- Salary -->\r\n     <g style=\"fill:#262626;\" transform=\"translate(15.935625 174.841875)rotate(-90)scale(0.12 -0.12)\">\r\n      <defs>\r\n       <path d=\"M 6.203125 -19.96875 \r\nL 5.21875 -11.71875 \r\nQ 8.109375 -12.5 10.25 -12.5 \r\nQ 13.1875 -12.5 14.9375 -11.515625 \r\nQ 16.703125 -10.546875 17.828125 -8.796875 \r\nQ 18.65625 -7.46875 20.515625 -2.25 \r\nQ 20.75 -1.515625 21.296875 -0.09375 \r\nL 1.609375 51.859375 \r\nL 11.078125 51.859375 \r\nL 21.875 21.828125 \r\nQ 23.96875 16.109375 25.640625 9.8125 \r\nQ 27.15625 15.875 29.25 21.625 \r\nL 40.328125 51.859375 \r\nL 49.125 51.859375 \r\nL 29.390625 -0.875 \r\nQ 26.21875 -9.421875 24.46875 -12.640625 \r\nQ 22.125 -17 19.09375 -19.015625 \r\nQ 16.0625 -21.046875 11.859375 -21.046875 \r\nQ 9.328125 -21.046875 6.203125 -19.96875 \r\nz\r\n\" id=\"ArialMT-121\"/>\r\n      </defs>\r\n      <use xlink:href=\"#ArialMT-83\"/>\r\n      <use x=\"66.699219\" xlink:href=\"#ArialMT-97\"/>\r\n      <use x=\"122.314453\" xlink:href=\"#ArialMT-108\"/>\r\n      <use x=\"144.53125\" xlink:href=\"#ArialMT-97\"/>\r\n      <use x=\"200.146484\" xlink:href=\"#ArialMT-114\"/>\r\n      <use x=\"233.447266\" xlink:href=\"#ArialMT-121\"/>\r\n     </g>\r\n    </g>\r\n   </g>\r\n   <g id=\"patch_3\">\r\n    <path clip-path=\"url(#pe92d853d82)\" d=\"M 81.098866 34.29017 \r\nL 127.970866 34.29017 \r\nL 127.970866 34.29017 \r\nL 81.098866 34.29017 \r\nL 81.098866 34.29017 \r\nz\r\n\" style=\"fill:#5875a4;stroke:#4c4c4c;stroke-linejoin:miter;stroke-width:1.5;\"/>\r\n   </g>\r\n   <g id=\"patch_4\">\r\n    <path clip-path=\"url(#pe92d853d82)\" d=\"M 200.670295 216.238931 \r\nL 247.542295 216.238931 \r\nL 247.542295 173.746782 \r\nL 200.670295 173.746782 \r\nL 200.670295 216.238931 \r\nz\r\n\" style=\"fill:#5875a4;stroke:#4c4c4c;stroke-linejoin:miter;stroke-width:1.5;\"/>\r\n   </g>\r\n   <g id=\"patch_5\">\r\n    <path clip-path=\"url(#pe92d853d82)\" d=\"M 248.498866 176.554633 \r\nL 295.370866 176.554633 \r\nL 295.370866 101.6786 \r\nL 248.498866 101.6786 \r\nL 248.498866 176.554633 \r\nz\r\n\" style=\"fill:#cc8963;stroke:#4c4c4c;stroke-linejoin:miter;stroke-width:1.5;\"/>\r\n   </g>\r\n   <g id=\"patch_6\">\r\n    <path clip-path=\"url(#pe92d853d82)\" d=\"M 320.241723 127.885212 \r\nL 367.113723 127.885212 \r\nL 367.113723 127.885212 \r\nL 320.241723 127.885212 \r\nL 320.241723 127.885212 \r\nz\r\n\" style=\"fill:#5875a4;stroke:#4c4c4c;stroke-linejoin:miter;stroke-width:1.5;\"/>\r\n   </g>\r\n   <g id=\"patch_7\">\r\n    <path clip-path=\"url(#pe92d853d82)\" d=\"M 368.070295 127.885212 \r\nL 414.942295 127.885212 \r\nL 414.942295 124.14141 \r\nL 368.070295 124.14141 \r\nL 368.070295 127.885212 \r\nz\r\n\" style=\"fill:#cc8963;stroke:#4c4c4c;stroke-linejoin:miter;stroke-width:1.5;\"/>\r\n   </g>\r\n   <g id=\"patch_8\">\r\n    <path clip-path=\"url(#pe92d853d82)\" d=\"M 439.813152 270.149675 \r\nL 486.685152 270.149675 \r\nL 486.685152 243.943063 \r\nL 439.813152 243.943063 \r\nL 439.813152 270.149675 \r\nz\r\n\" style=\"fill:#5875a4;stroke:#4c4c4c;stroke-linejoin:miter;stroke-width:1.5;\"/>\r\n   </g>\r\n   <g id=\"patch_9\">\r\n    <path clip-path=\"url(#pe92d853d82)\" d=\"M 487.641723 267.341823 \r\nL 534.513723 267.341823 \r\nL 534.513723 243.709075 \r\nL 487.641723 243.709075 \r\nL 487.641723 267.341823 \r\nz\r\n\" style=\"fill:#cc8963;stroke:#4c4c4c;stroke-linejoin:miter;stroke-width:1.5;\"/>\r\n   </g>\r\n   <g id=\"patch_10\">\r\n    <path clip-path=\"url(#pe92d853d82)\" d=\"M 559.38458 149.412071 \r\nL 606.25658 149.412071 \r\nL 606.25658 124.14141 \r\nL 559.38458 124.14141 \r\nL 559.38458 149.412071 \r\nz\r\n\" style=\"fill:#5875a4;stroke:#4c4c4c;stroke-linejoin:miter;stroke-width:1.5;\"/>\r\n   </g>\r\n   <g id=\"patch_11\">\r\n    <path clip-path=\"url(#pe92d853d82)\" d=\"M 607.213152 154.091823 \r\nL 654.085152 154.091823 \r\nL 654.085152 154.091823 \r\nL 607.213152 154.091823 \r\nL 607.213152 154.091823 \r\nz\r\n\" style=\"fill:#cc8963;stroke:#4c4c4c;stroke-linejoin:miter;stroke-width:1.5;\"/>\r\n   </g>\r\n   <g id=\"patch_12\">\r\n    <path clip-path=\"url(#pe92d853d82)\" d=\"M 678.956009 253.302567 \r\nL 725.828009 253.302567 \r\nL 725.828009 202.948435 \r\nL 678.956009 202.948435 \r\nL 678.956009 253.302567 \r\nz\r\n\" style=\"fill:#5875a4;stroke:#4c4c4c;stroke-linejoin:miter;stroke-width:1.5;\"/>\r\n   </g>\r\n   <g id=\"patch_13\">\r\n    <path clip-path=\"url(#pe92d853d82)\" d=\"M 726.78458 236.45546 \r\nL 773.65658 236.45546 \r\nL 773.65658 176.554633 \r\nL 726.78458 176.554633 \r\nL 726.78458 236.45546 \r\nz\r\n\" style=\"fill:#cc8963;stroke:#4c4c4c;stroke-linejoin:miter;stroke-width:1.5;\"/>\r\n   </g>\r\n   <g id=\"patch_14\">\r\n    <path clip-path=\"url(#pe92d853d82)\" d=\"M 846.356009 232.711658 \r\nL 893.228009 232.711658 \r\nL 893.228009 232.711658 \r\nL 846.356009 232.711658 \r\nL 846.356009 232.711658 \r\nz\r\n\" style=\"fill:#cc8963;stroke:#4c4c4c;stroke-linejoin:miter;stroke-width:1.5;\"/>\r\n   </g>\r\n   <g id=\"patch_15\">\r\n    <path clip-path=\"url(#pe92d853d82)\" d=\"M 128.449152 333.794303 \r\nL 128.449152 333.794303 \r\nL 128.449152 333.794303 \r\nL 128.449152 333.794303 \r\nz\r\n\" style=\"fill:#5875a4;stroke:#4c4c4c;stroke-linejoin:miter;stroke-width:0.75;\"/>\r\n   </g>\r\n   <g id=\"patch_16\">\r\n    <path clip-path=\"url(#pe92d853d82)\" d=\"M 128.449152 333.794303 \r\nL 128.449152 333.794303 \r\nL 128.449152 333.794303 \r\nL 128.449152 333.794303 \r\nz\r\n\" style=\"fill:#cc8963;stroke:#4c4c4c;stroke-linejoin:miter;stroke-width:0.75;\"/>\r\n   </g>\r\n   <g id=\"line2d_8\">\r\n    <path clip-path=\"url(#pe92d853d82)\" d=\"M 104.534866 34.29017 \r\nL 104.534866 34.29017 \r\n\" style=\"fill:none;stroke:#4c4c4c;stroke-linecap:round;stroke-width:1.5;\"/>\r\n   </g>\r\n   <g id=\"line2d_9\">\r\n    <path clip-path=\"url(#pe92d853d82)\" d=\"M 104.534866 34.29017 \r\nL 104.534866 34.29017 \r\n\" style=\"fill:none;stroke:#4c4c4c;stroke-linecap:round;stroke-width:1.5;\"/>\r\n   </g>\r\n   <g id=\"line2d_10\">\r\n    <path clip-path=\"url(#pe92d853d82)\" d=\"M 92.816866 34.29017 \r\nL 116.252866 34.29017 \r\n\" style=\"fill:none;stroke:#4c4c4c;stroke-linecap:round;stroke-width:1.5;\"/>\r\n   </g>\r\n   <g id=\"line2d_11\">\r\n    <path clip-path=\"url(#pe92d853d82)\" d=\"M 92.816866 34.29017 \r\nL 116.252866 34.29017 \r\n\" style=\"fill:none;stroke:#4c4c4c;stroke-linecap:round;stroke-width:1.5;\"/>\r\n   </g>\r\n   <g id=\"line2d_12\"/>\r\n   <g id=\"line2d_13\">\r\n    <path clip-path=\"url(#pe92d853d82)\" d=\"M 224.106295 216.238931 \r\nL 224.106295 236.45546 \r\n\" style=\"fill:none;stroke:#4c4c4c;stroke-linecap:round;stroke-width:1.5;\"/>\r\n   </g>\r\n   <g id=\"line2d_14\">\r\n    <path clip-path=\"url(#pe92d853d82)\" d=\"M 224.106295 173.746782 \r\nL 224.106295 127.136451 \r\n\" style=\"fill:none;stroke:#4c4c4c;stroke-linecap:round;stroke-width:1.5;\"/>\r\n   </g>\r\n   <g id=\"line2d_15\">\r\n    <path clip-path=\"url(#pe92d853d82)\" d=\"M 212.388295 236.45546 \r\nL 235.824295 236.45546 \r\n\" style=\"fill:none;stroke:#4c4c4c;stroke-linecap:round;stroke-width:1.5;\"/>\r\n   </g>\r\n   <g id=\"line2d_16\">\r\n    <path clip-path=\"url(#pe92d853d82)\" d=\"M 212.388295 127.136451 \r\nL 235.824295 127.136451 \r\n\" style=\"fill:none;stroke:#4c4c4c;stroke-linecap:round;stroke-width:1.5;\"/>\r\n   </g>\r\n   <g id=\"line2d_17\">\r\n    <defs>\r\n     <path d=\"M 0 3.535534 \r\nL 2.12132 0 \r\nL 0 -3.535534 \r\nL -2.12132 0 \r\nz\r\n\" id=\"me56cd6ed0f\" style=\"stroke:#4c4c4c;stroke-linejoin:miter;\"/>\r\n    </defs>\r\n    <g clip-path=\"url(#pe92d853d82)\">\r\n     <use style=\"fill:#4c4c4c;stroke:#4c4c4c;stroke-linejoin:miter;\" x=\"224.106295\" xlink:href=\"#me56cd6ed0f\" y=\"90.447195\"/>\r\n    </g>\r\n   </g>\r\n   <g id=\"line2d_18\">\r\n    <path clip-path=\"url(#pe92d853d82)\" d=\"M 271.934866 176.554633 \r\nL 271.934866 225.261493 \r\n\" style=\"fill:none;stroke:#4c4c4c;stroke-linecap:round;stroke-width:1.5;\"/>\r\n   </g>\r\n   <g id=\"line2d_19\">\r\n    <path clip-path=\"url(#pe92d853d82)\" d=\"M 271.934866 101.6786 \r\nL 271.934866 90.447195 \r\n\" style=\"fill:none;stroke:#4c4c4c;stroke-linecap:round;stroke-width:1.5;\"/>\r\n   </g>\r\n   <g id=\"line2d_20\">\r\n    <path clip-path=\"url(#pe92d853d82)\" d=\"M 260.216866 225.261493 \r\nL 283.652866 225.261493 \r\n\" style=\"fill:none;stroke:#4c4c4c;stroke-linecap:round;stroke-width:1.5;\"/>\r\n   </g>\r\n   <g id=\"line2d_21\">\r\n    <path clip-path=\"url(#pe92d853d82)\" d=\"M 260.216866 90.447195 \r\nL 283.652866 90.447195 \r\n\" style=\"fill:none;stroke:#4c4c4c;stroke-linecap:round;stroke-width:1.5;\"/>\r\n   </g>\r\n   <g id=\"line2d_22\"/>\r\n   <g id=\"line2d_23\">\r\n    <path clip-path=\"url(#pe92d853d82)\" d=\"M 343.677723 127.885212 \r\nL 343.677723 127.885212 \r\n\" style=\"fill:none;stroke:#4c4c4c;stroke-linecap:round;stroke-width:1.5;\"/>\r\n   </g>\r\n   <g id=\"line2d_24\">\r\n    <path clip-path=\"url(#pe92d853d82)\" d=\"M 343.677723 127.885212 \r\nL 343.677723 127.885212 \r\n\" style=\"fill:none;stroke:#4c4c4c;stroke-linecap:round;stroke-width:1.5;\"/>\r\n   </g>\r\n   <g id=\"line2d_25\">\r\n    <path clip-path=\"url(#pe92d853d82)\" d=\"M 331.959723 127.885212 \r\nL 355.395723 127.885212 \r\n\" style=\"fill:none;stroke:#4c4c4c;stroke-linecap:round;stroke-width:1.5;\"/>\r\n   </g>\r\n   <g id=\"line2d_26\">\r\n    <path clip-path=\"url(#pe92d853d82)\" d=\"M 331.959723 127.885212 \r\nL 355.395723 127.885212 \r\n\" style=\"fill:none;stroke:#4c4c4c;stroke-linecap:round;stroke-width:1.5;\"/>\r\n   </g>\r\n   <g id=\"line2d_27\">\r\n    <g clip-path=\"url(#pe92d853d82)\">\r\n     <use style=\"fill:#4c4c4c;stroke:#4c4c4c;stroke-linejoin:miter;\" x=\"343.677723\" xlink:href=\"#me56cd6ed0f\" y=\"131.629013\"/>\r\n     <use style=\"fill:#4c4c4c;stroke:#4c4c4c;stroke-linejoin:miter;\" x=\"343.677723\" xlink:href=\"#me56cd6ed0f\" y=\"131.629013\"/>\r\n     <use style=\"fill:#4c4c4c;stroke:#4c4c4c;stroke-linejoin:miter;\" x=\"343.677723\" xlink:href=\"#me56cd6ed0f\" y=\"109.166204\"/>\r\n     <use style=\"fill:#4c4c4c;stroke:#4c4c4c;stroke-linejoin:miter;\" x=\"343.677723\" xlink:href=\"#me56cd6ed0f\" y=\"120.397608\"/>\r\n    </g>\r\n   </g>\r\n   <g id=\"line2d_28\">\r\n    <path clip-path=\"url(#pe92d853d82)\" d=\"M 391.506295 127.885212 \r\nL 391.506295 127.885212 \r\n\" style=\"fill:none;stroke:#4c4c4c;stroke-linecap:round;stroke-width:1.5;\"/>\r\n   </g>\r\n   <g id=\"line2d_29\">\r\n    <path clip-path=\"url(#pe92d853d82)\" d=\"M 391.506295 124.14141 \r\nL 391.506295 124.14141 \r\n\" style=\"fill:none;stroke:#4c4c4c;stroke-linecap:round;stroke-width:1.5;\"/>\r\n   </g>\r\n   <g id=\"line2d_30\">\r\n    <path clip-path=\"url(#pe92d853d82)\" d=\"M 379.788295 127.885212 \r\nL 403.224295 127.885212 \r\n\" style=\"fill:none;stroke:#4c4c4c;stroke-linecap:round;stroke-width:1.5;\"/>\r\n   </g>\r\n   <g id=\"line2d_31\">\r\n    <path clip-path=\"url(#pe92d853d82)\" d=\"M 379.788295 124.14141 \r\nL 403.224295 124.14141 \r\n\" style=\"fill:none;stroke:#4c4c4c;stroke-linecap:round;stroke-width:1.5;\"/>\r\n   </g>\r\n   <g id=\"line2d_32\"/>\r\n   <g id=\"line2d_33\">\r\n    <path clip-path=\"url(#pe92d853d82)\" d=\"M 463.249152 270.149675 \r\nL 463.249152 281.38108 \r\n\" style=\"fill:none;stroke:#4c4c4c;stroke-linecap:round;stroke-width:1.5;\"/>\r\n   </g>\r\n   <g id=\"line2d_34\">\r\n    <path clip-path=\"url(#pe92d853d82)\" d=\"M 463.249152 243.943063 \r\nL 463.249152 232.711658 \r\n\" style=\"fill:none;stroke:#4c4c4c;stroke-linecap:round;stroke-width:1.5;\"/>\r\n   </g>\r\n   <g id=\"line2d_35\">\r\n    <path clip-path=\"url(#pe92d853d82)\" d=\"M 451.531152 281.38108 \r\nL 474.967152 281.38108 \r\n\" style=\"fill:none;stroke:#4c4c4c;stroke-linecap:round;stroke-width:1.5;\"/>\r\n   </g>\r\n   <g id=\"line2d_36\">\r\n    <path clip-path=\"url(#pe92d853d82)\" d=\"M 451.531152 232.711658 \r\nL 474.967152 232.711658 \r\n\" style=\"fill:none;stroke:#4c4c4c;stroke-linecap:round;stroke-width:1.5;\"/>\r\n   </g>\r\n   <g id=\"line2d_37\">\r\n    <g clip-path=\"url(#pe92d853d82)\">\r\n     <use style=\"fill:#4c4c4c;stroke:#4c4c4c;stroke-linejoin:miter;\" x=\"463.249152\" xlink:href=\"#me56cd6ed0f\" y=\"109.166204\"/>\r\n     <use style=\"fill:#4c4c4c;stroke:#4c4c4c;stroke-linejoin:miter;\" x=\"463.249152\" xlink:href=\"#me56cd6ed0f\" y=\"127.885212\"/>\r\n     <use style=\"fill:#4c4c4c;stroke:#4c4c4c;stroke-linejoin:miter;\" x=\"463.249152\" xlink:href=\"#me56cd6ed0f\" y=\"127.885212\"/>\r\n     <use style=\"fill:#4c4c4c;stroke:#4c4c4c;stroke-linejoin:miter;\" x=\"463.249152\" xlink:href=\"#me56cd6ed0f\" y=\"139.116617\"/>\r\n     <use style=\"fill:#4c4c4c;stroke:#4c4c4c;stroke-linejoin:miter;\" x=\"463.249152\" xlink:href=\"#me56cd6ed0f\" y=\"142.860418\"/>\r\n    </g>\r\n   </g>\r\n   <g id=\"line2d_38\">\r\n    <path clip-path=\"url(#pe92d853d82)\" d=\"M 511.077723 267.341823 \r\nL 511.077723 281.38108 \r\n\" style=\"fill:none;stroke:#4c4c4c;stroke-linecap:round;stroke-width:1.5;\"/>\r\n   </g>\r\n   <g id=\"line2d_39\">\r\n    <path clip-path=\"url(#pe92d853d82)\" d=\"M 511.077723 243.709075 \r\nL 511.077723 225.224055 \r\n\" style=\"fill:none;stroke:#4c4c4c;stroke-linecap:round;stroke-width:1.5;\"/>\r\n   </g>\r\n   <g id=\"line2d_40\">\r\n    <path clip-path=\"url(#pe92d853d82)\" d=\"M 499.359723 281.38108 \r\nL 522.795723 281.38108 \r\n\" style=\"fill:none;stroke:#4c4c4c;stroke-linecap:round;stroke-width:1.5;\"/>\r\n   </g>\r\n   <g id=\"line2d_41\">\r\n    <path clip-path=\"url(#pe92d853d82)\" d=\"M 499.359723 225.224055 \r\nL 522.795723 225.224055 \r\n\" style=\"fill:none;stroke:#4c4c4c;stroke-linecap:round;stroke-width:1.5;\"/>\r\n   </g>\r\n   <g id=\"line2d_42\">\r\n    <g clip-path=\"url(#pe92d853d82)\">\r\n     <use style=\"fill:#4c4c4c;stroke:#4c4c4c;stroke-linejoin:miter;\" x=\"511.077723\" xlink:href=\"#me56cd6ed0f\" y=\"127.885212\"/>\r\n     <use style=\"fill:#4c4c4c;stroke:#4c4c4c;stroke-linejoin:miter;\" x=\"511.077723\" xlink:href=\"#me56cd6ed0f\" y=\"129.757113\"/>\r\n     <use style=\"fill:#4c4c4c;stroke:#4c4c4c;stroke-linejoin:miter;\" x=\"511.077723\" xlink:href=\"#me56cd6ed0f\" y=\"131.629013\"/>\r\n     <use style=\"fill:#4c4c4c;stroke:#4c4c4c;stroke-linejoin:miter;\" x=\"511.077723\" xlink:href=\"#me56cd6ed0f\" y=\"135.372815\"/>\r\n     <use style=\"fill:#4c4c4c;stroke:#4c4c4c;stroke-linejoin:miter;\" x=\"511.077723\" xlink:href=\"#me56cd6ed0f\" y=\"135.372815\"/>\r\n    </g>\r\n   </g>\r\n   <g id=\"line2d_43\">\r\n    <path clip-path=\"url(#pe92d853d82)\" d=\"M 582.82058 149.412071 \r\nL 582.82058 155.589344 \r\n\" style=\"fill:none;stroke:#4c4c4c;stroke-linecap:round;stroke-width:1.5;\"/>\r\n   </g>\r\n   <g id=\"line2d_44\">\r\n    <path clip-path=\"url(#pe92d853d82)\" d=\"M 582.82058 124.14141 \r\nL 582.82058 119.948352 \r\n\" style=\"fill:none;stroke:#4c4c4c;stroke-linecap:round;stroke-width:1.5;\"/>\r\n   </g>\r\n   <g id=\"line2d_45\">\r\n    <path clip-path=\"url(#pe92d853d82)\" d=\"M 571.10258 155.589344 \r\nL 594.53858 155.589344 \r\n\" style=\"fill:none;stroke:#4c4c4c;stroke-linecap:round;stroke-width:1.5;\"/>\r\n   </g>\r\n   <g id=\"line2d_46\">\r\n    <path clip-path=\"url(#pe92d853d82)\" d=\"M 571.10258 119.948352 \r\nL 594.53858 119.948352 \r\n\" style=\"fill:none;stroke:#4c4c4c;stroke-linecap:round;stroke-width:1.5;\"/>\r\n   </g>\r\n   <g id=\"line2d_47\"/>\r\n   <g id=\"line2d_48\">\r\n    <path clip-path=\"url(#pe92d853d82)\" d=\"M 630.649152 154.091823 \r\nL 630.649152 154.091823 \r\n\" style=\"fill:none;stroke:#4c4c4c;stroke-linecap:round;stroke-width:1.5;\"/>\r\n   </g>\r\n   <g id=\"line2d_49\">\r\n    <path clip-path=\"url(#pe92d853d82)\" d=\"M 630.649152 154.091823 \r\nL 630.649152 154.091823 \r\n\" style=\"fill:none;stroke:#4c4c4c;stroke-linecap:round;stroke-width:1.5;\"/>\r\n   </g>\r\n   <g id=\"line2d_50\">\r\n    <path clip-path=\"url(#pe92d853d82)\" d=\"M 618.931152 154.091823 \r\nL 642.367152 154.091823 \r\n\" style=\"fill:none;stroke:#4c4c4c;stroke-linecap:round;stroke-width:1.5;\"/>\r\n   </g>\r\n   <g id=\"line2d_51\">\r\n    <path clip-path=\"url(#pe92d853d82)\" d=\"M 618.931152 154.091823 \r\nL 642.367152 154.091823 \r\n\" style=\"fill:none;stroke:#4c4c4c;stroke-linecap:round;stroke-width:1.5;\"/>\r\n   </g>\r\n   <g id=\"line2d_52\"/>\r\n   <g id=\"line2d_53\">\r\n    <path clip-path=\"url(#pe92d853d82)\" d=\"M 702.392009 253.302567 \r\nL 702.392009 271.796947 \r\n\" style=\"fill:none;stroke:#4c4c4c;stroke-linecap:round;stroke-width:1.5;\"/>\r\n   </g>\r\n   <g id=\"line2d_54\">\r\n    <path clip-path=\"url(#pe92d853d82)\" d=\"M 702.392009 202.948435 \r\nL 702.392009 202.948435 \r\n\" style=\"fill:none;stroke:#4c4c4c;stroke-linecap:round;stroke-width:1.5;\"/>\r\n   </g>\r\n   <g id=\"line2d_55\">\r\n    <path clip-path=\"url(#pe92d853d82)\" d=\"M 690.674009 271.796947 \r\nL 714.110009 271.796947 \r\n\" style=\"fill:none;stroke:#4c4c4c;stroke-linecap:round;stroke-width:1.5;\"/>\r\n   </g>\r\n   <g id=\"line2d_56\">\r\n    <path clip-path=\"url(#pe92d853d82)\" d=\"M 690.674009 202.948435 \r\nL 714.110009 202.948435 \r\n\" style=\"fill:none;stroke:#4c4c4c;stroke-linecap:round;stroke-width:1.5;\"/>\r\n   </g>\r\n   <g id=\"line2d_57\"/>\r\n   <g id=\"line2d_58\">\r\n    <path clip-path=\"url(#pe92d853d82)\" d=\"M 750.22058 236.45546 \r\nL 750.22058 247.686865 \r\n\" style=\"fill:none;stroke:#4c4c4c;stroke-linecap:round;stroke-width:1.5;\"/>\r\n   </g>\r\n   <g id=\"line2d_59\">\r\n    <path clip-path=\"url(#pe92d853d82)\" d=\"M 750.22058 176.554633 \r\nL 750.22058 127.885212 \r\n\" style=\"fill:none;stroke:#4c4c4c;stroke-linecap:round;stroke-width:1.5;\"/>\r\n   </g>\r\n   <g id=\"line2d_60\">\r\n    <path clip-path=\"url(#pe92d853d82)\" d=\"M 738.50258 247.686865 \r\nL 761.93858 247.686865 \r\n\" style=\"fill:none;stroke:#4c4c4c;stroke-linecap:round;stroke-width:1.5;\"/>\r\n   </g>\r\n   <g id=\"line2d_61\">\r\n    <path clip-path=\"url(#pe92d853d82)\" d=\"M 738.50258 127.885212 \r\nL 761.93858 127.885212 \r\n\" style=\"fill:none;stroke:#4c4c4c;stroke-linecap:round;stroke-width:1.5;\"/>\r\n   </g>\r\n   <g id=\"line2d_62\"/>\r\n   <g id=\"line2d_63\">\r\n    <path clip-path=\"url(#pe92d853d82)\" d=\"M 869.792009 232.711658 \r\nL 869.792009 232.711658 \r\n\" style=\"fill:none;stroke:#4c4c4c;stroke-linecap:round;stroke-width:1.5;\"/>\r\n   </g>\r\n   <g id=\"line2d_64\">\r\n    <path clip-path=\"url(#pe92d853d82)\" d=\"M 869.792009 232.711658 \r\nL 869.792009 232.711658 \r\n\" style=\"fill:none;stroke:#4c4c4c;stroke-linecap:round;stroke-width:1.5;\"/>\r\n   </g>\r\n   <g id=\"line2d_65\">\r\n    <path clip-path=\"url(#pe92d853d82)\" d=\"M 858.074009 232.711658 \r\nL 881.510009 232.711658 \r\n\" style=\"fill:none;stroke:#4c4c4c;stroke-linecap:round;stroke-width:1.5;\"/>\r\n   </g>\r\n   <g id=\"line2d_66\">\r\n    <path clip-path=\"url(#pe92d853d82)\" d=\"M 858.074009 232.711658 \r\nL 881.510009 232.711658 \r\n\" style=\"fill:none;stroke:#4c4c4c;stroke-linecap:round;stroke-width:1.5;\"/>\r\n   </g>\r\n   <g id=\"line2d_67\"/>\r\n   <g id=\"line2d_68\">\r\n    <path clip-path=\"url(#pe92d853d82)\" d=\"M 81.098866 34.29017 \r\nL 127.970866 34.29017 \r\n\" style=\"fill:none;stroke:#4c4c4c;stroke-linecap:round;stroke-width:1.5;\"/>\r\n   </g>\r\n   <g id=\"line2d_69\">\r\n    <path clip-path=\"url(#pe92d853d82)\" d=\"M 200.670295 195.273642 \r\nL 247.542295 195.273642 \r\n\" style=\"fill:none;stroke:#4c4c4c;stroke-linecap:round;stroke-width:1.5;\"/>\r\n   </g>\r\n   <g id=\"line2d_70\">\r\n    <path clip-path=\"url(#pe92d853d82)\" d=\"M 248.498866 165.323228 \r\nL 295.370866 165.323228 \r\n\" style=\"fill:none;stroke:#4c4c4c;stroke-linecap:round;stroke-width:1.5;\"/>\r\n   </g>\r\n   <g id=\"line2d_71\">\r\n    <path clip-path=\"url(#pe92d853d82)\" d=\"M 320.241723 127.885212 \r\nL 367.113723 127.885212 \r\n\" style=\"fill:none;stroke:#4c4c4c;stroke-linecap:round;stroke-width:1.5;\"/>\r\n   </g>\r\n   <g id=\"line2d_72\">\r\n    <path clip-path=\"url(#pe92d853d82)\" d=\"M 368.070295 126.949261 \r\nL 414.942295 126.949261 \r\n\" style=\"fill:none;stroke:#4c4c4c;stroke-linecap:round;stroke-width:1.5;\"/>\r\n   </g>\r\n   <g id=\"line2d_73\">\r\n    <path clip-path=\"url(#pe92d853d82)\" d=\"M 439.813152 251.430666 \r\nL 486.685152 251.430666 \r\n\" style=\"fill:none;stroke:#4c4c4c;stroke-linecap:round;stroke-width:1.5;\"/>\r\n   </g>\r\n   <g id=\"line2d_74\">\r\n    <path clip-path=\"url(#pe92d853d82)\" d=\"M 487.641723 255.174468 \r\nL 534.513723 255.174468 \r\n\" style=\"fill:none;stroke:#4c4c4c;stroke-linecap:round;stroke-width:1.5;\"/>\r\n   </g>\r\n   <g id=\"line2d_75\">\r\n    <path clip-path=\"url(#pe92d853d82)\" d=\"M 559.38458 125.975873 \r\nL 606.25658 125.975873 \r\n\" style=\"fill:none;stroke:#4c4c4c;stroke-linecap:round;stroke-width:1.5;\"/>\r\n   </g>\r\n   <g id=\"line2d_76\">\r\n    <path clip-path=\"url(#pe92d853d82)\" d=\"M 607.213152 154.091823 \r\nL 654.085152 154.091823 \r\n\" style=\"fill:none;stroke:#4c4c4c;stroke-linecap:round;stroke-width:1.5;\"/>\r\n   </g>\r\n   <g id=\"line2d_77\">\r\n    <path clip-path=\"url(#pe92d853d82)\" d=\"M 678.956009 227.095956 \r\nL 725.828009 227.095956 \r\n\" style=\"fill:none;stroke:#4c4c4c;stroke-linecap:round;stroke-width:1.5;\"/>\r\n   </g>\r\n   <g id=\"line2d_78\">\r\n    <path clip-path=\"url(#pe92d853d82)\" d=\"M 726.78458 225.224055 \r\nL 773.65658 225.224055 \r\n\" style=\"fill:none;stroke:#4c4c4c;stroke-linecap:round;stroke-width:1.5;\"/>\r\n   </g>\r\n   <g id=\"line2d_79\">\r\n    <path clip-path=\"url(#pe92d853d82)\" d=\"M 846.356009 232.711658 \r\nL 893.228009 232.711658 \r\n\" style=\"fill:none;stroke:#4c4c4c;stroke-linecap:round;stroke-width:1.5;\"/>\r\n   </g>\r\n   <g id=\"patch_17\">\r\n    <path d=\"M 68.663438 293.735625 \r\nL 68.663438 21.935625 \r\n\" style=\"fill:none;stroke:#cccccc;stroke-linecap:square;stroke-linejoin:miter;stroke-width:1.25;\"/>\r\n   </g>\r\n   <g id=\"patch_18\">\r\n    <path d=\"M 905.663437 293.735625 \r\nL 905.663437 21.935625 \r\n\" style=\"fill:none;stroke:#cccccc;stroke-linecap:square;stroke-linejoin:miter;stroke-width:1.25;\"/>\r\n   </g>\r\n   <g id=\"patch_19\">\r\n    <path d=\"M 68.663438 293.735625 \r\nL 905.663437 293.735625 \r\n\" style=\"fill:none;stroke:#cccccc;stroke-linecap:square;stroke-linejoin:miter;stroke-width:1.25;\"/>\r\n   </g>\r\n   <g id=\"patch_20\">\r\n    <path d=\"M 68.663438 21.935625 \r\nL 905.663437 21.935625 \r\n\" style=\"fill:none;stroke:#cccccc;stroke-linecap:square;stroke-linejoin:miter;stroke-width:1.25;\"/>\r\n   </g>\r\n   <g id=\"text_17\">\r\n    <!-- Salaries by gender and department -->\r\n    <g style=\"fill:#262626;\" transform=\"translate(393.444375 15.935625)scale(0.12 -0.12)\">\r\n     <defs>\r\n      <path d=\"M 14.703125 0 \r\nL 6.546875 0 \r\nL 6.546875 71.578125 \r\nL 15.328125 71.578125 \r\nL 15.328125 46.046875 \r\nQ 20.90625 53.03125 29.546875 53.03125 \r\nQ 34.328125 53.03125 38.59375 51.09375 \r\nQ 42.875 49.171875 45.625 45.671875 \r\nQ 48.390625 42.1875 49.953125 37.25 \r\nQ 51.515625 32.328125 51.515625 26.703125 \r\nQ 51.515625 13.375 44.921875 6.09375 \r\nQ 38.328125 -1.171875 29.109375 -1.171875 \r\nQ 19.921875 -1.171875 14.703125 6.5 \r\nz\r\nM 14.59375 26.3125 \r\nQ 14.59375 17 17.140625 12.84375 \r\nQ 21.296875 6.0625 28.375 6.0625 \r\nQ 34.125 6.0625 38.328125 11.0625 \r\nQ 42.53125 16.0625 42.53125 25.984375 \r\nQ 42.53125 36.140625 38.5 40.96875 \r\nQ 34.46875 45.796875 28.765625 45.796875 \r\nQ 23 45.796875 18.796875 40.796875 \r\nQ 14.59375 35.796875 14.59375 26.3125 \r\nz\r\n\" id=\"ArialMT-98\"/>\r\n     </defs>\r\n     <use xlink:href=\"#ArialMT-83\"/>\r\n     <use x=\"66.699219\" xlink:href=\"#ArialMT-97\"/>\r\n     <use x=\"122.314453\" xlink:href=\"#ArialMT-108\"/>\r\n     <use x=\"144.53125\" xlink:href=\"#ArialMT-97\"/>\r\n     <use x=\"200.146484\" xlink:href=\"#ArialMT-114\"/>\r\n     <use x=\"233.447266\" xlink:href=\"#ArialMT-105\"/>\r\n     <use x=\"255.664062\" xlink:href=\"#ArialMT-101\"/>\r\n     <use x=\"311.279297\" xlink:href=\"#ArialMT-115\"/>\r\n     <use x=\"361.279297\" xlink:href=\"#ArialMT-32\"/>\r\n     <use x=\"389.0625\" xlink:href=\"#ArialMT-98\"/>\r\n     <use x=\"444.677734\" xlink:href=\"#ArialMT-121\"/>\r\n     <use x=\"494.677734\" xlink:href=\"#ArialMT-32\"/>\r\n     <use x=\"522.460938\" xlink:href=\"#ArialMT-103\"/>\r\n     <use x=\"578.076172\" xlink:href=\"#ArialMT-101\"/>\r\n     <use x=\"633.691406\" xlink:href=\"#ArialMT-110\"/>\r\n     <use x=\"689.306641\" xlink:href=\"#ArialMT-100\"/>\r\n     <use x=\"744.921875\" xlink:href=\"#ArialMT-101\"/>\r\n     <use x=\"800.537109\" xlink:href=\"#ArialMT-114\"/>\r\n     <use x=\"833.837891\" xlink:href=\"#ArialMT-32\"/>\r\n     <use x=\"861.621094\" xlink:href=\"#ArialMT-97\"/>\r\n     <use x=\"917.236328\" xlink:href=\"#ArialMT-110\"/>\r\n     <use x=\"972.851562\" xlink:href=\"#ArialMT-100\"/>\r\n     <use x=\"1028.466797\" xlink:href=\"#ArialMT-32\"/>\r\n     <use x=\"1056.25\" xlink:href=\"#ArialMT-100\"/>\r\n     <use x=\"1111.865234\" xlink:href=\"#ArialMT-101\"/>\r\n     <use x=\"1167.480469\" xlink:href=\"#ArialMT-112\"/>\r\n     <use x=\"1223.095703\" xlink:href=\"#ArialMT-97\"/>\r\n     <use x=\"1278.710938\" xlink:href=\"#ArialMT-114\"/>\r\n     <use x=\"1312.011719\" xlink:href=\"#ArialMT-116\"/>\r\n     <use x=\"1339.794922\" xlink:href=\"#ArialMT-109\"/>\r\n     <use x=\"1423.095703\" xlink:href=\"#ArialMT-101\"/>\r\n     <use x=\"1478.710938\" xlink:href=\"#ArialMT-110\"/>\r\n     <use x=\"1534.326172\" xlink:href=\"#ArialMT-116\"/>\r\n    </g>\r\n   </g>\r\n   <g id=\"legend_1\">\r\n    <g id=\"patch_21\">\r\n     <path d=\"M 826.087031 78.329687 \r\nL 897.963437 78.329687 \r\nQ 900.163437 78.329687 900.163437 76.129687 \r\nL 900.163437 29.635625 \r\nQ 900.163437 27.435625 897.963437 27.435625 \r\nL 826.087031 27.435625 \r\nQ 823.887031 27.435625 823.887031 29.635625 \r\nL 823.887031 76.129687 \r\nQ 823.887031 78.329687 826.087031 78.329687 \r\nz\r\n\" style=\"fill:#ffffff;opacity:0.8;stroke:#cccccc;stroke-linejoin:miter;\"/>\r\n    </g>\r\n    <g id=\"text_18\">\r\n     <!-- Gender -->\r\n     <g style=\"fill:#262626;\" transform=\"translate(842.014297 40.425)scale(0.12 -0.12)\">\r\n      <defs>\r\n       <path d=\"M 41.21875 28.078125 \r\nL 41.21875 36.46875 \r\nL 71.53125 36.53125 \r\nL 71.53125 9.96875 \r\nQ 64.546875 4.390625 57.125 1.578125 \r\nQ 49.703125 -1.21875 41.890625 -1.21875 \r\nQ 31.34375 -1.21875 22.71875 3.296875 \r\nQ 14.109375 7.8125 9.71875 16.359375 \r\nQ 5.328125 24.90625 5.328125 35.453125 \r\nQ 5.328125 45.90625 9.6875 54.953125 \r\nQ 14.0625 64.015625 22.265625 68.40625 \r\nQ 30.46875 72.796875 41.15625 72.796875 \r\nQ 48.921875 72.796875 55.1875 70.28125 \r\nQ 61.46875 67.78125 65.03125 63.28125 \r\nQ 68.609375 58.796875 70.453125 51.5625 \r\nL 61.921875 49.21875 \r\nQ 60.296875 54.6875 57.90625 57.8125 \r\nQ 55.515625 60.9375 51.0625 62.8125 \r\nQ 46.625 64.703125 41.21875 64.703125 \r\nQ 34.71875 64.703125 29.984375 62.71875 \r\nQ 25.25 60.75 22.34375 57.515625 \r\nQ 19.4375 54.296875 17.828125 50.4375 \r\nQ 15.09375 43.796875 15.09375 36.03125 \r\nQ 15.09375 26.46875 18.390625 20.015625 \r\nQ 21.6875 13.578125 27.984375 10.453125 \r\nQ 34.28125 7.328125 41.359375 7.328125 \r\nQ 47.515625 7.328125 53.375 9.6875 \r\nQ 59.234375 12.0625 62.25 14.75 \r\nL 62.25 28.078125 \r\nz\r\n\" id=\"ArialMT-71\"/>\r\n      </defs>\r\n      <use xlink:href=\"#ArialMT-71\"/>\r\n      <use x=\"77.783203\" xlink:href=\"#ArialMT-101\"/>\r\n      <use x=\"133.398438\" xlink:href=\"#ArialMT-110\"/>\r\n      <use x=\"189.013672\" xlink:href=\"#ArialMT-100\"/>\r\n      <use x=\"244.628906\" xlink:href=\"#ArialMT-101\"/>\r\n      <use x=\"300.244141\" xlink:href=\"#ArialMT-114\"/>\r\n     </g>\r\n    </g>\r\n    <g id=\"patch_22\">\r\n     <path d=\"M 828.287031 56.183594 \r\nL 850.287031 56.183594 \r\nL 850.287031 48.483594 \r\nL 828.287031 48.483594 \r\nz\r\n\" style=\"fill:#5875a4;stroke:#4c4c4c;stroke-linejoin:miter;stroke-width:0.75;\"/>\r\n    </g>\r\n    <g id=\"text_19\">\r\n     <!-- Female -->\r\n     <g style=\"fill:#262626;\" transform=\"translate(859.087031 56.183594)scale(0.11 -0.11)\">\r\n      <defs>\r\n       <path d=\"M 8.203125 0 \r\nL 8.203125 71.578125 \r\nL 56.5 71.578125 \r\nL 56.5 63.140625 \r\nL 17.671875 63.140625 \r\nL 17.671875 40.96875 \r\nL 51.265625 40.96875 \r\nL 51.265625 32.515625 \r\nL 17.671875 32.515625 \r\nL 17.671875 0 \r\nz\r\n\" id=\"ArialMT-70\"/>\r\n      </defs>\r\n      <use xlink:href=\"#ArialMT-70\"/>\r\n      <use x=\"61.083984\" xlink:href=\"#ArialMT-101\"/>\r\n      <use x=\"116.699219\" xlink:href=\"#ArialMT-109\"/>\r\n      <use x=\"200\" xlink:href=\"#ArialMT-97\"/>\r\n      <use x=\"255.615234\" xlink:href=\"#ArialMT-108\"/>\r\n      <use x=\"277.832031\" xlink:href=\"#ArialMT-101\"/>\r\n     </g>\r\n    </g>\r\n    <g id=\"patch_23\">\r\n     <path d=\"M 828.287031 71.743437 \r\nL 850.287031 71.743437 \r\nL 850.287031 64.043437 \r\nL 828.287031 64.043437 \r\nz\r\n\" style=\"fill:#cc8963;stroke:#4c4c4c;stroke-linejoin:miter;stroke-width:0.75;\"/>\r\n    </g>\r\n    <g id=\"text_20\">\r\n     <!-- Male -->\r\n     <g style=\"fill:#262626;\" transform=\"translate(859.087031 71.743437)scale(0.11 -0.11)\">\r\n      <defs>\r\n       <path d=\"M 7.421875 0 \r\nL 7.421875 71.578125 \r\nL 21.6875 71.578125 \r\nL 38.625 20.90625 \r\nQ 40.96875 13.8125 42.046875 10.296875 \r\nQ 43.265625 14.203125 45.84375 21.78125 \r\nL 62.984375 71.578125 \r\nL 75.734375 71.578125 \r\nL 75.734375 0 \r\nL 66.609375 0 \r\nL 66.609375 59.90625 \r\nL 45.796875 0 \r\nL 37.25 0 \r\nL 16.546875 60.9375 \r\nL 16.546875 0 \r\nz\r\n\" id=\"ArialMT-77\"/>\r\n      </defs>\r\n      <use xlink:href=\"#ArialMT-77\"/>\r\n      <use x=\"83.300781\" xlink:href=\"#ArialMT-97\"/>\r\n      <use x=\"138.916016\" xlink:href=\"#ArialMT-108\"/>\r\n      <use x=\"161.132812\" xlink:href=\"#ArialMT-101\"/>\r\n     </g>\r\n    </g>\r\n   </g>\r\n  </g>\r\n </g>\r\n <defs>\r\n  <clipPath id=\"pe92d853d82\">\r\n   <rect height=\"271.8\" width=\"837\" x=\"68.663438\" y=\"21.935625\"/>\r\n  </clipPath>\r\n </defs>\r\n</svg>\r\n",
      "image/png": "[encoded data removed]"
     },
     "metadata": {
      "needs_background": "light"
     }
    }
   ],
   "source": [
    "# checking for outliers\n",
    "plt.figure(figsize = (15,5))\n",
    "p = sns.boxplot(data = df\n",
    "               ,y = 'Salary'\n",
    "               ,x = 'Department'\n",
    "               ,hue = 'Gender')\n",
    "p.set_title('Salaries by gender and department')\n",
    "plt.show()  "
   ]
  },
  {
   "cell_type": "code",
   "execution_count": 54,
   "metadata": {},
   "outputs": [
    {
     "output_type": "stream",
     "name": "stdout",
     "text": [
      "Female sample size: 98\nMale sample size: 76\nFemale degrees of freedom: 97\nMale degrees of freedom: 75\nDegrees of freedom: 172\n"
     ]
    }
   ],
   "source": [
    "# sample sizes and degrees of freedom\n",
    "n_female = df[df['Gender'] == 'Female'].shape[0]\n",
    "print('Female sample size:',n_female)\n",
    "n_male = df[df['Gender'] == 'Male'].shape[0]\n",
    "print('Male sample size:',n_male)\n",
    "dof_female = n_female - 1\n",
    "print('Female degrees of freedom:',dof_female)\n",
    "dof_male = n_male - 1\n",
    "print('Male degrees of freedom:',dof_male)\n",
    "dof = dof_female + dof_male\n",
    "print('Degrees of freedom:',dof)"
   ]
  },
  {
   "cell_type": "code",
   "execution_count": 55,
   "metadata": {},
   "outputs": [
    {
     "output_type": "stream",
     "name": "stdout",
     "text": [
      "Mean female salary: 65736.91428571429\nMean male salary: 72300.52631578948\nMean difference: -6563.612030075194\n"
     ]
    }
   ],
   "source": [
    "# calculating means and mean difference\n",
    "mean_female = df[df['Gender'] == 'Female']['Salary'].mean()\n",
    "print('Mean female salary:',mean_female)\n",
    "mean_male = df[df['Gender'] == 'Male']['Salary'].mean()\n",
    "print('Mean male salary:',mean_male)\n",
    "mean_diff = mean_female-mean_male\n",
    "print('Mean difference:',mean_diff)"
   ]
  },
  {
   "cell_type": "code",
   "execution_count": 56,
   "metadata": {},
   "outputs": [
    {
     "output_type": "stream",
     "name": "stdout",
     "text": [
      "Female salary variance: 1097618027.67835\nMale salary variance: 1241431654.5630307\nPooled variance: 1160327458.0059724\n"
     ]
    }
   ],
   "source": [
    "# calculating sample variances and pooled variance\n",
    "var_female = df[df['Gender'] == 'Female']['Salary'].var()\n",
    "print('Female salary variance:',var_female)\n",
    "var_male = df[df['Gender'] == 'Male']['Salary'].var()\n",
    "print('Male salary variance:',var_male)\n",
    "var_pooled = (var_female*dof_female+var_male*dof_male)/dof\n",
    "print('Pooled variance:',var_pooled)"
   ]
  },
  {
   "cell_type": "code",
   "execution_count": 57,
   "metadata": {},
   "outputs": [
    {
     "output_type": "stream",
     "name": "stdout",
     "text": [
      "Standard error: 5247.362288771914\n"
     ]
    }
   ],
   "source": [
    "# calculating pooled standard error\n",
    "se_pooled = math.sqrt(var_female/n_female+var_male/n_male)\n",
    "print('Standard error:',se_pooled)"
   ]
  },
  {
   "cell_type": "code",
   "execution_count": 58,
   "metadata": {},
   "outputs": [
    {
     "output_type": "stream",
     "name": "stdout",
     "text": [
      "T-score: 1.2508402639016818\n"
     ]
    }
   ],
   "source": [
    "# calculating T-score\n",
    "T_score = abs((mean_diff-H0)/se_pooled)\n",
    "print('T-score:',T_score)"
   ]
  },
  {
   "cell_type": "code",
   "execution_count": 59,
   "metadata": {},
   "outputs": [
    {
     "output_type": "stream",
     "name": "stdout",
     "text": [
      "P-value: 0.212\n"
     ]
    }
   ],
   "source": [
    "# calculating p-value from t-score for two sided test\n",
    "p_value = round(stats.t.sf(abs(T_score), dof),3)*2\n",
    "print('P-value:',p_value)"
   ]
  },
  {
   "cell_type": "code",
   "execution_count": 60,
   "metadata": {},
   "outputs": [
    {
     "output_type": "stream",
     "name": "stdout",
     "text": [
      "Logic: If the absolute value of p-value is HIGHER than significance level, we cannot reject the Null Hypothesis.\nComparison: Absolute value of p-value: 0.212 is HIGHER than significance level: 0.05\nInterpretation: At the 5% significance level we cannot say that there is gender pay gap at Spark Fortress.\nFinal Decision: Do not reject null hypothesis!\n"
     ]
    }
   ],
   "source": [
    "# rejecting or failing to reject null hypothesis and iterpreting the results\n",
    "if p_value > alpha:\n",
    "    print('Logic: If the absolute value of p-value is HIGHER than significance level, we cannot reject the Null Hypothesis.')\n",
    "    print('Comparison: Absolute value of p-value: {} is HIGHER than significance level: {}'.format(p_value,alpha))\n",
    "    print('Interpretation: At the 5% significance level we cannot say that there is gender pay gap at Spark Fortress.')\n",
    "    print('Final Decision: Do not reject null hypothesis!')\n",
    "else:\n",
    "    print('Logic: If the absolute value of p-value is LOWER than significance level, we reject the Null Hypothesis.')\n",
    "    print('Comparison: Absolute value of p-value: {} is LOWER than significance level: {}'.format(p_value,alpha))\n",
    "    print('Interpretation: At the 5% significance level we can say that there is gender pay gap at Spark Fortress.')\n",
    "    print('Final Decision: Reject null hypothesis!')"
   ]
  },
  {
   "source": [
    "### <a class=\"anchor\" id=\"22\">Part 2.2: Global gender pay gap excl. outliers hypothesis testing.</a>"
   ],
   "cell_type": "markdown",
   "metadata": {}
  },
  {
   "cell_type": "code",
   "execution_count": 64,
   "metadata": {},
   "outputs": [
    {
     "output_type": "stream",
     "name": "stdout",
     "text": [
      ".05 salary quantile: 31200.0\n.95 salary quantile: 118647.35999999999\n"
     ]
    },
    {
     "output_type": "execute_result",
     "data": {
      "text/plain": [
       "     Salary  Is_Outlier\n",
       "0  166400.0           1\n",
       "1  135200.0           1\n",
       "2  124800.0           1\n",
       "3  124800.0           1\n",
       "4  118809.6           1"
      ],
      "text/html": "<div>\n<style scoped>\n    .dataframe tbody tr th:only-of-type {\n        vertical-align: middle;\n    }\n\n    .dataframe tbody tr th {\n        vertical-align: top;\n    }\n\n    .dataframe thead th {\n        text-align: right;\n    }\n</style>\n<table border=\"1\" class=\"dataframe\">\n  <thead>\n    <tr style=\"text-align: right;\">\n      <th></th>\n      <th>Salary</th>\n      <th>Is_Outlier</th>\n    </tr>\n  </thead>\n  <tbody>\n    <tr>\n      <th>0</th>\n      <td>166400.0</td>\n      <td>1</td>\n    </tr>\n    <tr>\n      <th>1</th>\n      <td>135200.0</td>\n      <td>1</td>\n    </tr>\n    <tr>\n      <th>2</th>\n      <td>124800.0</td>\n      <td>1</td>\n    </tr>\n    <tr>\n      <th>3</th>\n      <td>124800.0</td>\n      <td>1</td>\n    </tr>\n    <tr>\n      <th>4</th>\n      <td>118809.6</td>\n      <td>1</td>\n    </tr>\n  </tbody>\n</table>\n</div>"
     },
     "metadata": {},
     "execution_count": 64
    }
   ],
   "source": [
    "# excluding outliers at .05 and .95 quantiles\n",
    "lower = df['Salary'].quantile(0.05)\n",
    "print('.05 salary quantile:',lower)\n",
    "upper = df['Salary'].quantile(0.95)\n",
    "print('.95 salary quantile:',upper)\n",
    "df['Is_Outlier'] =  df['Salary'].apply(lambda x: 1 if x <= lower or x >= upper else 0)\n",
    "df[['Salary','Is_Outlier']].head()"
   ]
  },
  {
   "cell_type": "code",
   "execution_count": 65,
   "metadata": {},
   "outputs": [
    {
     "output_type": "execute_result",
     "data": {
      "text/plain": [
       "0    155\n",
       "1     19\n",
       "Name: Is_Outlier, dtype: int64"
      ]
     },
     "metadata": {},
     "execution_count": 65
    }
   ],
   "source": [
    "# how many outliers are there\n",
    "df['Is_Outlier'].value_counts()"
   ]
  },
  {
   "cell_type": "code",
   "execution_count": 66,
   "metadata": {},
   "outputs": [
    {
     "output_type": "stream",
     "name": "stdout",
     "text": [
      "Female sample size: 86\nMale sample size: 69\nFemale degrees of freedom: 85\nMale degrees of freedom: 68\nDegrees of freedom: 153\n"
     ]
    }
   ],
   "source": [
    "# sample sizes and degrees of freedom\n",
    "n_female = df[(df['Gender'] == 'Female')&(df['Is_Outlier'] == 0)].shape[0]\n",
    "print('Female sample size:',n_female)\n",
    "n_male = df[(df['Gender'] == 'Male')&(df['Is_Outlier'] == 0)].shape[0]\n",
    "print('Male sample size:',n_male)\n",
    "dof_female = n_female - 1\n",
    "print('Female degrees of freedom:',dof_female)\n",
    "dof_male = n_male - 1\n",
    "print('Male degrees of freedom:',dof_male)\n",
    "dof = dof_female + dof_male\n",
    "print('Degrees of freedom:',dof)"
   ]
  },
  {
   "cell_type": "code",
   "execution_count": 67,
   "metadata": {},
   "outputs": [
    {
     "output_type": "stream",
     "name": "stdout",
     "text": [
      "Mean female salary: 64627.53488372093\nMean male salary: 70652.17391304347\nMean difference: -6024.639029322541\n"
     ]
    }
   ],
   "source": [
    "# calculating means and mean difference\n",
    "mean_female = df[(df['Gender'] == 'Female')&(df['Is_Outlier'] == 0)]['Salary'].mean()\n",
    "print('Mean female salary:',mean_female)\n",
    "mean_male = df[(df['Gender'] == 'Male')&(df['Is_Outlier'] == 0)]['Salary'].mean()\n",
    "print('Mean male salary:',mean_male)\n",
    "mean_diff = mean_female-mean_male\n",
    "print('Mean difference:',mean_diff)"
   ]
  },
  {
   "cell_type": "code",
   "execution_count": 68,
   "metadata": {},
   "outputs": [
    {
     "output_type": "stream",
     "name": "stdout",
     "text": [
      "Female salary variance: 858420402.4841799\n",
      "Male salary variance: 1078836151.282251\n",
      "Pooled variance: 956382957.5055447\n"
     ]
    }
   ],
   "source": [
    "# calculating sample variances and pooled variance\n",
    "var_female = df[(df['Gender'] == 'Female')&(df['Is_Outlier'] == 0)]['Salary'].var()\n",
    "print('Female salary variance:',var_female)\n",
    "var_male = df[(df['Gender'] == 'Male')&(df['Is_Outlier'] == 0)]['Salary'].var()\n",
    "print('Male salary variance:',var_male)\n",
    "var_pooled = (var_female*dof_female+var_male*dof_male)/dof\n",
    "print('Pooled variance:',var_pooled)"
   ]
  },
  {
   "cell_type": "code",
   "execution_count": 69,
   "metadata": {},
   "outputs": [
    {
     "output_type": "stream",
     "name": "stdout",
     "text": [
      "Standard error: 5061.317923954967\n"
     ]
    }
   ],
   "source": [
    "# calculating pooled standard error\n",
    "se_pooled = math.sqrt(var_female/n_female+var_male/n_male)\n",
    "print('Standard error:',se_pooled)"
   ]
  },
  {
   "cell_type": "code",
   "execution_count": 70,
   "metadata": {},
   "outputs": [
    {
     "output_type": "stream",
     "name": "stdout",
     "text": [
      "T-score: 1.1903300918537882\n"
     ]
    }
   ],
   "source": [
    "# calculating T-score\n",
    "T_score = abs((mean_diff-H0)/se_pooled)\n",
    "print('T-score:',T_score)"
   ]
  },
  {
   "cell_type": "code",
   "execution_count": 71,
   "metadata": {},
   "outputs": [
    {
     "output_type": "stream",
     "name": "stdout",
     "text": [
      "P-value: 0.236\n"
     ]
    }
   ],
   "source": [
    "# calculating p-value from t-score for two sided test\n",
    "p_value = round(stats.t.sf(abs(T_score), dof),3)*2\n",
    "print('P-value:',p_value)"
   ]
  },
  {
   "cell_type": "code",
   "execution_count": 72,
   "metadata": {},
   "outputs": [
    {
     "output_type": "stream",
     "name": "stdout",
     "text": [
      "Logic: If the absolute value of p-value is HIGHER than significance level, we cannot reject the Null Hypothesis.\nComparison: Absolute value of p-value: 0.236 is HIGHER than significance level: 0.05\nInterpretation: At the 5% significance level we cannot say that there is gender pay gap at Spark Fortress even with outliers being excluded.\nFinal Decision: Do not reject null hypothesis!\n"
     ]
    }
   ],
   "source": [
    "# rejecting or failing to reject null hypothesis and iterpreting the results\n",
    "if p_value > alpha:\n",
    "    print('Logic: If the absolute value of p-value is HIGHER than significance level, we cannot reject the Null Hypothesis.')\n",
    "    print('Comparison: Absolute value of p-value: {} is HIGHER than significance level: {}'.format(p_value,alpha))\n",
    "    print('Interpretation: At the 5% significance level we cannot say that there is gender pay gap at Spark Fortress even with outliers being excluded.')\n",
    "    print('Final Decision: Do not reject null hypothesis!')\n",
    "else:\n",
    "    print('Logic: If the absolute value of p-value is LOWER than significance level, we reject the Null Hypothesis.')\n",
    "    print('Comparison: Absolute value of p-value: {} is LOWER than significance level: {}'.format(p_value,alpha))\n",
    "    print('Interpretation: At the 5% significance level we can say that there is gender pay gap at Spark Fortress with outliers being excluded.')\n",
    "    print('Final Decision: Reject null hypothesis!')"
   ]
  },
  {
   "source": [
    "### <a class=\"anchor\" id=\"23\">Part 2.3: Gender pay gap in IT department excl. outliers hypothesis testing.</a>"
   ],
   "cell_type": "markdown",
   "metadata": {}
  },
  {
   "cell_type": "code",
   "execution_count": 73,
   "metadata": {},
   "outputs": [
    {
     "output_type": "stream",
     "name": "stdout",
     "text": [
      "Female sample size: 12\n",
      "Male sample size: 9\n",
      "Female degrees of freedom: 11\n",
      "Male degrees of freedom: 8\n",
      "Degrees of freedom: 19\n"
     ]
    }
   ],
   "source": [
    "# sample sizes and degrees of freedom\n",
    "n_female = df[(df['Gender'] == 'Female')\n",
    "             &(df['Is_Outlier'] == 0)\n",
    "             &(df['Department'] == 'IT/IS')].shape[0]\n",
    "print('Female sample size:',n_female)\n",
    "n_male = df[(df['Gender'] == 'Male')\n",
    "             &(df['Is_Outlier'] == 0)\n",
    "             &(df['Department'] == 'IT/IS')].shape[0]\n",
    "print('Male sample size:',n_male)\n",
    "dof_female = n_female - 1\n",
    "print('Female degrees of freedom:',dof_female)\n",
    "dof_male = n_male - 1\n",
    "print('Male degrees of freedom:',dof_male)\n",
    "dof = dof_female + dof_male\n",
    "print('Degrees of freedom:',dof)"
   ]
  },
  {
   "cell_type": "code",
   "execution_count": 74,
   "metadata": {},
   "outputs": [
    {
     "output_type": "stream",
     "name": "stdout",
     "text": [
      "Mean female salary: 75883.59999999999\nMean male salary: 85277.68888888888\nMean difference: -9394.088888888888\n"
     ]
    }
   ],
   "source": [
    "# calculating means and mean difference\n",
    "mean_female = df[(df['Gender'] == 'Female')\n",
    "             &(df['Is_Outlier'] == 0)\n",
    "             &(df['Department'] == 'IT/IS')]['Salary'].mean()\n",
    "print('Mean female salary:',mean_female)\n",
    "mean_male = df[(df['Gender'] == 'Male')\n",
    "             &(df['Is_Outlier'] == 0)\n",
    "             &(df['Department'] == 'IT/IS')]['Salary'].mean()\n",
    "print('Mean male salary:',mean_male)\n",
    "mean_diff = mean_female-mean_male\n",
    "print('Mean difference:',mean_diff)"
   ]
  },
  {
   "cell_type": "code",
   "execution_count": 75,
   "metadata": {},
   "outputs": [
    {
     "output_type": "stream",
     "name": "stdout",
     "text": [
      "Female salary variance: 336181505.92\nMale salary variance: 282935792.07111114\nPooled variance: 313762257.98362577\n"
     ]
    }
   ],
   "source": [
    "# calculating sample variances and pooled variance\n",
    "var_female = df[(df['Gender'] == 'Female')\n",
    "             &(df['Is_Outlier'] == 0)\n",
    "             &(df['Department'] == 'IT/IS')]['Salary'].var()\n",
    "print('Female salary variance:',var_female)\n",
    "var_male = df[(df['Gender'] == 'Male')\n",
    "             &(df['Is_Outlier'] == 0)\n",
    "             &(df['Department'] == 'IT/IS')]['Salary'].var()\n",
    "print('Male salary variance:',var_male)\n",
    "var_pooled = (var_female*dof_female+var_male*dof_male)/dof\n",
    "print('Pooled variance:',var_pooled)"
   ]
  },
  {
   "cell_type": "code",
   "execution_count": 76,
   "metadata": {},
   "outputs": [
    {
     "output_type": "stream",
     "name": "stdout",
     "text": [
      "Standard error: 7710.540559743967\n"
     ]
    }
   ],
   "source": [
    "# calculating pooled standard error\n",
    "se_pooled = math.sqrt(var_female/n_female+var_male/n_male)\n",
    "print('Standard error:',se_pooled)"
   ]
  },
  {
   "cell_type": "code",
   "execution_count": 77,
   "metadata": {},
   "outputs": [
    {
     "output_type": "stream",
     "name": "stdout",
     "text": [
      "T-score: 1.218343748547874\n"
     ]
    }
   ],
   "source": [
    "# calculating T-score\n",
    "T_score = abs((mean_diff-H0)/se_pooled)\n",
    "print('T-score:',T_score)"
   ]
  },
  {
   "cell_type": "code",
   "execution_count": 78,
   "metadata": {},
   "outputs": [
    {
     "output_type": "stream",
     "name": "stdout",
     "text": [
      "P-value: 0.238\n"
     ]
    }
   ],
   "source": [
    "# calculating p-value from t-score for two sided test\n",
    "p_value = round(stats.t.sf(abs(T_score), dof),3)*2\n",
    "print('P-value:',p_value)"
   ]
  },
  {
   "cell_type": "code",
   "execution_count": 79,
   "metadata": {},
   "outputs": [
    {
     "output_type": "stream",
     "name": "stdout",
     "text": [
      "Logic: If the absolute value of p-value is HIGHER than significance level, we cannot reject the Null Hypothesis.\nComparison: Absolute value of p-value: 0.238 is HIGHER than significance level: 0.05\nInterpretation: At the 5% significance level we cannot say that there is gender pay gap in IT at Spark Fortress even with outliers being excluded.\nFinal Decision: Do not reject null hypothesis!\n"
     ]
    }
   ],
   "source": [
    "# rejecting or failing to reject null hypothesis and iterpreting the results\n",
    "if p_value > alpha:\n",
    "    print('Logic: If the absolute value of p-value is HIGHER than significance level, we cannot reject the Null Hypothesis.')\n",
    "    print('Comparison: Absolute value of p-value: {} is HIGHER than significance level: {}'.format(p_value,alpha))\n",
    "    print('Interpretation: At the 5% significance level we cannot say that there is gender pay gap in IT at Spark Fortress even with outliers being excluded.')\n",
    "    print('Final Decision: Do not reject null hypothesis!')\n",
    "else:\n",
    "    print('Logic: If the absolute value of p-value is LOWER than significance level, we reject the Null Hypothesis.')\n",
    "    print('Comparison: Absolute value of p-value: {} is LOWER than significance level: {}'.format(p_value,alpha))\n",
    "    print('Interpretation: At the 5% significance level we can say that there is gender pay gap in IT at Spark Fortress with outliers being excluded.')\n",
    "    print('Final Decision: Reject null hypothesis!')"
   ]
  }
 ]
}